{
 "cells": [
  {
   "cell_type": "markdown",
   "metadata": {},
   "source": [
    "# Exploring FLIM Towards Semantic Segmentation\n",
    "\n",
    "> This notebook covers the necessary steps to experiment with a FLIM and a U-Net architecture, visualizing its activations. We will use FLIM to learn our encoder.\n",
    "\n",
    "We will approach the following:\n",
    "\n",
    "1. Split our data into training and testing;\n",
    "2. Configure a dataset;\n",
    "3. Configure our dataset as a data loader to provide data ingestion during the training phase;\n",
    "4. Define a fully convolutional network (U-Net);\n",
    "5. Define a method to load FLIM-Encoder into our U-Net model\n",
    "6. Learning rate schedulers;\n",
    "7. Define a training loop;\n",
    "8. Define a testing loop;\n",
    "9. Run training experiments and test our model;\n",
    "10. Run inferences with FLIM-Encoder using an adaptive decoder."
   ]
  },
  {
   "cell_type": "markdown",
   "metadata": {},
   "source": [
    "## 1. Split data into training and testing sets"
   ]
  },
  {
   "cell_type": "markdown",
   "metadata": {},
   "source": [
    "Let us first define our dataset; we will explore the parasite egg dataset towards 2D segmentation. The eggs are from Schistosoma Mansoni. The cell below imports the necessary libraries."
   ]
  },
  {
   "cell_type": "code",
   "execution_count": 1,
   "metadata": {
    "tags": []
   },
   "outputs": [],
   "source": [
    "# Necessary libraries\n",
    "from pathlib import Path, PosixPath\n",
    "import os\n",
    "from tqdm import tqdm\n",
    "from typing import List, Union\n",
    "import json\n",
    "\n",
    "from PIL import ImageOps\n",
    "from tifffile import imsave\n",
    "import numpy as np\n",
    "import matplotlib.pyplot as plt\n",
    "from PIL import Image\n",
    "\n",
    "import torch\n",
    "from torch.utils.data import Dataset\n",
    "from torch import nn\n",
    "from torchvision import transforms\n",
    "from torch.utils.data import DataLoader\n",
    "import torch_snippets\n",
    "\n",
    "from skimage.color import lab2rgb"
   ]
  },
  {
   "cell_type": "markdown",
   "metadata": {},
   "source": [
    "First, we need to define the path to our dataset. We are using the reshaped parasite dataset (images and labels have a shape of 240x240 pixels with three channels). To run our experiments, we need to use either a GPU (DEVICE) or a CPU (\"cpu\"); for such, we set the DEVICE variable.\n",
    "\n",
    "We will also define the path to a JSON file which specifies our encoder architecture, and a folder with our endoder's weights."
   ]
  },
  {
   "cell_type": "code",
   "execution_count": 2,
   "metadata": {
    "tags": []
   },
   "outputs": [],
   "source": [
    "DATA_PATH = Path(\"../data/parasites\")\n",
    "ORIG_PATH = DATA_PATH / Path(\"all_images\")\n",
    "LABELS_PATH = DATA_PATH / Path(\"all_truelabels\")\n",
    "DEVICE = \"cuda\"\n",
    "\n",
    "ARCH_JSON = Path(\n",
    "    DATA_PATH / Path(\"flim_data/arch2d_seg.json\")\n",
    ")\n",
    "WEIGHTS_PATH = Path(\n",
    "    DATA_PATH / Path(\"flim_data/model_bias\")\n",
    ")\n",
    "\n",
    "# Reads architecture dict to define our network\n",
    "with open(ARCH_JSON, \"r\") as json_data:\n",
    "    arch_description = json.load(json_data)"
   ]
  },
  {
   "cell_type": "markdown",
   "metadata": {},
   "source": [
    "Our dataset contains 96 images. We will further divide it into training and testing images. We will use ~80% to train (76) and ~20% to test (20) the model. You may modify the n_train variable (currently derived using 80% - 0.8 - to adjust train and test size)."
   ]
  },
  {
   "cell_type": "code",
   "execution_count": 3,
   "metadata": {
    "tags": []
   },
   "outputs": [],
   "source": [
    "images = os.listdir(ORIG_PATH)\n",
    "images.sort()\n",
    "labels = images\n",
    "\n",
    "# 80% of train and 20% of test\n",
    "n_train = int((0.8 * len(images)))\n",
    "\n",
    "# Train Data (File Names)\n",
    "train_images = images[:n_train]\n",
    "train_labels = images[:n_train]\n",
    "# Test Data (File Names)\n",
    "test_images = images[n_train:]\n",
    "test_labels = images[n_train:]"
   ]
  },
  {
   "cell_type": "markdown",
   "metadata": {},
   "source": [
    "## 2. Configure a dataset\n",
    "\n",
    "Now, we need to define the Dataset class. It must:\n",
    "\n",
    "- Enable training and testing with a single image (If we want to train with a single image - Overfit). In this case, we set the parameter `image_id` to a number (e.g., 0);\n",
    "- Enable training and testing using the data splits. In this case, we set the parameter `image_id` to `None`."
   ]
  },
  {
   "cell_type": "markdown",
   "metadata": {},
   "source": [
    "First, to efficiently load LAB images we will use our C library (ift) through a python wrapper ([pyift](https://github.com/LIDS-UNICAMP/pyift)). To load our image using pyift, we will use the python package [FLIM](https://github.com/LIDS-UNICAMP/FLIM), which bundles other useful methods to develop convolutional models using FLIM."
   ]
  },
  {
   "cell_type": "code",
   "execution_count": 4,
   "metadata": {
    "tags": []
   },
   "outputs": [],
   "source": [
    "# Import FLIM utils to load images as lab\n",
    "from flim.experiments._image_utils import load_image"
   ]
  },
  {
   "cell_type": "markdown",
   "metadata": {},
   "source": [
    "We start by importing the necessary libraries. As FLIM works with images in the LAB space, we also need to convert our images from RGB to LAB."
   ]
  },
  {
   "cell_type": "code",
   "execution_count": 5,
   "metadata": {
    "tags": []
   },
   "outputs": [],
   "source": [
    "class SegDataset(Dataset):\n",
    "    def __init__(\n",
    "        self,\n",
    "        images_path: PosixPath, # Path to images\n",
    "        labels_path: PosixPath, # Path to labels\n",
    "        images: List[str], # List of images\n",
    "        labels: List[str], # List of labels\n",
    "        image_id: int = None # Image ID if training with a single image\n",
    "    ):\n",
    "        self.images_path = [images_path / Path(image) for image in images]\n",
    "        self.labels_path = [labels_path / Path(label) for label in labels]\n",
    "        self.image_id = image_id\n",
    "\n",
    "        self.transforms = transforms.Compose([\n",
    "            transforms.ToTensor(),\n",
    "            transforms.ConvertImageDtype(torch.float32)\n",
    "        ])  \n",
    "\n",
    "    def __len__(self):\n",
    "        # If image id not provided, we are training with the whole dataset\n",
    "        if self.image_id == None:\n",
    "            return len(self.images_path)\n",
    "        else:\n",
    "            return 1\n",
    "\n",
    "    def __getitem__(self, idx):\n",
    "        if self.image_id == None:\n",
    "            image_path = self.images_path[idx]\n",
    "            label_path = self.labels_path[idx]\n",
    "        else:\n",
    "            image_path = self.images_path[self.image_id]\n",
    "            label_path = self.labels_path[self.image_id]\n",
    "        \n",
    "        image = load_image(str(image_path), lab=True)\n",
    "        image = self.transforms(image)\n",
    "        \n",
    "        label = ImageOps.grayscale(Image.open(label_path))\n",
    "        label = self.transforms(label)\n",
    "        \n",
    "        # Tackles label as a two channel prediction (Background and Foreground)\n",
    "        background = torch.zeros(1, label.shape[1], label.shape[2])\n",
    "        foreground = torch.zeros(1, label.shape[1], label.shape[2])\n",
    "        background[label == 0] = 1\n",
    "        foreground[label == 1] = 1\n",
    "        label = torch.cat([background, foreground], axis=0)\n",
    "\n",
    "        return image, label"
   ]
  },
  {
   "cell_type": "markdown",
   "metadata": {},
   "source": [
    "Now, let us visualize the output of our dataset object for a single image. The method `visualize_dataset_item` enables us to visualize an image of our dataset.\n",
    "\n",
    "Notice that it generates two masks, one for our foreground (parasite egg) and the other for the background."
   ]
  },
  {
   "cell_type": "code",
   "execution_count": 6,
   "metadata": {
    "tags": []
   },
   "outputs": [],
   "source": [
    "# Method to visualize Dataset Item (LAB)\n",
    "def visualize_dataset_item(dataset, item):\n",
    "    img, label = dataset.__getitem__(item)\n",
    "    img = img.permute(1, 2, 0)\n",
    "    img[:,:, 0] = img[:,:, 0] * 99.998337\n",
    "    img[:,:, 1] = img[:,:, 1] * (86.182236 + 98.258614) - 86.182236\n",
    "    img[:,:, 2] = img[:,:, 2] * (107.867744 + 94.481682) - 107.867744\n",
    "    img = lab2rgb(img)\n",
    "\n",
    "    plt.subplot(131)\n",
    "    plt.yticks([]),plt.xticks([])\n",
    "    plt.title(\"Image\")\n",
    "    plt.imshow(img)\n",
    "    plt.subplot(132)\n",
    "    plt.yticks([]),plt.xticks([])\n",
    "    plt.title(\"Background\")\n",
    "    plt.imshow(label[0], cmap=\"gray\")\n",
    "    plt.subplot(133)\n",
    "    plt.yticks([]),plt.xticks([])\n",
    "    plt.title(\"Foreground\")\n",
    "    plt.imshow(label[1], cmap=\"gray\")"
   ]
  },
  {
   "cell_type": "markdown",
   "metadata": {},
   "source": [
    "Then, we define our dataset using all training and testing data."
   ]
  },
  {
   "cell_type": "code",
   "execution_count": 7,
   "metadata": {
    "tags": []
   },
   "outputs": [],
   "source": [
    "# DATASETS - TRAIN AND TEST\n",
    "train_dataset = SegDataset(\n",
    "    images_path=ORIG_PATH,\n",
    "    labels_path=LABELS_PATH,\n",
    "    images=train_images,\n",
    "    labels=train_labels,\n",
    "    image_id=None\n",
    ")\n",
    "test_dataset = SegDataset(\n",
    "    images_path=ORIG_PATH,\n",
    "    labels_path=LABELS_PATH,\n",
    "    images=test_images,\n",
    "    labels=test_labels,\n",
    "    image_id=None\n",
    ")"
   ]
  },
  {
   "cell_type": "markdown",
   "metadata": {},
   "source": [
    "Test the method `visualize_dataset_item` to visualize different images (change the `dataset` and `item` parameters)."
   ]
  },
  {
   "cell_type": "code",
   "execution_count": 8,
   "metadata": {
    "tags": []
   },
   "outputs": [
    {
     "data": {
      "image/png": "[encoded data removed]",
      "text/plain": [
       "<Figure size 432x288 with 3 Axes>"
      ]
     },
     "metadata": {},
     "output_type": "display_data"
    }
   ],
   "source": [
    "visualize_dataset_item(train_dataset, 1)"
   ]
  },
  {
   "cell_type": "markdown",
   "metadata": {},
   "source": [
    "## 3. Configure our dataset as a dataloader"
   ]
  },
  {
   "cell_type": "markdown",
   "metadata": {},
   "source": [
    "Through PyTorch data loader ([`torch.utils.data.DataLoader`](https://pytorch.org/docs/stable/data.html#torch.utils.data.DataLoader)), we configure our dataset as a data loader by using:\n",
    "\n",
    "- A Dataset (Our Train and Test datasets);\n",
    "- A batch size (Number of images used to update the model's parameters);\n",
    "- If we want to shuffle our data at each epoch (We see images in different orders for each epoch)."
   ]
  },
  {
   "cell_type": "code",
   "execution_count": 9,
   "metadata": {
    "tags": []
   },
   "outputs": [
    {
     "name": "stdout",
     "output_type": "stream",
     "text": [
      "Images shape =>  torch.Size([4, 3, 240, 240])\n",
      "Labels shape =>  torch.Size([4, 2, 240, 240])\n"
     ]
    }
   ],
   "source": [
    "# DATALOADERS - TRAIN AND TEST\n",
    "train_dataloader = DataLoader(train_dataset, batch_size=4, shuffle=True)\n",
    "test_dataloader  = DataLoader(test_dataset, batch_size=1, shuffle=False)\n",
    "\n",
    "# Visualizes shape of a batch sampled from train dataloder\n",
    "sample_train_images, sample_train_labels = next(iter(train_dataloader))\n",
    "print(\"Images shape => \", sample_train_images.shape)\n",
    "print(\"Labels shape => \", sample_train_labels.shape)"
   ]
  },
  {
   "cell_type": "markdown",
   "metadata": {},
   "source": [
    "## 4. Define a fully convolutional network (U-Net)\n",
    "\n",
    "Now, we have a dataloader working. It is responsible for feeding data, both the input image and the parasite egg's segmentation mask, to a deep learning model. We expect that, given an input image, our model will learn to segment the parasite egg, if any.\n",
    "\n",
    "Now, the following cells define our deep-learning model, a U-Net architecture (**see the image below**). We also enable our model to store the activation maps for visual analysis.\n",
    "\n",
    "U-Net architectures have two parts: an encoder (left part) and a decoder (right part). The encoder extracts image features at different levels while the encoder combines those extracted features to detect and segment.\n",
    "\n",
    "![](arch_sample_flim.png)"
   ]
  },
  {
   "cell_type": "markdown",
   "metadata": {},
   "source": [
    "Let us first define some methods to help us:\n",
    "\n",
    "- **up_conv:** Implements our **ConvTranspose2d** convolutions, responsible for upsampling our features in the decoder;\n",
    "- **Conv:** Implements our **Conv2D** in decoders;\n",
    "- **init_weights:** Initializes our model's parameters, using Xavier uniform for convolution's weights and setting biases to 0.01."
   ]
  },
  {
   "cell_type": "code",
   "execution_count": 10,
   "metadata": {
    "tags": []
   },
   "outputs": [],
   "source": [
    "# Utilitarians blocks for UNet Decoder\n",
    "# Upsamples input feature map\n",
    "def up_conv(in_channels, out_channels, kernel_size=2, padding=0, stride=2, output_padding=0):\n",
    "    return nn.Sequential(\n",
    "        nn.ConvTranspose2d(in_channels, out_channels, kernel_size=kernel_size, padding=padding, stride=stride, output_padding=output_padding),\n",
    "        nn.ReLU(inplace=True)\n",
    "    )\n",
    "    \n",
    "# Defines convolutional blocks for our decoder\n",
    "def conv(in_channels, out_channels, kernel_size, padding=1):\n",
    "    return nn.Sequential(\n",
    "        nn.Conv2d(in_channels, out_channels, kernel_size=kernel_size, stride=1, padding=padding),\n",
    "        nn.BatchNorm2d(out_channels),\n",
    "        nn.ReLU(inplace=True),\n",
    "    )\n",
    "    \n",
    "# Initializes kernel weights\n",
    "def init_weights(m):\n",
    "    if (isinstance(m,nn.Conv2d) or (isinstance(m,nn.ConvTranspose2d))):\n",
    "        torch.nn.init.xavier_uniform_(m.weight)\n",
    "        if m.bias is not None:\n",
    "            m.bias.data.fill_(0.01)"
   ]
  },
  {
   "cell_type": "markdown",
   "metadata": {},
   "source": [
    "Now, the class UNet defines our U-Net architecture:\n",
    "\n",
    "1. On the **__init__** method, we first set a random_seed to guarantee reproducibility. Then, we define our encoder blocks (block1, and block2), our bottleneck, and finally, our decoder (up_convs + dec_convs and the pred convolution, which outputs our segmentation mask);\n",
    "2. Our **forward** method is responsible for passing the input image through the model architecture until we get the parasite egg's mask at the end;\n",
    "3. **write_activation** and **save_activations** saves activations of each network block for visual inspection;\n",
    "4. **save_curves** will save the learning curves of our models at the end of our training loop.\n",
    "\n",
    "To initialize a U-Net model, we must set the following parameters:\n",
    "\n",
    "- `in_channels:` The number of channels of our input (e.g., 3 for RGB and 1 for Gray);\n",
    "- `n_kernels:` A list of 3 integer values specifying the number of kernels for each convolutional block (e.g., [8, 16,32]). Those values are used to define both encoder and decoder convolutional blocks;\n",
    "- `kernel_sizes:` A list of 3 integer values, specifying the kernels' size for each convolutional block (e.g., [3, 3, 3]);\n",
    "- `activations_path:` A path to save each convolutional block activation. After training, one could navigate into that folder to visualize what kind of features the model is extracting."
   ]
  },
  {
   "cell_type": "code",
   "execution_count": 11,
   "metadata": {
    "tags": []
   },
   "outputs": [],
   "source": [
    "class UNet(nn.Module):\n",
    "    def __init__(\n",
    "            self, in_channels: int, # RGB or LAB -> 3 Channels\n",
    "            n_kernels: List[int], # N Kernels by conv block\n",
    "            kernel_sizes: List[int], # Kernel sizes by conv block\n",
    "            bottleneck_size: int, # Kernel size for bottleneck\n",
    "            activations_path: PosixPath = None # Path to save activations\n",
    "    ) -> None:\n",
    "        super().__init__()\n",
    "        \n",
    "        # Sets torch seed to guaratee Reproducibility\n",
    "        random_seed = 7\n",
    "        torch.manual_seed(random_seed)\n",
    "        torch.cuda.manual_seed(random_seed)\n",
    "        torch.backends.cudnn.deterministic = True\n",
    "        torch.backends.cudnn.benchmark = False\n",
    "        \n",
    "        self.activations_path = activations_path\n",
    "        \n",
    "        # Encoder Convolutional Blocks\n",
    "        self.block1 = nn.Sequential(\n",
    "            nn.Conv2d(\n",
    "                in_channels=in_channels, out_channels=n_kernels[0],\n",
    "                kernel_size=kernel_sizes[0],\n",
    "                padding=kernel_sizes[0] // 2\n",
    "            ),\n",
    "            nn.ReLU(),\n",
    "            nn.MaxPool2d(\n",
    "                kernel_size=3, stride=2,\n",
    "                padding=1\n",
    "            )\n",
    "        )\n",
    "        self.block2 = nn.Sequential(\n",
    "            nn.Conv2d(\n",
    "                in_channels=n_kernels[0], out_channels=n_kernels[1],\n",
    "                kernel_size=kernel_sizes[1],\n",
    "                padding=kernel_sizes[1] // 2\n",
    "            ),\n",
    "            nn.ReLU(),\n",
    "            nn.MaxPool2d(\n",
    "                kernel_size=3, stride=2,\n",
    "                padding=1\n",
    "            )\n",
    "        )\n",
    "        \n",
    "        # Bottleneck\n",
    "        self.bottleneck = nn.Conv2d(\n",
    "            in_channels=n_kernels[1], out_channels=2*n_kernels[1], \n",
    "            kernel_size=bottleneck_size, stride=2, padding=bottleneck_size//2\n",
    "        )\n",
    "        \n",
    "        # Decoder\n",
    "        self.up_conv1 = up_conv(\n",
    "            in_channels=2*n_kernels[1], out_channels=n_kernels[1]\n",
    "        )\n",
    "        self.dec_conv1 = conv(\n",
    "            in_channels=2*n_kernels[1], out_channels=n_kernels[1],\n",
    "            kernel_size=kernel_sizes[1], padding=kernel_sizes[1] // 2\n",
    "        )\n",
    "        self.up_conv2 = up_conv(\n",
    "            in_channels=n_kernels[1], out_channels=n_kernels[0]\n",
    "        )\n",
    "        self.dec_conv2 = conv(\n",
    "            in_channels=2*n_kernels[0], out_channels=n_kernels[0],\n",
    "            kernel_size=kernel_sizes[0], padding=kernel_sizes[0] // 2\n",
    "        )\n",
    "        self.up_conv_pred = up_conv(\n",
    "            in_channels=n_kernels[0], out_channels=n_kernels[0]\n",
    "        )\n",
    "        self.pred = nn.Conv2d(\n",
    "            in_channels=n_kernels[0], out_channels=2, kernel_size=1\n",
    "        )\n",
    "        \n",
    "        # Initializes weights\n",
    "        self.block1.apply(init_weights)\n",
    "        self.block2.apply(init_weights)\n",
    "        self.up_conv1.apply(init_weights)\n",
    "        self.dec_conv1.apply(init_weights)\n",
    "        self.up_conv2.apply(init_weights)\n",
    "        self.dec_conv2.apply(init_weights)\n",
    "        self.up_conv_pred.apply(init_weights)\n",
    "        self.pred.apply(init_weights)    \n",
    "    \n",
    "    def forward(self, x: torch.Tensor) -> torch.Tensor:\n",
    "        # Dictionary to keep track of activations\n",
    "        self.activations = {\"encoder\": [], \"decoder\": []}\n",
    "              \n",
    "        # Encoder\n",
    "        x1 = self.block1(x)\n",
    "        self.activations[\"encoder\"].append(x1)\n",
    "        x2 = self.block2(x1)\n",
    "        self.activations[\"encoder\"].append(x2)\n",
    "        \n",
    "        # Bottleneck\n",
    "        bottleneck = self.bottleneck(x2)\n",
    "        \n",
    "        # Decoder - torch.cat performs skip connections on decoder\n",
    "        x = self.up_conv1(bottleneck)\n",
    "        x = torch.cat([x, x2], dim=1)\n",
    "        x = self.dec_conv1(x)\n",
    "        self.activations[\"decoder\"].append(x)\n",
    "        x = self.up_conv2(x)\n",
    "        x = torch.cat([x, x1], dim=1)\n",
    "        x = self.dec_conv2(x)\n",
    "        self.activations[\"decoder\"].append(x)\n",
    "        x = self.up_conv_pred(x)\n",
    "        x = self.pred(x)\n",
    "        \n",
    "        return x\n",
    "    \n",
    "    def write_activation(\n",
    "        self, image: np.ndarray, path: PosixPath, reshape: bool=False\n",
    "    ) -> None:\n",
    "        max_img = np.max(image)\n",
    "        min_img = np.min(image)\n",
    "        if (min_img != max_img):\n",
    "            image = 255 * (image - min_img) / (max_img - min_img)\n",
    "        image = image.astype(np.uint8)\n",
    "\n",
    "        image = Image.fromarray(image)\n",
    "        if reshape:\n",
    "            image = image.resize((240, 240), Image.Resampling.NEAREST)\n",
    "        image.save(path)\n",
    "    \n",
    "    @torch.no_grad()\n",
    "    def save_activations(self, epoch: int, data_loader) -> None:\n",
    "        # Save encoder activations\n",
    "        activations_path = self.activations_path / Path(f\"epoch_{epoch}\")\n",
    "        \n",
    "        # Save activations for each image\n",
    "        print(\"[INFO] Saving activations!\")\n",
    "        images_path = data_loader.dataset.images_path\n",
    "        for image_path in tqdm(images_path):\n",
    "            image_name = os.path.basename(image_path)\n",
    "            saving_path = activations_path / Path(image_name.replace(\".png\",\"\")) / Path(\"encoder\")\n",
    "            saving_path_reshape = activations_path / Path(image_name.replace(\".png\",\"\")) / Path(\"encoder_reshape\") \n",
    "            os.makedirs(saving_path, exist_ok=True)\n",
    "            os.makedirs(saving_path_reshape, exist_ok=True)\n",
    "            \n",
    "            image = load_image(str(image_path), lab=True)\n",
    "            image_data = data_loader.dataset.transforms(image)\n",
    "            \n",
    "            # Adds batch dimension\n",
    "            image_data = torch.unsqueeze(image_data, dim=0)\n",
    "            image_data = image_data.to(DEVICE)\n",
    "            self.to(DEVICE)\n",
    "            self.forward(image_data)\n",
    "        \n",
    "            # Save encoder activations\n",
    "            for actv_idx, activations in enumerate(self.activations[\"encoder\"]):\n",
    "                activations = activations.cpu().detach().numpy()\n",
    "                for ch_idx in range(activations.shape[1]):\n",
    "                    channel_activations = activations[0, ch_idx, ...]\n",
    "\n",
    "                    filename = Path(f\"layer_{actv_idx}_ch_{ch_idx}.png\")\n",
    "                    # Save normal size image\n",
    "                    self.write_activation(\n",
    "                        channel_activations, saving_path / filename\n",
    "                    )\n",
    "                    # Reshape to input size\n",
    "                    self.write_activation(\n",
    "                        channel_activations, saving_path_reshape / filename, True\n",
    "                )\n",
    "                    \n",
    "            # Save decoder activations\n",
    "            saving_path = activations_path / Path(image_name.replace(\".png\",\"\")) / Path(\"decoder\")\n",
    "            saving_path_reshape = activations_path / Path(image_name.replace(\".png\",\"\")) / Path(\"decoder_reshape\") \n",
    "            os.makedirs(saving_path, exist_ok=True)\n",
    "            os.makedirs(saving_path_reshape, exist_ok=True)\n",
    "            for actv_idx, activations in enumerate(self.activations[\"decoder\"]):\n",
    "                activations = activations.cpu().detach().numpy()\n",
    "                for ch_idx in range(activations.shape[1]):\n",
    "                    channel_activations = activations[0, ch_idx, ...]\n",
    "\n",
    "                    filename = Path(f\"layer_{actv_idx}_ch_{ch_idx}.png\")\n",
    "                    # Save normal size imagace\n",
    "                    self.write_activation(\n",
    "                        channel_activations, saving_path / filename\n",
    "                    )\n",
    "                    # Reshape to input size\n",
    "                    self.write_activation(\n",
    "                        channel_activations, saving_path_reshape / filename, True\n",
    "                    )\n",
    "\n",
    "        # Save model weights\n",
    "        torch.save(self.state_dict(), activations_path / Path(\"model.pth\"))\n",
    "        \n",
    "    def save_curves(self, logger: torch_snippets.torch_loader.Report) -> None:\n",
    "        _, ax = plt.subplots(figsize=(8, 6))\n",
    "        logger.plot_epochs(['trn_loss'], ax=ax)\n",
    "        savefig_path = self.activations_path / Path(\"loss.png\")\n",
    "        plt.savefig(savefig_path)\n",
    "        \n",
    "        _, ax = plt.subplots(figsize=(8, 6))\n",
    "        logger.plot_epochs(['trn_accuracy'], ax=ax)\n",
    "        savefig_path = self.activations_path / Path(\"accuracy.png\")\n",
    "        plt.savefig(savefig_path)"
   ]
  },
  {
   "cell_type": "markdown",
   "metadata": {},
   "source": [
    "## 5. Define a method to load FLIM-Encoder into our U-Net model"
   ]
  },
  {
   "cell_type": "markdown",
   "metadata": {},
   "source": [
    "Additionally, as we will use a FLIM Encoder as our U-Net encoder, we define methods to load the FLIM Encoder's weight into the U-Net encoder.\n",
    "\n",
    "The method `load_FLIM_encoder`, receives as parameters:\n",
    "\n",
    "- `model`: Our U-Net model;\n",
    "- `arch_json`: The path to a JSON file describing our FLIM-Encoder;\n",
    "- `weights_path`: The path to a folder with the FLIM-Encoder's weights;\n",
    "- `channels`: A list specifying the number of input channels (e.g., 3 for RGB) and the number of filters for each encoder convolutional block."
   ]
  },
  {
   "cell_type": "code",
   "execution_count": 12,
   "metadata": {
    "tags": []
   },
   "outputs": [],
   "source": [
    "def get_bias(bias_path: PosixPath) -> np.ndarray:\n",
    "    with open(bias_path, \"r\") as file:\n",
    "        n_kernels = file.readline()\n",
    "        bias = file.readline().strip().split(\" \")\n",
    "    \n",
    "    bias = np.array(bias).astype(np.float32)\n",
    "    \n",
    "    return bias\n",
    "\n",
    "\n",
    "def shift_weights(weights: np.ndarray, kernel_size: int, in_channels: int) -> np.ndarray:\n",
    "\n",
    "    nkernels = weights.shape[1]\n",
    "    \n",
    "    shifted_weights = np.zeros((nkernels,in_channels,kernel_size[1],kernel_size[0]))    \n",
    "   \n",
    "    for k in range(nkernels): \n",
    "        for channel in range(in_channels):\n",
    "            i = channel\n",
    "            for row in range(kernel_size[1]):\n",
    "                for col in range(kernel_size[0]):\n",
    "                    shifted_weights[k][channel][row][col] = weights[i][k]\n",
    "                    i = i + in_channels\n",
    "\n",
    "    return shifted_weights\n",
    "\n",
    "\n",
    "def get_weights(kernel_path: PosixPath,  kernel_size: int, in_channels: int) -> np.ndarray:\n",
    "    weights = np.load(kernel_path)\n",
    "    weights = shift_weights(weights, kernel_size, in_channels)\n",
    "    \n",
    "    return weights\n",
    "\n",
    "def load_FLIM_encoder(model: UNet, arch_json: PosixPath, weights_path: PosixPath, channels: List[int]) -> None:\n",
    "    with open(arch_json, \"r\") as json_data:\n",
    "        arch_description = json.load(json_data)\n",
    "    \n",
    "    n_layers = arch_description[\"nlayers\"]\n",
    "    \n",
    "    in_channels = channels[0]\n",
    "    print(\"[INFO] Loading FLIM Encoder\")\n",
    "    for n in range(1, n_layers + 1):\n",
    "        out_channels = channels[n]\n",
    "\n",
    "        print(f\"[INFO] Loading Layer {n} weights\")\n",
    "        # Gets each encoder Block to set its weights and biases\n",
    "        model_block = getattr(model, f\"block{n}\")\n",
    "        \n",
    "        # Sets its biases\n",
    "        bias_path = weights_path / Path(f\"conv{n}-bias.txt\")\n",
    "        kernel_path = weights_path / Path(f\"conv{n}-kernels.npy\")\n",
    "        # Get biases and set to model - Accessing conv block biases\n",
    "        bias = get_bias(bias_path)\n",
    "        bias = nn.Parameter(torch.from_numpy(bias).float())\n",
    "        model_block[0].bias.data = bias.to(DEVICE)\n",
    "        \n",
    "        # Get kernel weights and set to model - Accessing conv block weights\n",
    "        kernel_size = arch_description[f\"layer{n}\"][\"conv\"][\"kernel_size\"]\n",
    "        weights = get_weights(kernel_path, kernel_size, in_channels)\n",
    "        weights = nn.Parameter(torch.from_numpy(weights).float())\n",
    "        model_block[0].weight.data = weights.to(DEVICE)\n",
    "        \n",
    "        in_channels = channels[n]"
   ]
  },
  {
   "cell_type": "markdown",
   "metadata": {},
   "source": [
    "## 6. Learning rate scheduler"
   ]
  },
  {
   "cell_type": "markdown",
   "metadata": {},
   "source": [
    "Fine-tuning an architecture already trained with an untrained decoder running the first epochs with a small learning rate is helpful. As the first epochs using an untrained decoder will result in higher errors, a lower learning rate scheduler avoids \"forgetting\" what the FLIM-Encoder has already learned.\n",
    "\n",
    "The cell below shows how to define and use a learning rate scheduler."
   ]
  },
  {
   "cell_type": "code",
   "execution_count": 13,
   "metadata": {
    "tags": []
   },
   "outputs": [],
   "source": [
    "# Import necessary libraries\n",
    "import torch.optim as optim\n",
    "import torch.optim.lr_scheduler as lr_scheduler"
   ]
  },
  {
   "cell_type": "code",
   "execution_count": 14,
   "metadata": {
    "tags": []
   },
   "outputs": [],
   "source": [
    "# create a simple model \n",
    "model = nn.Sequential(\n",
    "    nn.Linear(34, 34),\n",
    "    nn.ReLU(),\n",
    "    nn.Linear(34, 1),\n",
    "    nn.Sigmoid()\n",
    ")\n",
    "\n",
    "lr=1e-3\n",
    "optimizer = optim.Adam(model.parameters(), lr=lr)\n",
    "loss_fn = nn.BCELoss()\n",
    "# Start Factor of the optimizer learning rate\n",
    "# End factor of the optimizer learning rate\n",
    "# Total iterations to increase from Start to End Factor\n",
    "scheduler = lr_scheduler.LinearLR(\n",
    "    optimizer, start_factor=1e-3, end_factor=1,\n",
    "    total_iters=400, verbose=False\n",
    ")\n",
    "\n",
    "# List to plot our results\n",
    "lrs = []\n",
    "epochs = []\n",
    "\n",
    "for epoch in range(1000):\n",
    "    lr = scheduler.get_last_lr()\n",
    "    epochs.append(epoch+1)\n",
    "    lrs.append(lr)\n",
    "    optimizer.step()\n",
    "    scheduler.step()"
   ]
  },
  {
   "cell_type": "markdown",
   "metadata": {},
   "source": [
    "The cell below shows our learning rate across 1000 training epochs."
   ]
  },
  {
   "cell_type": "code",
   "execution_count": 15,
   "metadata": {
    "tags": []
   },
   "outputs": [
    {
     "data": {
      "image/png": "[encoded data removed]",
      "text/plain": [
       "<Figure size 432x288 with 1 Axes>"
      ]
     },
     "metadata": {
      "needs_background": "light"
     },
     "output_type": "display_data"
    }
   ],
   "source": [
    "plt.plot(epochs, lrs, \"b--\")\n",
    "plt.xlabel(\"Epochs\")\n",
    "plt.ylabel(\"Learning Rate\")\n",
    "plt.title(\"Learning Rate Vs Epochs\")\n",
    "plt.show()"
   ]
  },
  {
   "cell_type": "markdown",
   "metadata": {},
   "source": [
    "## 7. Define a training loop"
   ]
  },
  {
   "cell_type": "markdown",
   "metadata": {},
   "source": [
    "We have everything prepared in our pipeline; we lack a training loop that will feed data from the data loader to our model and use the model's prediction to compute loss and update the model's parameter.\n",
    "\n",
    "Furthermore, as we are using a FLIM-Encoder, we want our training loop to have two additional features:\n",
    "\n",
    "- **Freeze the Encoder's Weights**: In this case, we do not learn the encoder; our training loop updates the decoder's parameters.\n",
    "- **Train with a Learning Rate Scheduler:** We use a learning rate scheduler to optimize the encoder's weights."
   ]
  },
  {
   "cell_type": "markdown",
   "metadata": {},
   "source": [
    "First, we import the necessary libraries."
   ]
  },
  {
   "cell_type": "code",
   "execution_count": 16,
   "metadata": {
    "tags": []
   },
   "outputs": [
    {
     "name": "stderr",
     "output_type": "stream",
     "text": [
      "2023-11-20 19:51:20.089674: I tensorflow/core/platform/cpu_feature_guard.cc:193] This TensorFlow binary is optimized with oneAPI Deep Neural Network Library (oneDNN) to use the following CPU instructions in performance-critical operations:  AVX2 FMA\n",
      "To enable them in other operations, rebuild TensorFlow with the appropriate compiler flags.\n",
      "2023-11-20 19:51:20.231206: E tensorflow/stream_executor/cuda/cuda_blas.cc:2981] Unable to register cuBLAS factory: Attempting to register factory for plugin cuBLAS when one has already been registered\n",
      "2023-11-20 19:51:20.690905: W tensorflow/stream_executor/platform/default/dso_loader.cc:64] Could not load dynamic library 'libnvinfer.so.7'; dlerror: libnvinfer.so.7: cannot open shared object file: No such file or directory; LD_LIBRARY_PATH: /home/afalcao/miniconda3/envs/mo445/lib/python3.10/site-packages/cv2/../../lib64::/home/afalcao/software/Elastix/lib:/usr/local/cuda/lib64:/home/afalcao/Qt/6.3.1/gcc_64/lib:/home/afalcao/software/FeTS\n",
      "2023-11-20 19:51:20.691016: W tensorflow/stream_executor/platform/default/dso_loader.cc:64] Could not load dynamic library 'libnvinfer_plugin.so.7'; dlerror: libnvinfer_plugin.so.7: cannot open shared object file: No such file or directory; LD_LIBRARY_PATH: /home/afalcao/miniconda3/envs/mo445/lib/python3.10/site-packages/cv2/../../lib64::/home/afalcao/software/Elastix/lib:/usr/local/cuda/lib64:/home/afalcao/Qt/6.3.1/gcc_64/lib:/home/afalcao/software/FeTS\n",
      "2023-11-20 19:51:20.691022: W tensorflow/compiler/tf2tensorrt/utils/py_utils.cc:38] TF-TRT Warning: Cannot dlopen some TensorRT libraries. If you would like to use Nvidia GPU with TensorRT, please make sure the missing libraries mentioned above are installed properly.\n"
     ]
    }
   ],
   "source": [
    "from torch_snippets import optim, Report\n",
    "from torchsummary import summary\n",
    "import monai\n",
    "from monai.losses import DiceLoss, DiceFocalLoss\n",
    "import cv2"
   ]
  },
  {
   "cell_type": "markdown",
   "metadata": {},
   "source": [
    "Secondly, we define a loss function which we want to optimize. Those loss functions were calculated by comparing the model's prediction with the ground-truth segmentation mask. To optimize those loss functions is to produce better segmentation masks.\n",
    "\n",
    "Below, we made avaialable the following losses:\n",
    "\n",
    "- [MSE](https://pytorch.org/docs/stable/generated/torch.nn.MSELoss.html#torch.nn.MSELoss)\n",
    "- [BCE](https://pytorch.org/docs/stable/generated/torch.nn.BCELoss.html#torch.nn.BCELoss)\n",
    "- [DiceLoss](https://docs.monai.io/en/stable/losses.html)\n",
    "\n",
    "> See our slide decks and the link provided for further details."
   ]
  },
  {
   "cell_type": "code",
   "execution_count": 17,
   "metadata": {
    "tags": []
   },
   "outputs": [],
   "source": [
    "loss_fuctions = {\n",
    "    \"mse\": nn.MSELoss(),\n",
    "    \"bce\": nn.BCELoss(),\n",
    "    \"dice\": DiceLoss(sigmoid=True, batch=True),\n",
    "}"
   ]
  },
  {
   "cell_type": "markdown",
   "metadata": {},
   "source": [
    "Now, we define our loss class. It is responsible for computing the loss for both masks (background and foreground), but it also enables us to set different weights for each mask.\n",
    "\n",
    "To configure it, we must:\n",
    "\n",
    "- Provide a loss function from the dictionary above (`loss_fn parameter`);\n",
    "- Set the `weights` parameters as a list with weights for each class."
   ]
  },
  {
   "cell_type": "code",
   "execution_count": 18,
   "metadata": {
    "tags": []
   },
   "outputs": [],
   "source": [
    "class Loss(nn.Module):\n",
    "    def __init__(\n",
    "            self,\n",
    "            loss_fn,\n",
    "            weights: List[float] = [1.0, 1.0]\n",
    "        ):\n",
    "        super().__init__()\n",
    "        self.loss_fn = loss_fn\n",
    "        self.background_weight = weights[0]\n",
    "        self.foreground_weight = weights[1]\n",
    "\n",
    "    def forward(self, y_pred, y_true):\n",
    "        background_loss = self.loss_fn(y_pred[:,0, ...], y_true[:, 0, ...])\n",
    "        foreground_loss = self.loss_fn(y_pred[:,1, ...], y_true[:, 1, ...])\n",
    "        background_loss *= self.background_weight\n",
    "        foreground_loss *= self.foreground_weight\n",
    "        loss = background_loss + foreground_loss\n",
    "        return loss"
   ]
  },
  {
   "cell_type": "markdown",
   "metadata": {},
   "source": [
    "Finally, we define our training loop. For such, we must provide:\n",
    "\n",
    "- The number of epochs to train our model;\n",
    "- Our U-Net model;\n",
    "- A data loader;\n",
    "- The name of our loss_function (e.g., \"mse\", \"bce\");\n",
    "- Our learning rate (lr), which controls the size of updates in the models' parameters. A too-high value will cause instability, while a too-low value will result in slower training;\n",
    "- A list with weights for background and foreground (e.g., [1, 1]).\n",
    "- The `freeze_encoder` parameter. `False` allows our training loop to update the encoder's weights, while `True` does not allow it.\n",
    "- The `use_lr_scheduler` parameter. `True` allows our training loop to use a learning rate scheduler, while `True` uses a fixed learning rate.\n",
    "\n",
    "> The N_SAVE_ACTIVATIONS variable controls when we save our convolution activations. For instance, currently, it writes activations for every 200 epochs."
   ]
  },
  {
   "cell_type": "code",
   "execution_count": 19,
   "metadata": {
    "tags": []
   },
   "outputs": [],
   "source": [
    "N_SAVE_ACTIVATIONS = 100\n",
    "def train_loop(\n",
    "        epochs, model, dataloader, lr, loss_function, weights,\n",
    "        freeze_encoder=False, use_lr_scheduler=False\n",
    "    ):\n",
    "    optimizer = optim.Adam(model.parameters(), lr=lr)\n",
    "    if use_lr_scheduler:\n",
    "        scheduler = lr_scheduler.LinearLR(optimizer, start_factor=1e-1, end_factor=1, total_iters=10, verbose=False)\n",
    "    model.to(DEVICE)\n",
    "    \n",
    "    # Freeze encoder weights\n",
    "    if freeze_encoder:\n",
    "        model.block1.requires_grad_(False)\n",
    "        model.block1.trainable = False\n",
    "        model.block2.requires_grad_(False)\n",
    "        model.block2.trainable = False\n",
    "    \n",
    "    logger = Report(epochs)\n",
    "    loss = Loss(loss_function, weights)\n",
    "\n",
    "    for epoch in range(epochs):\n",
    "        losses = []\n",
    "        accuracies = []\n",
    "        for batch in dataloader: # In our case, a single image, or 3\n",
    "            model.train()\n",
    "            image, ground_truth = batch\n",
    "            image = image.to(DEVICE)\n",
    "            ground_truth = ground_truth.to(DEVICE)\n",
    "            prediction = model(image)\n",
    "            optimizer.zero_grad()\n",
    "\n",
    "            # Computes loss and accuracy\n",
    "            prediction = torch.sigmoid(prediction)\n",
    "            loss_value = loss(prediction, ground_truth)\n",
    "\n",
    "            accuracy = (\n",
    "                (prediction[:,1,...] > prediction[:,0,...]) == ground_truth[:,1,...]\n",
    "            ).float().mean()\n",
    "            \n",
    "            losses.append(loss_value)\n",
    "            accuracies.append(accuracy)\n",
    "\n",
    "            loss_value.backward()\n",
    "            optimizer.step()\n",
    "        \n",
    "        # At the end of the epoch, we take a step in our LR Scheduler\n",
    "        if use_lr_scheduler:\n",
    "            scheduler.step()\n",
    "        \n",
    "        mean_loss = torch.mean(torch.Tensor(losses))\n",
    "        mean_acc = torch.mean(torch.Tensor(accuracies))\n",
    "        logger.record(\n",
    "            epoch + 1,\n",
    "            trn_loss=mean_loss.item(),\n",
    "            trn_accuracy=mean_acc.item()\n",
    "            )\n",
    "        if ((epoch + 1) % N_SAVE_ACTIVATIONS) == 0:\n",
    "            model.save_activations(epoch, dataloader)\n",
    "\n",
    "    model.save_curves(logger)"
   ]
  },
  {
   "cell_type": "markdown",
   "metadata": {},
   "source": [
    "## 8. Define a testing loop"
   ]
  },
  {
   "cell_type": "markdown",
   "metadata": {},
   "source": [
    "First, we import necessary libraries"
   ]
  },
  {
   "cell_type": "code",
   "execution_count": 20,
   "metadata": {
    "tags": []
   },
   "outputs": [],
   "source": [
    "from medpy.metric import binary\n",
    "from torchmetrics import JaccardIndex\n",
    "np.bool = np.bool_"
   ]
  },
  {
   "cell_type": "markdown",
   "metadata": {},
   "source": [
    "The cells below define a method to use our trained model and predict a segmentation map. We also compute metrics between the prediction map and the ground truth. The following metrics were used:\n",
    "\n",
    "- [Accuracy](https://torchmetrics.readthedocs.io/en/stable/classification/accuracy.html);\n",
    "- [Dice](http://loli.github.io/medpy/generated/medpy.metric.binary.dc.html#medpy.metric.binary.dc);\n",
    "- [Intersection-over-Union](https://torchmetrics.readthedocs.io/en/stable/classification/jaccard_index.html), also know as jaccard_index.\n",
    "\n",
    "> It will also save the predictions to the folder where activations of our model are saved."
   ]
  },
  {
   "cell_type": "code",
   "execution_count": 21,
   "metadata": {
    "tags": []
   },
   "outputs": [],
   "source": [
    "# This code gets the trained model and execute inferences on the Dataloader\n",
    "@torch.no_grad()\n",
    "def predict_and_evaluate(\n",
    "        model: UNet, \n",
    "        data_loader:torch.utils.data.dataloader.DataLoader\n",
    "    ):\n",
    "    images_path = data_loader.dataset.images_path\n",
    "    labels_path = data_loader.dataset.labels_path\n",
    "    folder_to_save = model.activations_path / Path(\"0_preds\")\n",
    "    os.makedirs(folder_to_save, exist_ok=True)\n",
    "    \n",
    "    accuracies = []\n",
    "    dices = []\n",
    "    ious = []\n",
    "    jaccard_index = JaccardIndex(num_classes=2, task=\"binary\")\n",
    "\n",
    "    for image_path, label_path in tqdm(zip(images_path, labels_path)):\n",
    "        image = load_image(str(image_path), lab=True)\n",
    "        image_data = data_loader.dataset.transforms(image)\n",
    "        ground_truth = data_loader.dataset.transforms(\n",
    "            ImageOps.grayscale(Image.open(label_path))\n",
    "        )\n",
    "        ground_truth = ground_truth.cpu().detach().numpy()[0]\n",
    "        # Adds batch dimension\n",
    "        image_data = torch.unsqueeze(image_data, dim=0)\n",
    "        image_data = image_data.to(DEVICE)\n",
    "        prediction = model(image_data)\n",
    "        prediction = torch.sigmoid(prediction)\n",
    "        \n",
    "        image_name = os.path.basename(image_path)\n",
    "        path_to_save = folder_to_save / Path(image_name)\n",
    "        mask = np.zeros((240, 240), dtype=np.uint8)\n",
    "        prediction = prediction.cpu().detach().numpy()\n",
    "        mask[(prediction[0,1,...] > prediction[0,0,...])] = 1\n",
    "        \n",
    "        accuracy = np.mean((mask == ground_truth).astype(np.float32))\n",
    "        accuracies.append(accuracy)\n",
    "        # Verifies if there are parasite eggs in the images\n",
    "        if np.any(ground_truth > 0):\n",
    "            dice = binary.dc(mask, ground_truth)\n",
    "            dices.append(dice)\n",
    "            iou = jaccard_index(torch.Tensor(mask).long(), torch.Tensor(ground_truth).long())\n",
    "            \n",
    "            ious.append((iou.numpy()))\n",
    "        else: # If not\n",
    "            # If there is no parasite and our model predicted it, dice and iou equals 0\n",
    "            if np.any(mask > 0):\n",
    "                dices.append(0)\n",
    "                ious.append(0)\n",
    "            # If there is no parasite and our model did not predict it, dice and iou equals 1 (100%)\n",
    "            else:\n",
    "                dices.append(1)\n",
    "                ious.append(1)\n",
    "                \n",
    "        \n",
    "        cv2.imwrite(\n",
    "            str(path_to_save), mask * 255\n",
    "        )\n",
    "    \n",
    "    accuracies = np.array(accuracies)\n",
    "    dices = np.array(dices)\n",
    "    ious = np.array(ious)\n",
    "    \n",
    "    print(f\"[INFO] Avg Accuracy: {np.mean(accuracies)} +/- {np.std(accuracies)}\")\n",
    "    print(f\"[INFO] Avg Dice: {np.mean(dices)} +/- {np.std(dices)}\")\n",
    "    print(f\"[INFO] Avg IoU: {np.mean(ious)} +/- {np.std(ious)}\")"
   ]
  },
  {
   "cell_type": "markdown",
   "metadata": {},
   "source": [
    "## 9. Run training experiments and test our model"
   ]
  },
  {
   "cell_type": "markdown",
   "metadata": {},
   "source": [
    "The cell below defines our U-Net model and loads FLIM-Encoder weights into it. It is a simpler architecture than the one used in our previous notebook (1_plain_unet). Our last network was deeper, with additional encoder and decoder blocks."
   ]
  },
  {
   "cell_type": "code",
   "execution_count": 22,
   "metadata": {
    "tags": []
   },
   "outputs": [
    {
     "name": "stdout",
     "output_type": "stream",
     "text": [
      "[INFO] Loading FLIM Encoder\n",
      "[INFO] Loading Layer 1 weights\n",
      "[INFO] Loading Layer 2 weights\n",
      "==========================================================================================\n",
      "Layer (type:depth-idx)                   Output Shape              Param #\n",
      "==========================================================================================\n",
      "├─Sequential: 1-1                        [-1, 16, 120, 120]        --\n",
      "|    └─Conv2d: 2-1                       [-1, 16, 240, 240]        2,368\n",
      "|    └─ReLU: 2-2                         [-1, 16, 240, 240]        --\n",
      "|    └─MaxPool2d: 2-3                    [-1, 16, 120, 120]        --\n",
      "├─Sequential: 1-2                        [-1, 32, 60, 60]          --\n",
      "|    └─Conv2d: 2-4                       [-1, 32, 120, 120]        25,120\n",
      "|    └─ReLU: 2-5                         [-1, 32, 120, 120]        --\n",
      "|    └─MaxPool2d: 2-6                    [-1, 32, 60, 60]          --\n",
      "├─Conv2d: 1-3                            [-1, 64, 30, 30]          18,496\n",
      "├─Sequential: 1-4                        [-1, 32, 60, 60]          --\n",
      "|    └─ConvTranspose2d: 2-7              [-1, 32, 60, 60]          8,224\n",
      "|    └─ReLU: 2-8                         [-1, 32, 60, 60]          --\n",
      "├─Sequential: 1-5                        [-1, 32, 60, 60]          --\n",
      "|    └─Conv2d: 2-9                       [-1, 32, 60, 60]          100,384\n",
      "|    └─BatchNorm2d: 2-10                 [-1, 32, 60, 60]          64\n",
      "|    └─ReLU: 2-11                        [-1, 32, 60, 60]          --\n",
      "├─Sequential: 1-6                        [-1, 16, 120, 120]        --\n",
      "|    └─ConvTranspose2d: 2-12             [-1, 16, 120, 120]        2,064\n",
      "|    └─ReLU: 2-13                        [-1, 16, 120, 120]        --\n",
      "├─Sequential: 1-7                        [-1, 16, 120, 120]        --\n",
      "|    └─Conv2d: 2-14                      [-1, 16, 120, 120]        25,104\n",
      "|    └─BatchNorm2d: 2-15                 [-1, 16, 120, 120]        32\n",
      "|    └─ReLU: 2-16                        [-1, 16, 120, 120]        --\n",
      "├─Sequential: 1-8                        [-1, 16, 240, 240]        --\n",
      "|    └─ConvTranspose2d: 2-17             [-1, 16, 240, 240]        1,040\n",
      "|    └─ReLU: 2-18                        [-1, 16, 240, 240]        --\n",
      "├─Conv2d: 1-9                            [-1, 2, 240, 240]         34\n",
      "==========================================================================================\n",
      "Total params: 182,930\n",
      "Trainable params: 182,930\n",
      "Non-trainable params: 0\n",
      "Total mult-adds (G): 1.36\n",
      "==========================================================================================\n",
      "Input size (MB): 0.66\n",
      "Forward/backward pass size (MB): 26.81\n",
      "Params size (MB): 0.70\n",
      "Estimated Total Size (MB): 28.16\n",
      "==========================================================================================\n"
     ]
    },
    {
     "data": {
      "text/plain": [
       "==========================================================================================\n",
       "Layer (type:depth-idx)                   Output Shape              Param #\n",
       "==========================================================================================\n",
       "├─Sequential: 1-1                        [-1, 16, 120, 120]        --\n",
       "|    └─Conv2d: 2-1                       [-1, 16, 240, 240]        2,368\n",
       "|    └─ReLU: 2-2                         [-1, 16, 240, 240]        --\n",
       "|    └─MaxPool2d: 2-3                    [-1, 16, 120, 120]        --\n",
       "├─Sequential: 1-2                        [-1, 32, 60, 60]          --\n",
       "|    └─Conv2d: 2-4                       [-1, 32, 120, 120]        25,120\n",
       "|    └─ReLU: 2-5                         [-1, 32, 120, 120]        --\n",
       "|    └─MaxPool2d: 2-6                    [-1, 32, 60, 60]          --\n",
       "├─Conv2d: 1-3                            [-1, 64, 30, 30]          18,496\n",
       "├─Sequential: 1-4                        [-1, 32, 60, 60]          --\n",
       "|    └─ConvTranspose2d: 2-7              [-1, 32, 60, 60]          8,224\n",
       "|    └─ReLU: 2-8                         [-1, 32, 60, 60]          --\n",
       "├─Sequential: 1-5                        [-1, 32, 60, 60]          --\n",
       "|    └─Conv2d: 2-9                       [-1, 32, 60, 60]          100,384\n",
       "|    └─BatchNorm2d: 2-10                 [-1, 32, 60, 60]          64\n",
       "|    └─ReLU: 2-11                        [-1, 32, 60, 60]          --\n",
       "├─Sequential: 1-6                        [-1, 16, 120, 120]        --\n",
       "|    └─ConvTranspose2d: 2-12             [-1, 16, 120, 120]        2,064\n",
       "|    └─ReLU: 2-13                        [-1, 16, 120, 120]        --\n",
       "├─Sequential: 1-7                        [-1, 16, 120, 120]        --\n",
       "|    └─Conv2d: 2-14                      [-1, 16, 120, 120]        25,104\n",
       "|    └─BatchNorm2d: 2-15                 [-1, 16, 120, 120]        32\n",
       "|    └─ReLU: 2-16                        [-1, 16, 120, 120]        --\n",
       "├─Sequential: 1-8                        [-1, 16, 240, 240]        --\n",
       "|    └─ConvTranspose2d: 2-17             [-1, 16, 240, 240]        1,040\n",
       "|    └─ReLU: 2-18                        [-1, 16, 240, 240]        --\n",
       "├─Conv2d: 1-9                            [-1, 2, 240, 240]         34\n",
       "==========================================================================================\n",
       "Total params: 182,930\n",
       "Trainable params: 182,930\n",
       "Non-trainable params: 0\n",
       "Total mult-adds (G): 1.36\n",
       "==========================================================================================\n",
       "Input size (MB): 0.66\n",
       "Forward/backward pass size (MB): 26.81\n",
       "Params size (MB): 0.70\n",
       "Estimated Total Size (MB): 28.16\n",
       "=========================================================================================="
      ]
     },
     "execution_count": 22,
     "metadata": {},
     "output_type": "execute_result"
    }
   ],
   "source": [
    "unet = UNet(\n",
    "    in_channels=3,\n",
    "    n_kernels=[\n",
    "        arch_description[\"layer1\"][\"conv\"][\"noutput_channels\"],\n",
    "        arch_description[\"layer2\"][\"conv\"][\"noutput_channels\"],\n",
    "    ],\n",
    "    kernel_sizes=[\n",
    "        arch_description[\"layer1\"][\"conv\"][\"kernel_size\"][0],\n",
    "        arch_description[\"layer2\"][\"conv\"][\"kernel_size\"][0]\n",
    "    ],\n",
    "    bottleneck_size=3,\n",
    "    activations_path=DATA_PATH / Path(\"exper/FLIM_ENC_whole_data_frozen_encoder\")\n",
    ").to(DEVICE)\n",
    "\n",
    "load_FLIM_encoder(\n",
    "    model=unet,\n",
    "    arch_json=ARCH_JSON,\n",
    "    weights_path=WEIGHTS_PATH,\n",
    "    channels=[\n",
    "        3,\n",
    "        arch_description[\"layer1\"][\"conv\"][\"noutput_channels\"],\n",
    "        arch_description[\"layer2\"][\"conv\"][\"noutput_channels\"],\n",
    "    ] # [Input Channels, Kernels Layer 1, Kernels Layer 2, ....]\n",
    ")\n",
    "\n",
    "summary(unet, (3,240,240))"
   ]
  },
  {
   "cell_type": "markdown",
   "metadata": {},
   "source": [
    "Then, we first train our model without updating the FLIM-Encoder."
   ]
  },
  {
   "cell_type": "code",
   "execution_count": 23,
   "metadata": {
    "tags": []
   },
   "outputs": [
    {
     "name": "stdout",
     "output_type": "stream",
     "text": [
      "EPOCH: 1.000\ttrn_loss: 0.520\ttrn_accuracy: 0.474\t(2.80s - 277.11s remaining)\n",
      "EPOCH: 2.000\ttrn_loss: 0.480\ttrn_accuracy: 0.671\t(5.42s - 265.48s remaining)\n",
      "EPOCH: 3.000\ttrn_loss: 0.444\ttrn_accuracy: 0.790\t(7.93s - 256.45s remaining)\n",
      "EPOCH: 4.000\ttrn_loss: 0.406\ttrn_accuracy: 0.864\t(10.56s - 253.32s remaining)\n",
      "EPOCH: 5.000\ttrn_loss: 0.364\ttrn_accuracy: 0.915\t(13.34s - 253.37s remaining)\n",
      "EPOCH: 6.000\ttrn_loss: 0.313\ttrn_accuracy: 0.974\t(16.00s - 250.73s remaining)\n",
      "EPOCH: 7.000\ttrn_loss: 0.244\ttrn_accuracy: 0.988\t(18.68s - 248.21s remaining)\n",
      "EPOCH: 8.000\ttrn_loss: 0.164\ttrn_accuracy: 0.988\t(21.41s - 246.26s remaining)\n",
      "EPOCH: 9.000\ttrn_loss: 0.095\ttrn_accuracy: 0.988\t(24.21s - 244.75s remaining)\n",
      "EPOCH: 10.000\ttrn_loss: 0.053\ttrn_accuracy: 0.988\t(26.95s - 242.51s remaining)\n",
      "EPOCH: 11.000\ttrn_loss: 0.033\ttrn_accuracy: 0.988\t(29.61s - 239.61s remaining)\n",
      "EPOCH: 12.000\ttrn_loss: 0.025\ttrn_accuracy: 0.988\t(32.52s - 238.48s remaining)\n",
      "EPOCH: 13.000\ttrn_loss: 0.021\ttrn_accuracy: 0.988\t(35.27s - 236.04s remaining)\n",
      "EPOCH: 14.000\ttrn_loss: 0.019\ttrn_accuracy: 0.988\t(38.13s - 234.23s remaining)\n",
      "EPOCH: 15.000\ttrn_loss: 0.017\ttrn_accuracy: 0.988\t(40.93s - 231.94s remaining)\n",
      "EPOCH: 16.000\ttrn_loss: 0.016\ttrn_accuracy: 0.988\t(43.63s - 229.05s remaining)\n",
      "EPOCH: 17.000\ttrn_loss: 0.016\ttrn_accuracy: 0.988\t(46.46s - 226.82s remaining)\n",
      "EPOCH: 18.000\ttrn_loss: 0.015\ttrn_accuracy: 0.988\t(49.38s - 224.94s remaining)\n",
      "EPOCH: 19.000\ttrn_loss: 0.015\ttrn_accuracy: 0.988\t(52.05s - 221.88s remaining)\n",
      "EPOCH: 20.000\ttrn_loss: 0.015\ttrn_accuracy: 0.988\t(54.73s - 218.90s remaining)\n",
      "EPOCH: 21.000\ttrn_loss: 0.014\ttrn_accuracy: 0.988\t(57.56s - 216.54s remaining)\n",
      "EPOCH: 22.000\ttrn_loss: 0.014\ttrn_accuracy: 0.988\t(60.34s - 213.94s remaining)\n",
      "EPOCH: 23.000\ttrn_loss: 0.014\ttrn_accuracy: 0.988\t(63.16s - 211.43s remaining)\n",
      "EPOCH: 24.000\ttrn_loss: 0.014\ttrn_accuracy: 0.988\t(65.92s - 208.75s remaining)\n",
      "EPOCH: 25.000\ttrn_loss: 0.014\ttrn_accuracy: 0.988\t(68.71s - 206.12s remaining)\n",
      "EPOCH: 26.000\ttrn_loss: 0.013\ttrn_accuracy: 0.988\t(71.47s - 203.41s remaining)\n",
      "EPOCH: 27.000\ttrn_loss: 0.013\ttrn_accuracy: 0.988\t(74.12s - 200.40s remaining)\n",
      "EPOCH: 28.000\ttrn_loss: 0.013\ttrn_accuracy: 0.988\t(76.72s - 197.28s remaining)\n",
      "EPOCH: 29.000\ttrn_loss: 0.013\ttrn_accuracy: 0.988\t(79.41s - 194.42s remaining)\n",
      "EPOCH: 30.000\ttrn_loss: 0.013\ttrn_accuracy: 0.988\t(82.04s - 191.42s remaining)\n",
      "EPOCH: 31.000\ttrn_loss: 0.013\ttrn_accuracy: 0.988\t(84.67s - 188.46s remaining)\n",
      "EPOCH: 32.000\ttrn_loss: 0.013\ttrn_accuracy: 0.988\t(87.36s - 185.64s remaining)\n",
      "EPOCH: 33.000\ttrn_loss: 0.013\ttrn_accuracy: 0.988\t(90.05s - 182.83s remaining)\n",
      "EPOCH: 34.000\ttrn_loss: 0.013\ttrn_accuracy: 0.988\t(92.71s - 179.97s remaining)\n",
      "EPOCH: 35.000\ttrn_loss: 0.012\ttrn_accuracy: 0.988\t(95.40s - 177.17s remaining)\n",
      "EPOCH: 36.000\ttrn_loss: 0.012\ttrn_accuracy: 0.988\t(98.07s - 174.34s remaining)\n",
      "EPOCH: 37.000\ttrn_loss: 0.012\ttrn_accuracy: 0.988\t(100.75s - 171.54s remaining)\n",
      "EPOCH: 38.000\ttrn_loss: 0.012\ttrn_accuracy: 0.988\t(103.39s - 168.68s remaining)\n",
      "EPOCH: 39.000\ttrn_loss: 0.012\ttrn_accuracy: 0.988\t(105.96s - 165.73s remaining)\n",
      "EPOCH: 40.000\ttrn_loss: 0.012\ttrn_accuracy: 0.988\t(108.68s - 163.02s remaining)\n",
      "EPOCH: 41.000\ttrn_loss: 0.012\ttrn_accuracy: 0.988\t(111.28s - 160.14s remaining)\n",
      "EPOCH: 42.000\ttrn_loss: 0.012\ttrn_accuracy: 0.988\t(113.87s - 157.25s remaining)\n",
      "EPOCH: 43.000\ttrn_loss: 0.012\ttrn_accuracy: 0.988\t(116.48s - 154.40s remaining)\n",
      "EPOCH: 44.000\ttrn_loss: 0.012\ttrn_accuracy: 0.988\t(119.13s - 151.62s remaining)\n",
      "EPOCH: 45.000\ttrn_loss: 0.012\ttrn_accuracy: 0.988\t(121.84s - 148.92s remaining)\n",
      "EPOCH: 46.000\ttrn_loss: 0.012\ttrn_accuracy: 0.988\t(124.57s - 146.24s remaining)\n",
      "EPOCH: 47.000\ttrn_loss: 0.012\ttrn_accuracy: 0.988\t(127.27s - 143.51s remaining)\n",
      "EPOCH: 48.000\ttrn_loss: 0.012\ttrn_accuracy: 0.988\t(129.89s - 140.72s remaining)\n",
      "EPOCH: 49.000\ttrn_loss: 0.012\ttrn_accuracy: 0.988\t(132.78s - 138.19s remaining)\n",
      "EPOCH: 50.000\ttrn_loss: 0.011\ttrn_accuracy: 0.988\t(135.58s - 135.58s remaining)\n",
      "EPOCH: 51.000\ttrn_loss: 0.011\ttrn_accuracy: 0.988\t(138.35s - 132.92s remaining)\n",
      "EPOCH: 52.000\ttrn_loss: 0.011\ttrn_accuracy: 0.988\t(141.09s - 130.23s remaining)\n",
      "EPOCH: 53.000\ttrn_loss: 0.011\ttrn_accuracy: 0.988\t(143.82s - 127.54s remaining)\n",
      "EPOCH: 54.000\ttrn_loss: 0.011\ttrn_accuracy: 0.988\t(146.42s - 124.73s remaining)\n",
      "EPOCH: 55.000\ttrn_loss: 0.011\ttrn_accuracy: 0.988\t(149.02s - 121.93s remaining)\n",
      "EPOCH: 56.000\ttrn_loss: 0.011\ttrn_accuracy: 0.988\t(151.70s - 119.19s remaining)\n",
      "EPOCH: 57.000\ttrn_loss: 0.011\ttrn_accuracy: 0.988\t(154.31s - 116.41s remaining)\n",
      "EPOCH: 58.000\ttrn_loss: 0.010\ttrn_accuracy: 0.988\t(157.10s - 113.76s remaining)\n",
      "EPOCH: 59.000\ttrn_loss: 0.010\ttrn_accuracy: 0.988\t(159.85s - 111.08s remaining)\n",
      "EPOCH: 60.000\ttrn_loss: 0.010\ttrn_accuracy: 0.988\t(162.41s - 108.27s remaining)\n",
      "EPOCH: 61.000\ttrn_loss: 0.011\ttrn_accuracy: 0.988\t(165.23s - 105.64s remaining)\n",
      "EPOCH: 62.000\ttrn_loss: 0.010\ttrn_accuracy: 0.988\t(168.70s - 103.40s remaining)\n",
      "EPOCH: 63.000\ttrn_loss: 0.011\ttrn_accuracy: 0.988\t(171.97s - 101.00s remaining)\n",
      "EPOCH: 64.000\ttrn_loss: 0.010\ttrn_accuracy: 0.988\t(174.78s - 98.31s remaining)\n",
      "EPOCH: 65.000\ttrn_loss: 0.011\ttrn_accuracy: 0.988\t(177.44s - 95.54s remaining)\n",
      "EPOCH: 66.000\ttrn_loss: 0.010\ttrn_accuracy: 0.988\t(180.06s - 92.76s remaining)\n",
      "EPOCH: 67.000\ttrn_loss: 0.010\ttrn_accuracy: 0.988\t(182.87s - 90.07s remaining)\n",
      "EPOCH: 68.000\ttrn_loss: 0.011\ttrn_accuracy: 0.988\t(185.56s - 87.32s remaining)\n",
      "EPOCH: 69.000\ttrn_loss: 0.010\ttrn_accuracy: 0.988\t(188.04s - 84.48s remaining)\n",
      "EPOCH: 70.000\ttrn_loss: 0.010\ttrn_accuracy: 0.988\t(190.64s - 81.70s remaining)\n",
      "EPOCH: 71.000\ttrn_loss: 0.010\ttrn_accuracy: 0.988\t(193.21s - 78.92s remaining)\n",
      "EPOCH: 72.000\ttrn_loss: 0.010\ttrn_accuracy: 0.988\t(195.75s - 76.12s remaining)\n",
      "EPOCH: 73.000\ttrn_loss: 0.010\ttrn_accuracy: 0.988\t(198.29s - 73.34s remaining)\n",
      "EPOCH: 74.000\ttrn_loss: 0.010\ttrn_accuracy: 0.988\t(200.86s - 70.57s remaining)\n",
      "EPOCH: 75.000\ttrn_loss: 0.010\ttrn_accuracy: 0.988\t(203.36s - 67.79s remaining)\n",
      "EPOCH: 76.000\ttrn_loss: 0.009\ttrn_accuracy: 0.988\t(205.83s - 65.00s remaining)\n",
      "EPOCH: 77.000\ttrn_loss: 0.009\ttrn_accuracy: 0.988\t(208.31s - 62.22s remaining)\n",
      "EPOCH: 78.000\ttrn_loss: 0.009\ttrn_accuracy: 0.988\t(210.73s - 59.44s remaining)\n",
      "EPOCH: 79.000\ttrn_loss: 0.009\ttrn_accuracy: 0.988\t(213.14s - 56.66s remaining)\n",
      "EPOCH: 80.000\ttrn_loss: 0.009\ttrn_accuracy: 0.988\t(215.56s - 53.89s remaining)\n",
      "EPOCH: 81.000\ttrn_loss: 0.009\ttrn_accuracy: 0.988\t(217.96s - 51.13s remaining)\n",
      "EPOCH: 82.000\ttrn_loss: 0.009\ttrn_accuracy: 0.988\t(220.45s - 48.39s remaining)\n",
      "EPOCH: 83.000\ttrn_loss: 0.009\ttrn_accuracy: 0.988\t(222.94s - 45.66s remaining)\n",
      "EPOCH: 84.000\ttrn_loss: 0.009\ttrn_accuracy: 0.988\t(225.41s - 42.94s remaining)\n",
      "EPOCH: 85.000\ttrn_loss: 0.009\ttrn_accuracy: 0.988\t(227.92s - 40.22s remaining)\n",
      "EPOCH: 86.000\ttrn_loss: 0.009\ttrn_accuracy: 0.988\t(230.48s - 37.52s remaining)\n",
      "EPOCH: 87.000\ttrn_loss: 0.009\ttrn_accuracy: 0.988\t(232.98s - 34.81s remaining)\n",
      "EPOCH: 88.000\ttrn_loss: 0.009\ttrn_accuracy: 0.988\t(235.47s - 32.11s remaining)\n",
      "EPOCH: 89.000\ttrn_loss: 0.008\ttrn_accuracy: 0.988\t(237.93s - 29.41s remaining)\n",
      "EPOCH: 90.000\ttrn_loss: 0.008\ttrn_accuracy: 0.988\t(240.38s - 26.71s remaining)\n",
      "EPOCH: 91.000\ttrn_loss: 0.008\ttrn_accuracy: 0.988\t(242.84s - 24.02s remaining)\n",
      "EPOCH: 92.000\ttrn_loss: 0.009\ttrn_accuracy: 0.988\t(245.30s - 21.33s remaining)\n",
      "EPOCH: 93.000\ttrn_loss: 0.008\ttrn_accuracy: 0.988\t(247.74s - 18.65s remaining)\n",
      "EPOCH: 94.000\ttrn_loss: 0.008\ttrn_accuracy: 0.988\t(250.17s - 15.97s remaining)\n",
      "EPOCH: 95.000\ttrn_loss: 0.008\ttrn_accuracy: 0.988\t(252.64s - 13.30s remaining)\n",
      "EPOCH: 96.000\ttrn_loss: 0.008\ttrn_accuracy: 0.988\t(255.08s - 10.63s remaining)\n",
      "EPOCH: 97.000\ttrn_loss: 0.008\ttrn_accuracy: 0.988\t(257.53s - 7.96s remaining)\n",
      "EPOCH: 98.000\ttrn_loss: 0.008\ttrn_accuracy: 0.988\t(259.98s - 5.31s remaining)\n",
      "EPOCH: 99.000\ttrn_loss: 0.008\ttrn_accuracy: 0.988\t(262.45s - 2.65s remaining)\n",
      "EPOCH: 100.000\ttrn_loss: 0.008\ttrn_accuracy: 0.988\t(264.85s - 0.00s remaining)\n",
      "[INFO] Saving activations!\n"
     ]
    },
    {
     "name": "stderr",
     "output_type": "stream",
     "text": [
      "100%|███████████████████████████████████████████| 76/76 [00:15<00:00,  4.93it/s]\n",
      "100%|██████████████████████████████████████| 201/201 [00:00<00:00, 62578.32it/s]\n",
      "100%|██████████████████████████████████████| 201/201 [00:00<00:00, 70898.59it/s]\n"
     ]
    },
    {
     "data": {
      "image/png": "[encoded data removed]",
      "text/plain": [
       "<Figure size 576x432 with 1 Axes>"
      ]
     },
     "metadata": {
      "needs_background": "light"
     },
     "output_type": "display_data"
    },
    {
     "data": {
      "image/png": "[encoded data removed]",
      "text/plain": [
       "<Figure size 576x432 with 1 Axes>"
      ]
     },
     "metadata": {
      "needs_background": "light"
     },
     "output_type": "display_data"
    }
   ],
   "source": [
    "train_loop(\n",
    "    epochs=100,\n",
    "    model=unet,\n",
    "    dataloader=train_dataloader,\n",
    "    lr=1e-3,\n",
    "    loss_function=loss_fuctions[\"mse\"],\n",
    "    weights=[1.0, 1.0], # Classes weights (Background and Foreground)\n",
    "    freeze_encoder=True,\n",
    "    use_lr_scheduler=True\n",
    ")"
   ]
  },
  {
   "cell_type": "markdown",
   "metadata": {},
   "source": [
    "Now, we run our testing method (`predict_and_evaluate`) for the trained model, using the training and testing data."
   ]
  },
  {
   "cell_type": "code",
   "execution_count": 24,
   "metadata": {
    "tags": []
   },
   "outputs": [
    {
     "name": "stdout",
     "output_type": "stream",
     "text": [
      "[INFO] Training Metrics\n"
     ]
    },
    {
     "name": "stderr",
     "output_type": "stream",
     "text": [
      "76it [00:02, 25.68it/s]"
     ]
    },
    {
     "name": "stdout",
     "output_type": "stream",
     "text": [
      "[INFO] Avg Accuracy: 0.9879982471466064 +/- 0.011624940671026707\n",
      "[INFO] Avg Dice: 0.4605263157894737 +/- 0.4984393927598897\n",
      "[INFO] Avg IoU: 0.7242622661747431 +/- 0.25477011291207574\n"
     ]
    },
    {
     "name": "stderr",
     "output_type": "stream",
     "text": [
      "\n"
     ]
    }
   ],
   "source": [
    "print(\"[INFO] Training Metrics\")\n",
    "predict_and_evaluate(model=unet, data_loader=train_dataloader)"
   ]
  },
  {
   "cell_type": "code",
   "execution_count": 25,
   "metadata": {
    "tags": []
   },
   "outputs": [
    {
     "name": "stdout",
     "output_type": "stream",
     "text": [
      "[INFO] Test Metrics\n"
     ]
    },
    {
     "name": "stderr",
     "output_type": "stream",
     "text": [
      "20it [00:00, 25.40it/s]"
     ]
    },
    {
     "name": "stdout",
     "output_type": "stream",
     "text": [
      "[INFO] Avg Accuracy: 0.9879522323608398 +/- 0.012367559596896172\n",
      "[INFO] Avg Dice: 0.45 +/- 0.49749371855331004\n",
      "[INFO] Avg IoU: 0.7189761266112328 +/- 0.2542124744341459\n"
     ]
    },
    {
     "name": "stderr",
     "output_type": "stream",
     "text": [
      "\n"
     ]
    }
   ],
   "source": [
    "print(\"[INFO] Test Metrics\")\n",
    "predict_and_evaluate(model=unet, data_loader=test_dataloader)"
   ]
  },
  {
   "cell_type": "markdown",
   "metadata": {},
   "source": [
    "____"
   ]
  },
  {
   "cell_type": "markdown",
   "metadata": {},
   "source": [
    "Now, we define a new model and also load FLIM weights."
   ]
  },
  {
   "cell_type": "code",
   "execution_count": 26,
   "metadata": {
    "tags": []
   },
   "outputs": [
    {
     "name": "stdout",
     "output_type": "stream",
     "text": [
      "[INFO] Loading FLIM Encoder\n",
      "[INFO] Loading Layer 1 weights\n",
      "[INFO] Loading Layer 2 weights\n"
     ]
    }
   ],
   "source": [
    "unet = UNet(\n",
    "    in_channels=3,\n",
    "    n_kernels=[\n",
    "        arch_description[\"layer1\"][\"conv\"][\"noutput_channels\"],\n",
    "        arch_description[\"layer2\"][\"conv\"][\"noutput_channels\"],\n",
    "    ],\n",
    "    kernel_sizes=[\n",
    "        arch_description[\"layer1\"][\"conv\"][\"kernel_size\"][0],\n",
    "        arch_description[\"layer2\"][\"conv\"][\"kernel_size\"][0], \n",
    "    ],\n",
    "    bottleneck_size=3,\n",
    "    activations_path=DATA_PATH / Path(\"exper/FLIM_ENC_lr_scheduler\")\n",
    ").to(DEVICE)\n",
    "\n",
    "load_FLIM_encoder(\n",
    "    model=unet,\n",
    "    arch_json=ARCH_JSON,\n",
    "    weights_path=WEIGHTS_PATH,\n",
    "    channels=[\n",
    "        3,\n",
    "        arch_description[\"layer1\"][\"conv\"][\"noutput_channels\"],\n",
    "        arch_description[\"layer2\"][\"conv\"][\"noutput_channels\"],\n",
    "    ] # [Input Channels, Kernels Layer 1, Kernels Layer 2, ....]\n",
    ")"
   ]
  },
  {
   "cell_type": "markdown",
   "metadata": {},
   "source": [
    "However, now, we will allow to fine-tune the encoder."
   ]
  },
  {
   "cell_type": "code",
   "execution_count": 27,
   "metadata": {
    "tags": []
   },
   "outputs": [
    {
     "name": "stdout",
     "output_type": "stream",
     "text": [
      "EPOCH: 1.000\ttrn_loss: 0.521\ttrn_accuracy: 0.475\t(2.49s - 246.34s remaining)\n",
      "EPOCH: 2.000\ttrn_loss: 0.480\ttrn_accuracy: 0.674\t(4.99s - 244.37s remaining)\n",
      "EPOCH: 3.000\ttrn_loss: 0.444\ttrn_accuracy: 0.791\t(7.49s - 242.31s remaining)\n",
      "EPOCH: 4.000\ttrn_loss: 0.406\ttrn_accuracy: 0.862\t(9.97s - 239.27s remaining)\n",
      "EPOCH: 5.000\ttrn_loss: 0.364\ttrn_accuracy: 0.915\t(12.44s - 236.32s remaining)\n",
      "EPOCH: 6.000\ttrn_loss: 0.312\ttrn_accuracy: 0.974\t(14.90s - 233.39s remaining)\n",
      "EPOCH: 7.000\ttrn_loss: 0.244\ttrn_accuracy: 0.988\t(17.35s - 230.53s remaining)\n",
      "EPOCH: 8.000\ttrn_loss: 0.166\ttrn_accuracy: 0.988\t(19.81s - 227.82s remaining)\n",
      "EPOCH: 9.000\ttrn_loss: 0.096\ttrn_accuracy: 0.988\t(22.27s - 225.16s remaining)\n",
      "EPOCH: 10.000\ttrn_loss: 0.054\ttrn_accuracy: 0.988\t(24.74s - 222.62s remaining)\n",
      "EPOCH: 11.000\ttrn_loss: 0.033\ttrn_accuracy: 0.988\t(27.19s - 220.03s remaining)\n",
      "EPOCH: 12.000\ttrn_loss: 0.024\ttrn_accuracy: 0.988\t(29.65s - 217.40s remaining)\n",
      "EPOCH: 13.000\ttrn_loss: 0.021\ttrn_accuracy: 0.988\t(32.16s - 215.22s remaining)\n",
      "EPOCH: 14.000\ttrn_loss: 0.019\ttrn_accuracy: 0.988\t(34.63s - 212.76s remaining)\n",
      "EPOCH: 15.000\ttrn_loss: 0.017\ttrn_accuracy: 0.988\t(37.11s - 210.28s remaining)\n",
      "EPOCH: 16.000\ttrn_loss: 0.016\ttrn_accuracy: 0.988\t(39.56s - 207.70s remaining)\n",
      "EPOCH: 17.000\ttrn_loss: 0.015\ttrn_accuracy: 0.988\t(42.01s - 205.10s remaining)\n",
      "EPOCH: 18.000\ttrn_loss: 0.015\ttrn_accuracy: 0.988\t(44.47s - 202.60s remaining)\n",
      "EPOCH: 19.000\ttrn_loss: 0.015\ttrn_accuracy: 0.988\t(46.92s - 200.03s remaining)\n",
      "EPOCH: 20.000\ttrn_loss: 0.014\ttrn_accuracy: 0.988\t(49.38s - 197.51s remaining)\n",
      "EPOCH: 21.000\ttrn_loss: 0.014\ttrn_accuracy: 0.988\t(51.89s - 195.21s remaining)\n",
      "EPOCH: 22.000\ttrn_loss: 0.014\ttrn_accuracy: 0.988\t(54.34s - 192.65s remaining)\n",
      "EPOCH: 23.000\ttrn_loss: 0.014\ttrn_accuracy: 0.988\t(56.78s - 190.10s remaining)\n",
      "EPOCH: 24.000\ttrn_loss: 0.013\ttrn_accuracy: 0.988\t(59.24s - 187.59s remaining)\n",
      "EPOCH: 25.000\ttrn_loss: 0.013\ttrn_accuracy: 0.988\t(61.71s - 185.12s remaining)\n",
      "EPOCH: 26.000\ttrn_loss: 0.013\ttrn_accuracy: 0.988\t(64.15s - 182.58s remaining)\n",
      "EPOCH: 27.000\ttrn_loss: 0.013\ttrn_accuracy: 0.988\t(66.61s - 180.09s remaining)\n",
      "EPOCH: 28.000\ttrn_loss: 0.013\ttrn_accuracy: 0.988\t(69.17s - 177.87s remaining)\n",
      "EPOCH: 29.000\ttrn_loss: 0.012\ttrn_accuracy: 0.988\t(71.70s - 175.55s remaining)\n",
      "EPOCH: 30.000\ttrn_loss: 0.012\ttrn_accuracy: 0.988\t(74.23s - 173.21s remaining)\n",
      "EPOCH: 31.000\ttrn_loss: 0.012\ttrn_accuracy: 0.988\t(76.76s - 170.86s remaining)\n",
      "EPOCH: 32.000\ttrn_loss: 0.012\ttrn_accuracy: 0.988\t(79.22s - 168.34s remaining)\n",
      "EPOCH: 33.000\ttrn_loss: 0.012\ttrn_accuracy: 0.988\t(81.66s - 165.80s remaining)\n",
      "EPOCH: 34.000\ttrn_loss: 0.013\ttrn_accuracy: 0.988\t(84.11s - 163.27s remaining)\n",
      "EPOCH: 35.000\ttrn_loss: 0.012\ttrn_accuracy: 0.988\t(86.55s - 160.74s remaining)\n",
      "EPOCH: 36.000\ttrn_loss: 0.012\ttrn_accuracy: 0.988\t(89.00s - 158.22s remaining)\n",
      "EPOCH: 37.000\ttrn_loss: 0.012\ttrn_accuracy: 0.988\t(91.43s - 155.68s remaining)\n",
      "EPOCH: 38.000\ttrn_loss: 0.012\ttrn_accuracy: 0.988\t(93.86s - 153.15s remaining)\n",
      "EPOCH: 39.000\ttrn_loss: 0.012\ttrn_accuracy: 0.988\t(96.30s - 150.62s remaining)\n",
      "EPOCH: 40.000\ttrn_loss: 0.011\ttrn_accuracy: 0.988\t(98.74s - 148.12s remaining)\n",
      "EPOCH: 41.000\ttrn_loss: 0.011\ttrn_accuracy: 0.988\t(101.19s - 145.61s remaining)\n",
      "EPOCH: 42.000\ttrn_loss: 0.011\ttrn_accuracy: 0.988\t(103.70s - 143.21s remaining)\n",
      "EPOCH: 43.000\ttrn_loss: 0.011\ttrn_accuracy: 0.988\t(106.24s - 140.82s remaining)\n",
      "EPOCH: 44.000\ttrn_loss: 0.011\ttrn_accuracy: 0.988\t(108.68s - 138.32s remaining)\n",
      "EPOCH: 45.000\ttrn_loss: 0.011\ttrn_accuracy: 0.988\t(111.14s - 135.84s remaining)\n",
      "EPOCH: 46.000\ttrn_loss: 0.010\ttrn_accuracy: 0.988\t(113.60s - 133.36s remaining)\n",
      "EPOCH: 47.000\ttrn_loss: 0.010\ttrn_accuracy: 0.988\t(116.04s - 130.86s remaining)\n",
      "EPOCH: 48.000\ttrn_loss: 0.010\ttrn_accuracy: 0.988\t(118.48s - 128.35s remaining)\n",
      "EPOCH: 49.000\ttrn_loss: 0.011\ttrn_accuracy: 0.988\t(120.93s - 125.87s remaining)\n",
      "EPOCH: 50.000\ttrn_loss: 0.010\ttrn_accuracy: 0.988\t(123.37s - 123.37s remaining)\n",
      "EPOCH: 51.000\ttrn_loss: 0.010\ttrn_accuracy: 0.988\t(125.87s - 120.94s remaining)\n",
      "EPOCH: 52.000\ttrn_loss: 0.010\ttrn_accuracy: 0.988\t(128.35s - 118.48s remaining)\n",
      "EPOCH: 53.000\ttrn_loss: 0.010\ttrn_accuracy: 0.988\t(130.81s - 116.00s remaining)\n",
      "EPOCH: 54.000\ttrn_loss: 0.010\ttrn_accuracy: 0.988\t(133.25s - 113.51s remaining)\n",
      "EPOCH: 55.000\ttrn_loss: 0.010\ttrn_accuracy: 0.988\t(135.70s - 111.02s remaining)\n",
      "EPOCH: 56.000\ttrn_loss: 0.009\ttrn_accuracy: 0.988\t(138.13s - 108.53s remaining)\n",
      "EPOCH: 57.000\ttrn_loss: 0.009\ttrn_accuracy: 0.988\t(140.66s - 106.11s remaining)\n",
      "EPOCH: 58.000\ttrn_loss: 0.009\ttrn_accuracy: 0.988\t(143.17s - 103.67s remaining)\n",
      "EPOCH: 59.000\ttrn_loss: 0.009\ttrn_accuracy: 0.988\t(145.68s - 101.23s remaining)\n",
      "EPOCH: 60.000\ttrn_loss: 0.009\ttrn_accuracy: 0.988\t(148.23s - 98.82s remaining)\n",
      "EPOCH: 61.000\ttrn_loss: 0.009\ttrn_accuracy: 0.988\t(150.70s - 96.35s remaining)\n",
      "EPOCH: 62.000\ttrn_loss: 0.009\ttrn_accuracy: 0.988\t(153.21s - 93.90s remaining)\n",
      "EPOCH: 63.000\ttrn_loss: 0.009\ttrn_accuracy: 0.988\t(155.66s - 91.42s remaining)\n",
      "EPOCH: 64.000\ttrn_loss: 0.009\ttrn_accuracy: 0.988\t(158.11s - 88.94s remaining)\n",
      "EPOCH: 65.000\ttrn_loss: 0.009\ttrn_accuracy: 0.988\t(160.57s - 86.46s remaining)\n",
      "EPOCH: 66.000\ttrn_loss: 0.008\ttrn_accuracy: 0.988\t(163.08s - 84.01s remaining)\n",
      "EPOCH: 67.000\ttrn_loss: 0.008\ttrn_accuracy: 0.988\t(165.60s - 81.57s remaining)\n",
      "EPOCH: 68.000\ttrn_loss: 0.009\ttrn_accuracy: 0.988\t(168.07s - 79.09s remaining)\n",
      "EPOCH: 69.000\ttrn_loss: 0.008\ttrn_accuracy: 0.988\t(170.53s - 76.61s remaining)\n",
      "EPOCH: 70.000\ttrn_loss: 0.008\ttrn_accuracy: 0.988\t(172.98s - 74.14s remaining)\n",
      "EPOCH: 71.000\ttrn_loss: 0.008\ttrn_accuracy: 0.988\t(175.44s - 71.66s remaining)\n",
      "EPOCH: 72.000\ttrn_loss: 0.008\ttrn_accuracy: 0.988\t(177.92s - 69.19s remaining)\n",
      "EPOCH: 73.000\ttrn_loss: 0.008\ttrn_accuracy: 0.988\t(180.39s - 66.72s remaining)\n",
      "EPOCH: 74.000\ttrn_loss: 0.008\ttrn_accuracy: 0.988\t(182.87s - 64.25s remaining)\n",
      "EPOCH: 75.000\ttrn_loss: 0.008\ttrn_accuracy: 0.988\t(185.31s - 61.77s remaining)\n",
      "EPOCH: 76.000\ttrn_loss: 0.008\ttrn_accuracy: 0.988\t(187.79s - 59.30s remaining)\n",
      "EPOCH: 77.000\ttrn_loss: 0.008\ttrn_accuracy: 0.988\t(190.29s - 56.84s remaining)\n",
      "EPOCH: 78.000\ttrn_loss: 0.008\ttrn_accuracy: 0.988\t(192.85s - 54.39s remaining)\n",
      "EPOCH: 79.000\ttrn_loss: 0.008\ttrn_accuracy: 0.988\t(195.40s - 51.94s remaining)\n",
      "EPOCH: 80.000\ttrn_loss: 0.007\ttrn_accuracy: 0.988\t(197.97s - 49.49s remaining)\n",
      "EPOCH: 81.000\ttrn_loss: 0.007\ttrn_accuracy: 0.988\t(200.53s - 47.04s remaining)\n",
      "EPOCH: 82.000\ttrn_loss: 0.007\ttrn_accuracy: 0.988\t(203.03s - 44.57s remaining)\n",
      "EPOCH: 83.000\ttrn_loss: 0.007\ttrn_accuracy: 0.988\t(205.47s - 42.08s remaining)\n",
      "EPOCH: 84.000\ttrn_loss: 0.007\ttrn_accuracy: 0.988\t(207.92s - 39.60s remaining)\n",
      "EPOCH: 85.000\ttrn_loss: 0.007\ttrn_accuracy: 0.988\t(210.38s - 37.13s remaining)\n",
      "EPOCH: 86.000\ttrn_loss: 0.008\ttrn_accuracy: 0.988\t(212.82s - 34.64s remaining)\n",
      "EPOCH: 87.000\ttrn_loss: 0.007\ttrn_accuracy: 0.988\t(215.26s - 32.16s remaining)\n",
      "EPOCH: 88.000\ttrn_loss: 0.007\ttrn_accuracy: 0.988\t(217.70s - 29.69s remaining)\n",
      "EPOCH: 89.000\ttrn_loss: 0.007\ttrn_accuracy: 0.988\t(220.14s - 27.21s remaining)\n",
      "EPOCH: 90.000\ttrn_loss: 0.007\ttrn_accuracy: 0.988\t(222.66s - 24.74s remaining)\n",
      "EPOCH: 91.000\ttrn_loss: 0.007\ttrn_accuracy: 0.988\t(225.14s - 22.27s remaining)\n",
      "EPOCH: 92.000\ttrn_loss: 0.007\ttrn_accuracy: 0.988\t(227.63s - 19.79s remaining)\n",
      "EPOCH: 93.000\ttrn_loss: 0.007\ttrn_accuracy: 0.988\t(230.08s - 17.32s remaining)\n",
      "EPOCH: 94.000\ttrn_loss: 0.007\ttrn_accuracy: 0.988\t(232.53s - 14.84s remaining)\n",
      "EPOCH: 95.000\ttrn_loss: 0.007\ttrn_accuracy: 0.988\t(234.98s - 12.37s remaining)\n",
      "EPOCH: 96.000\ttrn_loss: 0.007\ttrn_accuracy: 0.988\t(237.42s - 9.89s remaining)\n",
      "EPOCH: 97.000\ttrn_loss: 0.007\ttrn_accuracy: 0.988\t(239.86s - 7.42s remaining)\n",
      "EPOCH: 98.000\ttrn_loss: 0.007\ttrn_accuracy: 0.988\t(242.29s - 4.94s remaining)\n",
      "EPOCH: 99.000\ttrn_loss: 0.007\ttrn_accuracy: 0.988\t(244.72s - 2.47s remaining)\n",
      "EPOCH: 100.000\ttrn_loss: 0.007\ttrn_accuracy: 0.988\t(247.17s - 0.00s remaining)\n",
      "[INFO] Saving activations!\n"
     ]
    },
    {
     "name": "stderr",
     "output_type": "stream",
     "text": [
      "100%|███████████████████████████████████████████| 76/76 [00:14<00:00,  5.28it/s]\n",
      "100%|██████████████████████████████████████| 201/201 [00:00<00:00, 74639.67it/s]\n",
      "100%|██████████████████████████████████████| 201/201 [00:00<00:00, 74600.04it/s]\n"
     ]
    },
    {
     "data": {
      "image/png": "[encoded data removed]",
      "text/plain": [
       "<Figure size 576x432 with 1 Axes>"
      ]
     },
     "metadata": {
      "needs_background": "light"
     },
     "output_type": "display_data"
    },
    {
     "data": {
      "image/png": "[encoded data removed]",
      "text/plain": [
       "<Figure size 576x432 with 1 Axes>"
      ]
     },
     "metadata": {
      "needs_background": "light"
     },
     "output_type": "display_data"
    }
   ],
   "source": [
    "train_loop(\n",
    "    epochs=100,\n",
    "    model=unet,\n",
    "    dataloader=train_dataloader,\n",
    "    lr=1e-3,\n",
    "    loss_function=loss_fuctions[\"mse\"],\n",
    "    weights=[1, 1], # Classes weights (Background and Foreground)\n",
    "    freeze_encoder=False,\n",
    "    use_lr_scheduler=True\n",
    ")"
   ]
  },
  {
   "cell_type": "markdown",
   "metadata": {},
   "source": [
    "Finally, we also benchmark our model:"
   ]
  },
  {
   "cell_type": "code",
   "execution_count": 28,
   "metadata": {
    "tags": []
   },
   "outputs": [
    {
     "name": "stdout",
     "output_type": "stream",
     "text": [
      "[INFO] Training Metrics\n"
     ]
    },
    {
     "name": "stderr",
     "output_type": "stream",
     "text": [
      "76it [00:02, 26.39it/s]"
     ]
    },
    {
     "name": "stdout",
     "output_type": "stream",
     "text": [
      "[INFO] Avg Accuracy: 0.9879982471466064 +/- 0.011624940671026707\n",
      "[INFO] Avg Dice: 0.4605263157894737 +/- 0.4984393927598897\n",
      "[INFO] Avg IoU: 0.7242622661747431 +/- 0.25477011291207574\n"
     ]
    },
    {
     "name": "stderr",
     "output_type": "stream",
     "text": [
      "\n"
     ]
    }
   ],
   "source": [
    "print(\"[INFO] Training Metrics\")\n",
    "predict_and_evaluate(model=unet, data_loader=train_dataloader)"
   ]
  },
  {
   "cell_type": "code",
   "execution_count": 29,
   "metadata": {
    "tags": []
   },
   "outputs": [
    {
     "name": "stdout",
     "output_type": "stream",
     "text": [
      "[INFO] Test Metrics\n"
     ]
    },
    {
     "name": "stderr",
     "output_type": "stream",
     "text": [
      "20it [00:00, 25.44it/s]"
     ]
    },
    {
     "name": "stdout",
     "output_type": "stream",
     "text": [
      "[INFO] Avg Accuracy: 0.9879522323608398 +/- 0.012367559596896172\n",
      "[INFO] Avg Dice: 0.45 +/- 0.49749371855331004\n",
      "[INFO] Avg IoU: 0.7189761266112328 +/- 0.2542124744341459\n"
     ]
    },
    {
     "name": "stderr",
     "output_type": "stream",
     "text": [
      "\n"
     ]
    }
   ],
   "source": [
    "print(\"[INFO] Test Metrics\")\n",
    "predict_and_evaluate(model=unet, data_loader=test_dataloader)"
   ]
  },
  {
   "cell_type": "markdown",
   "metadata": {},
   "source": [
    "Depending on the quality of the image markers, fine-tuning may improve the FLIM-Encoder. However, the learning rate scheduler plays a role in the process. "
   ]
  },
  {
   "cell_type": "markdown",
   "metadata": {},
   "source": [
    "## 10. Run inferences with FLIM-Encoder using an adaptive decoder."
   ]
  },
  {
   "cell_type": "markdown",
   "metadata": {},
   "source": [
    "Here, we will use an adaptive Decoder to segment our parasites."
   ]
  },
  {
   "cell_type": "markdown",
   "metadata": {},
   "source": [
    "First, we define an U-Net model and Load FLIM-Encoder weights:"
   ]
  },
  {
   "cell_type": "code",
   "execution_count": 30,
   "metadata": {
    "tags": []
   },
   "outputs": [
    {
     "name": "stdout",
     "output_type": "stream",
     "text": [
      "[INFO] Loading FLIM Encoder\n",
      "[INFO] Loading Layer 1 weights\n",
      "[INFO] Loading Layer 2 weights\n",
      "[INFO] Saving activations!\n"
     ]
    },
    {
     "name": "stderr",
     "output_type": "stream",
     "text": [
      "100%|███████████████████████████████████████████| 76/76 [00:16<00:00,  4.51it/s]\n"
     ]
    }
   ],
   "source": [
    "unet = UNet(\n",
    "    in_channels=3,\n",
    "    n_kernels=[\n",
    "        arch_description[\"layer1\"][\"conv\"][\"noutput_channels\"],\n",
    "        arch_description[\"layer2\"][\"conv\"][\"noutput_channels\"],\n",
    "    ],\n",
    "    kernel_sizes=[\n",
    "        arch_description[\"layer1\"][\"conv\"][\"kernel_size\"][0],\n",
    "        arch_description[\"layer2\"][\"conv\"][\"kernel_size\"][0], \n",
    "    ],\n",
    "    bottleneck_size=3,\n",
    "    activations_path=DATA_PATH / Path(\"exper/FLIM_Adaptive_Decoder\")\n",
    ").to(DEVICE)\n",
    "\n",
    "load_FLIM_encoder(\n",
    "    model=unet,\n",
    "    arch_json=ARCH_JSON,\n",
    "    weights_path=WEIGHTS_PATH,\n",
    "    channels=[\n",
    "        3,\n",
    "        arch_description[\"layer1\"][\"conv\"][\"noutput_channels\"],\n",
    "        arch_description[\"layer2\"][\"conv\"][\"noutput_channels\"],\n",
    "    ] # [Input Channels, Kernels Layer 1, Kernels Layer 2, ....]\n",
    ")\n",
    "\n",
    "unet.save_activations(0,train_dataloader)"
   ]
  },
  {
   "cell_type": "markdown",
   "metadata": {},
   "source": [
    "We define some utilitarian functions. `erase_frame` sets the frame border to zero. Some activations also actives for the frame border and could be misinterpreted as background. `get_adaptive_weight` gets weights for the activations, where activations with many activated pixels are set as background (weight=-1), and the opposite as foreground (weight=1)."
   ]
  },
  {
   "cell_type": "code",
   "execution_count": 31,
   "metadata": {
    "tags": []
   },
   "outputs": [],
   "source": [
    "# Zero-out frame border\n",
    "def erase_frame(activation, n):\n",
    "    activation[:n, :] = 0\n",
    "    activation[-n: :] = 0\n",
    "    activation[:, :n] = 0\n",
    "    activation[:, -n:] = 0\n",
    "    \n",
    "    return activation\n",
    "\n",
    "\"\"\"\n",
    "Get activation weight, given the amount of voxels activated.\n",
    "Background activations usually activate most of the image; hence, we set its weight as -1.\n",
    "\"\"\"\n",
    "def get_adaptive_weight(activation, perc_thres):\n",
    "    n_elements = activation.shape[0] * activation.shape[1]\n",
    "    i_max = np.max(activation)\n",
    "    i_min = np.min(activation)\n",
    "    if i_max != i_min:\n",
    "        image = 255 * (activation - i_min) / (i_max - i_min)\n",
    "    else:\n",
    "        image = activation\n",
    "    image = image.astype(np.uint8)\n",
    "    \n",
    "    threshold, _ = cv2.threshold(\n",
    "        image, 0, 255, cv2.THRESH_BINARY+cv2.THRESH_OTSU\n",
    "    )\n",
    "    \n",
    "    bin_image = image > threshold\n",
    "    n_activations = np.sum(bin_image)\n",
    "    \n",
    "    if n_activations > (perc_thres * n_elements):\n",
    "        weight = -1\n",
    "    else:\n",
    "        weight = 1\n",
    "        \n",
    "    return weight"
   ]
  },
  {
   "cell_type": "markdown",
   "metadata": {},
   "source": [
    "Our adaptive Decoder works as follows:\n",
    "\n",
    "1. We will instantiate a U-Net and load our FLIM weights\n",
    "2. We start from the lowest encoder block and:\n",
    "    1. For each activation, we verify if it has a background (weight = -1) or a foreground activation (weight = 1);\n",
    "    2. We sum all activations into a single saliency map, using its weight (-1 or 1);\n",
    "    3. Based on this saliency map, we get the coordinates of the largest contour;\n",
    "    4. We repeat steps 1 to 2 for the upper layer; however, we zero activations outside the largest contour activations (avoid false positives).\n",
    "3. Based on the saliency map of the first layer, we compute our metrics."
   ]
  },
  {
   "cell_type": "code",
   "execution_count": 32,
   "metadata": {
    "tags": []
   },
   "outputs": [],
   "source": [
    "def adaptive_decoder(model, dataloader, image_id):\n",
    "    # Get an image and pass it through the network \n",
    "    image = load_image(\n",
    "        str(dataloader.dataset.images_path[image_id]),\n",
    "        lab=True\n",
    "    )\n",
    "    image_data = dataloader.dataset.transforms(image)\n",
    "    ground_truth = train_dataloader.dataset.transforms(\n",
    "        ImageOps.grayscale(Image.open(train_dataloader.dataset.labels_path[image_id]))\n",
    "    )\n",
    "    ground_truth = ground_truth.cpu().detach().numpy()[0]\n",
    "    image_data = torch.unsqueeze(image_data, dim=0)\n",
    "    image_data = image_data.to(DEVICE)\n",
    "\n",
    "    unet.to(DEVICE)\n",
    "    unet(image_data)\n",
    "    encoder_activations = unet.activations[\"encoder\"]\n",
    "  \n",
    "    activations = encoder_activations[1].cpu().detach().numpy()[0]\n",
    "    \n",
    "    saliency    = np.zeros_like(activations[0])\n",
    "    for activation in activations:\n",
    "        activation = erase_frame(activation, 3)\n",
    "        weight = get_adaptive_weight(activation, 0.1)\n",
    "        saliency += weight * activation\n",
    "     \n",
    "    saliency[saliency < 0] = 0 # RELU\n",
    "    \n",
    "    # Scale to the ground truth size\n",
    "    saliency = cv2.resize(saliency, dsize=(240, 240), interpolation=cv2.INTER_LINEAR)\n",
    "    \n",
    "    # Gets the largest contour\n",
    "    # Binarizes image\n",
    "    \n",
    "    i_max = np.max(saliency)\n",
    "    i_min = np.min(saliency)\n",
    "    if i_max != i_min:\n",
    "        image = 255 * (saliency - i_min) / (i_max - i_min)\n",
    "        image = image.astype(np.uint8)\n",
    "        threshold, _ = cv2.threshold(\n",
    "        image, 0, 255, cv2.THRESH_BINARY+cv2.THRESH_OTSU)\n",
    "        image = image > threshold\n",
    "        contours, hierarchy = cv2.findContours(image.astype(np.uint8), cv2.RETR_TREE, cv2.CHAIN_APPROX_SIMPLE)\n",
    "        contour = max(contours, key = cv2.contourArea)\n",
    "        x_initial, y_initial, width, height = cv2.boundingRect(contour)\n",
    "        x_final = x_initial + width\n",
    "        y_final = y_initial + height\n",
    "        tmp_array = np.zeros_like(saliency)\n",
    "        tmp_array[y_initial:y_final, x_initial:x_final] = image[y_initial:y_final, x_initial:x_final]\n",
    "        saliency = tmp_array\n",
    "         \n",
    "    # Computes metrics\n",
    "    jaccard_index = JaccardIndex(num_classes=2, task=\"binary\")\n",
    "    accuracy = np.mean((saliency == ground_truth).astype(np.float32))\n",
    "    dice = binary.dc(saliency, ground_truth)\n",
    "    iou = jaccard_index(torch.Tensor(saliency).long(), torch.Tensor(ground_truth).long())\n",
    "    if (np.any(ground_truth)):\n",
    "        dice = binary.dc(saliency, ground_truth)\n",
    "        iou = jaccard_index(torch.Tensor(saliency).long(), torch.Tensor(ground_truth).long())\n",
    "    else:\n",
    "        if (np.any(saliency)):\n",
    "            dice = iou = 0.0\n",
    "        else:\n",
    "            dice = iou = 1.0\n",
    "    print(f\"[INFO] Accuracy: {accuracy}\")\n",
    "    print(f\"[INFO] Dice: {dice}\")\n",
    "    print(f\"[INFO] IoU: {iou}\")\n",
    "    \n",
    "    plt.subplot(121)\n",
    "    plt.imshow(saliency, cmap=\"gray\")\n",
    "    plt.yticks([]),plt.xticks([])\n",
    "    plt.title(f\"Prediction\")\n",
    "    plt.subplot(122)\n",
    "    plt.imshow(ground_truth, cmap=\"gray\")\n",
    "    plt.yticks([]),plt.xticks([])\n",
    "    plt.title(f\"Ground Truth\")"
   ]
  },
  {
   "cell_type": "code",
   "execution_count": 48,
   "metadata": {
    "tags": []
   },
   "outputs": [
    {
     "name": "stdout",
     "output_type": "stream",
     "text": [
      "[INFO] Accuracy: 0.9892361164093018\n",
      "[INFO] Dice: 0.6623093681917211\n",
      "[INFO] IoU: 0.7421176433563232\n"
     ]
    },
    {
     "data": {
      "image/png": "[encoded data removed]",
      "text/plain": [
       "<Figure size 432x288 with 2 Axes>"
      ]
     },
     "metadata": {},
     "output_type": "display_data"
    }
   ],
   "source": [
    "adaptive_decoder(\n",
    "    model=unet,\n",
    "    dataloader=train_dataloader, \n",
    "    image_id=45\n",
    ")"
   ]
  },
  {
   "cell_type": "markdown",
   "metadata": {},
   "source": [
    "## Extra - Activities\n",
    "\n",
    "- Try different losses and Class weights (weights parameter on train_loop). Could you increase performance metrics?\n",
    "- Try to improve the adaptive decoder. Could you implement any modification that increases performance metrics? And about problematic images, how would you tackle them?\n",
    "- Could you apply post-processing on predicted masks to increase performance metrics (e.g., morphological operations)?\n",
    "- Could you replicate the adaptive decoder to the whole dataset?"
   ]
  }
 ],
 "metadata": {
  "kernelspec": {
   "display_name": "Python 3 (ipykernel)",
   "language": "python",
   "name": "python3"
  },
  "language_info": {
   "codemirror_mode": {
    "name": "ipython",
    "version": 3
   },
   "file_extension": ".py",
   "mimetype": "text/x-python",
   "name": "python",
   "nbconvert_exporter": "python",
   "pygments_lexer": "ipython3",
   "version": "3.10.11"
  }
 },
 "nbformat": 4,
 "nbformat_minor": 4
}
