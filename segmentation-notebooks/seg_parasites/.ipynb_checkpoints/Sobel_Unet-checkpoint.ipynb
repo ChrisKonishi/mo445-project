{
 "cells": [
  {
   "cell_type": "markdown",
   "metadata": {},
   "source": [
    "# Exploring FLIM Towards Semantic Segmentation\n",
    "\n",
    "> This notebook covers the necessary steps to experiment with a FLIM and a U-Net architecture, visualizing its activations. We will use FLIM to learn our encoder.\n",
    "\n",
    "We will approach the following:\n",
    "\n",
    "1. Split our data into training and testing;\n",
    "2. Configure a dataset;\n",
    "3. Configure our dataset as a data loader to provide data ingestion during the training phase;\n",
    "4. Define a fully convolutional network (U-Net);\n",
    "5. Define a method to load FLIM-Encoder into our U-Net model\n",
    "6. Learning rate schedulers;\n",
    "7. Define a training loop;\n",
    "8. Define a testing loop;\n",
    "9. Run training experiments and test our model;\n",
    "10. Run inferences with FLIM-Encoder using an adaptive decoder."
   ]
  },
  {
   "cell_type": "markdown",
   "metadata": {},
   "source": [
    "## 1. Split data into training and testing sets"
   ]
  },
  {
   "cell_type": "markdown",
   "metadata": {},
   "source": [
    "Let us first define our dataset; we will explore the parasite egg dataset towards 2D segmentation. The eggs are from Schistosoma Mansoni. The cell below imports the necessary libraries."
   ]
  },
  {
   "cell_type": "code",
   "execution_count": 1,
   "metadata": {
    "tags": []
   },
   "outputs": [],
   "source": [
    "# Necessary libraries\n",
    "from pathlib import Path, PosixPath\n",
    "import os\n",
    "from tqdm import tqdm\n",
    "from typing import List, Union\n",
    "import json\n",
    "\n",
    "from PIL import ImageOps\n",
    "from tifffile import imsave\n",
    "import numpy as np\n",
    "import matplotlib.pyplot as plt\n",
    "from PIL import Image\n",
    "\n",
    "import torch\n",
    "from torch.utils.data import Dataset\n",
    "from torch import nn\n",
    "from torchvision import transforms\n",
    "from torch.utils.data import DataLoader\n",
    "import torch_snippets\n",
    "\n",
    "from skimage.color import lab2rgb, rgb2lab"
   ]
  },
  {
   "cell_type": "markdown",
   "metadata": {},
   "source": [
    "First, we need to define the path to our dataset. We are using the reshaped parasite dataset (images and labels have a shape of 240x240 pixels with three channels). To run our experiments, we need to use either a GPU (DEVICE) or a CPU (\"cpu\"); for such, we set the DEVICE variable.\n",
    "\n",
    "We will also define the path to a JSON file which specifies our encoder architecture, and a folder with our endoder's weights."
   ]
  },
  {
   "cell_type": "code",
   "execution_count": 2,
   "metadata": {
    "tags": []
   },
   "outputs": [],
   "source": [
    "DATA_PATH = Path(\"../data/parasites\")\n",
    "ORIG_PATH = DATA_PATH / Path(\"all_images\")\n",
    "LABELS_PATH = DATA_PATH / Path(\"all_truelabels\")\n",
    "DEVICE = \"cuda\"\n",
    "\n",
    "ARCH_JSON = Path(\n",
    "    DATA_PATH / Path(\"flim_data/arch2d_seg.json\")\n",
    ")\n",
    "WEIGHTS_PATH = Path(\n",
    "    DATA_PATH / Path(\"flim_data/model_bias\")\n",
    ")\n",
    "\n",
    "# Reads architecture dict to define our network\n",
    "with open(ARCH_JSON, \"r\") as json_data:\n",
    "    arch_description = json.load(json_data)"
   ]
  },
  {
   "cell_type": "markdown",
   "metadata": {},
   "source": [
    "Our dataset contains 96 images. We will further divide it into training and testing images. We will use ~80% to train (76) and ~20% to test (20) the model. You may modify the n_train variable (currently derived using 80% - 0.8 - to adjust train and test size)."
   ]
  },
  {
   "cell_type": "code",
   "execution_count": 3,
   "metadata": {
    "tags": []
   },
   "outputs": [],
   "source": [
    "images = os.listdir(ORIG_PATH)\n",
    "images.sort()\n",
    "labels = images\n",
    "\n",
    "# 80% of train and 20% of test\n",
    "n_train = int((0.8 * len(images)))\n",
    "\n",
    "# Train Data (File Names)\n",
    "train_images = images[:n_train]\n",
    "train_labels = images[:n_train]\n",
    "# Test Data (File Names)\n",
    "test_images = images[n_train:]\n",
    "test_labels = images[n_train:]"
   ]
  },
  {
   "cell_type": "markdown",
   "metadata": {},
   "source": [
    "## 2. Configure a dataset\n",
    "\n",
    "Now, we need to define the Dataset class. It must:\n",
    "\n",
    "- Enable training and testing with a single image (If we want to train with a single image - Overfit). In this case, we set the parameter `image_id` to a number (e.g., 0);\n",
    "- Enable training and testing using the data splits. In this case, we set the parameter `image_id` to `None`."
   ]
  },
  {
   "cell_type": "markdown",
   "metadata": {},
   "source": [
    "We start by importing the necessary libraries. As FLIM works with images in the LAB space, we also need to convert our images from RGB to LAB."
   ]
  },
  {
   "cell_type": "code",
   "execution_count": 4,
   "metadata": {
    "tags": []
   },
   "outputs": [],
   "source": [
    "class SegDataset(Dataset):\n",
    "    def __init__(\n",
    "        self,\n",
    "        images_path: PosixPath, # Path to images\n",
    "        labels_path: PosixPath, # Path to labels\n",
    "        images: List[str], # List of images\n",
    "        labels: List[str], # List of labels\n",
    "        image_id: int = None # Image ID if training with a single image\n",
    "    ):\n",
    "        self.images_path = [images_path / Path(image) for image in images]\n",
    "        self.labels_path = [labels_path / Path(label) for label in labels]\n",
    "        self.image_id = image_id\n",
    "\n",
    "        \"\"\"If training with the whole dataset we must resize images\n",
    "        to the same size (240, 240)\"\"\"\n",
    "        # Converts to tensor and normalize LAB\n",
    "        self.image_transforms = transforms.Compose([\n",
    "                rgb2lab,\n",
    "                transforms.ToTensor(),\n",
    "                transforms.ConvertImageDtype(torch.float32),\n",
    "                transforms.Normalize(\n",
    "                    mean=[0, -86.182236, -107.867744],\n",
    "                    std=[99.998337, 86.182236 + 98.258614, 107.867744 + 94.481682]\n",
    "                )\n",
    "        ])\n",
    "        self.label_transforms = transforms.ToTensor()\n",
    "\n",
    "    def __len__(self):\n",
    "        # If image id not provided, we are training with the whole dataset\n",
    "        if self.image_id == None:\n",
    "            return len(self.images_path)\n",
    "        else:\n",
    "            return 1\n",
    "\n",
    "    def __getitem__(self, idx):\n",
    "        if self.image_id == None:\n",
    "            image_path = self.images_path[idx]\n",
    "            label_path = self.labels_path[idx]\n",
    "        else:\n",
    "            image_path = self.images_path[self.image_id]\n",
    "            label_path = self.labels_path[self.image_id]\n",
    "\n",
    "        image = Image.open(image_path)\n",
    "        image = self.image_transforms(image)\n",
    "        \n",
    "        label = ImageOps.grayscale(Image.open(label_path))\n",
    "        label = self.label_transforms(label)\n",
    "        \n",
    "        # Tackles label as a two channel prediction (Background and Foreground)\n",
    "        background = torch.zeros(1, label.shape[1], label.shape[2])\n",
    "        foreground = torch.zeros(1, label.shape[1], label.shape[2])\n",
    "        background[label == 0] = 1\n",
    "        foreground[label == 1] = 1\n",
    "        label = torch.cat([background, foreground], axis=0)\n",
    "\n",
    "        return image, label"
   ]
  },
  {
   "cell_type": "markdown",
   "metadata": {},
   "source": [
    "Now, let us visualize the output of our dataset object for a single image. The method `visualize_dataset_item` enables us to visualize an image of our dataset.\n",
    "\n",
    "Notice that it generates two masks, one for our foreground (parasite egg) and the other for the background."
   ]
  },
  {
   "cell_type": "code",
   "execution_count": 5,
   "metadata": {
    "tags": []
   },
   "outputs": [],
   "source": [
    "# Method to visualize Dataset Item (LAB)\n",
    "def visualize_dataset_item(dataset, item):\n",
    "    img, label = dataset.__getitem__(item)\n",
    "    img = img.permute(1, 2, 0)\n",
    "    img[:,:, 0] = img[:,:, 0] * 99.998337\n",
    "    img[:,:, 1] = img[:,:, 1] * (86.182236 + 98.258614) - 86.182236\n",
    "    img[:,:, 2] = img[:,:, 2] * (107.867744 + 94.481682) - 107.867744\n",
    "    img = lab2rgb(img)\n",
    "\n",
    "    plt.subplot(131)\n",
    "    plt.yticks([]),plt.xticks([])\n",
    "    plt.title(\"Image\")\n",
    "    plt.imshow(img)\n",
    "    plt.subplot(132)\n",
    "    plt.yticks([]),plt.xticks([])\n",
    "    plt.title(\"Background\")\n",
    "    plt.imshow(label[0], cmap=\"gray\")\n",
    "    plt.subplot(133)\n",
    "    plt.yticks([]),plt.xticks([])\n",
    "    plt.title(\"Foreground\")\n",
    "    plt.imshow(label[1], cmap=\"gray\")"
   ]
  },
  {
   "cell_type": "markdown",
   "metadata": {},
   "source": [
    "Then, we define our dataset using all training and testing data."
   ]
  },
  {
   "cell_type": "code",
   "execution_count": 6,
   "metadata": {
    "tags": []
   },
   "outputs": [],
   "source": [
    "# DATASETS - TRAIN AND TEST\n",
    "train_dataset = SegDataset(\n",
    "    images_path=ORIG_PATH,\n",
    "    labels_path=LABELS_PATH,\n",
    "    images=train_images,\n",
    "    labels=train_labels,\n",
    "    image_id=None\n",
    ")\n",
    "test_dataset = SegDataset(\n",
    "    images_path=ORIG_PATH,\n",
    "    labels_path=LABELS_PATH,\n",
    "    images=test_images,\n",
    "    labels=test_labels,\n",
    "    image_id=None\n",
    ")"
   ]
  },
  {
   "cell_type": "markdown",
   "metadata": {},
   "source": [
    "Test the method `visualize_dataset_item` to visualize different images (change the `dataset` and `item` parameters)."
   ]
  },
  {
   "cell_type": "code",
   "execution_count": 7,
   "metadata": {
    "tags": []
   },
   "outputs": [
    {
     "data": {
      "image/png": "[encoded data removed]",
      "text/plain": [
       "<Figure size 432x288 with 3 Axes>"
      ]
     },
     "metadata": {},
     "output_type": "display_data"
    }
   ],
   "source": [
    "visualize_dataset_item(train_dataset, 0)"
   ]
  },
  {
   "cell_type": "markdown",
   "metadata": {},
   "source": [
    "## 3. Configure our dataset as a dataloader"
   ]
  },
  {
   "cell_type": "markdown",
   "metadata": {},
   "source": [
    "Through PyTorch data loader ([`torch.utils.data.DataLoader`](https://pytorch.org/docs/stable/data.html#torch.utils.data.DataLoader)), we configure our dataset as a data loader by using:\n",
    "\n",
    "- A Dataset (Our Train and Test datasets);\n",
    "- A batch size (Number of images used to update the model's parameters);\n",
    "- If we want to shuffle our data at each epoch (We see images in different orders for each epoch)."
   ]
  },
  {
   "cell_type": "code",
   "execution_count": 8,
   "metadata": {
    "tags": []
   },
   "outputs": [
    {
     "name": "stdout",
     "output_type": "stream",
     "text": [
      "Images shape =>  torch.Size([4, 3, 240, 240])\n",
      "Labels shape =>  torch.Size([4, 2, 240, 240])\n"
     ]
    }
   ],
   "source": [
    "# DATALOADERS - TRAIN AND TEST\n",
    "train_dataloader = DataLoader(train_dataset, batch_size=4, shuffle=True)\n",
    "test_dataloader  = DataLoader(test_dataset, batch_size=1, shuffle=False)\n",
    "\n",
    "# Visualizes shape of a batch sampled from train dataloder\n",
    "sample_train_images, sample_train_labels = next(iter(train_dataloader))\n",
    "print(\"Images shape => \", sample_train_images.shape)\n",
    "print(\"Labels shape => \", sample_train_labels.shape)"
   ]
  },
  {
   "cell_type": "markdown",
   "metadata": {},
   "source": [
    "## 4. Define a fully convolutional network (U-Net)\n",
    "\n",
    "Now, we have a dataloader working. It is responsible for feeding data, both the input image and the parasite egg's segmentation mask, to a deep learning model. We expect that, given an input image, our model will learn to segment the parasite egg, if any.\n",
    "\n",
    "Now, the following cells define our deep-learning model, a U-Net architecture (**see the image below**). We also enable our model to store the activation maps for visual analysis.\n",
    "\n",
    "U-Net architectures have two parts: an encoder (left part) and a decoder (right part). The encoder extracts image features at different levels while the encoder combines those extracted features to detect and segment.\n",
    "\n",
    "![](arch_sample_flim.png)"
   ]
  },
  {
   "cell_type": "markdown",
   "metadata": {},
   "source": [
    "Let us first define some methods to help us:\n",
    "\n",
    "- **up_conv:** Implements our **ConvTranspose2d** convolutions, responsible for upsampling our features in the decoder;\n",
    "- **Conv:** Implements our **Conv2D** in decoders;\n",
    "- **init_weights:** Initializes our model's parameters, using Xavier uniform for convolution's weights and setting biases to 0.01."
   ]
  },
  {
   "cell_type": "code",
   "execution_count": 9,
   "metadata": {
    "tags": []
   },
   "outputs": [],
   "source": [
    "# Utilitarians blocks for UNet Decoder\n",
    "# Upsamples input feature map\n",
    "def up_conv(in_channels, out_channels, kernel_size=2, padding=0, stride=2, output_padding=0):\n",
    "    return nn.Sequential(\n",
    "        nn.ConvTranspose2d(in_channels, out_channels, kernel_size=kernel_size, padding=padding, stride=stride, output_padding=output_padding),\n",
    "        nn.ReLU(inplace=True)\n",
    "    )\n",
    "    \n",
    "# Defines convolutional blocks for our decoder\n",
    "def conv(in_channels, out_channels, kernel_size, padding=1):\n",
    "    return nn.Sequential(\n",
    "        nn.Conv2d(in_channels, out_channels, kernel_size=kernel_size, stride=1, padding=padding),\n",
    "        nn.ReLU(inplace=True),\n",
    "    )\n",
    "    \n",
    "# Initializes kernel weights\n",
    "def init_weights(m):\n",
    "    if (isinstance(m,nn.Conv2d) or (isinstance(m,nn.ConvTranspose2d))):\n",
    "        torch.nn.init.xavier_uniform_(m.weight)\n",
    "        if m.bias is not None:\n",
    "            m.bias.data.fill_(0.01)"
   ]
  },
  {
   "cell_type": "markdown",
   "metadata": {},
   "source": [
    "Now, the class UNet defines our U-Net architecture:\n",
    "\n",
    "1. On the **__init__** method, we first set a random_seed to guarantee reproducibility. Then, we define our encoder blocks (block1, and block2), our bottleneck, and finally, our decoder (up_convs + dec_convs and the pred convolution, which outputs our segmentation mask);\n",
    "2. Our **forward** method is responsible for passing the input image through the model architecture until we get the parasite egg's mask at the end;\n",
    "3. **write_activation** and **save_activations** saves activations of each network block for visual inspection;\n",
    "4. **save_curves** will save the learning curves of our models at the end of our training loop.\n",
    "\n",
    "To initialize a U-Net model, we must set the following parameters:\n",
    "\n",
    "- `in_channels:` The number of channels of our input (e.g., 3 for RGB and 1 for Gray);\n",
    "- `n_kernels:` A list of 3 integer values specifying the number of kernels for each convolutional block (e.g., [8, 16,32]). Those values are used to define both encoder and decoder convolutional blocks;\n",
    "- `kernel_sizes:` A list of 3 integer values, specifying the kernels' size for each convolutional block (e.g., [3, 3, 3]);\n",
    "- `activations_path:` A path to save each convolutional block activation. After training, one could navigate into that folder to visualize what kind of features the model is extracting."
   ]
  },
  {
   "cell_type": "code",
   "execution_count": 11,
   "metadata": {
    "tags": []
   },
   "outputs": [],
   "source": [
    "class UNet(nn.Module):\n",
    "    def __init__(\n",
    "            self, in_channels: int, # RGB or LAB -> 3 Channels\n",
    "            n_kernels: List[int], # N Kernels by conv block\n",
    "            kernel_sizes: List[int], # Kernel sizes by conv block\n",
    "            bottleneck_size: int, # Kernel size for bottleneck\n",
    "            activations_path: PosixPath = None # Path to save activations\n",
    "    ) -> None:\n",
    "        super().__init__()\n",
    "        \n",
    "        # Sets torch seed to guaratee Reproducibility\n",
    "        random_seed = 7\n",
    "        torch.manual_seed(random_seed)\n",
    "        torch.cuda.manual_seed(random_seed)\n",
    "        torch.backends.cudnn.deterministic = True\n",
    "        torch.backends.cudnn.benchmark = False\n",
    "        \n",
    "        self.activations_path = activations_path\n",
    "        \n",
    "        # Encoder Convolutional Blocks\n",
    "        self.block1 = nn.Sequential(\n",
    "            nn.Conv2d(\n",
    "                in_channels=in_channels, out_channels=n_kernels[0],\n",
    "                kernel_size=kernel_sizes[0],\n",
    "                padding=kernel_sizes[0] // 2\n",
    "            ),\n",
    "            nn.ReLU(),\n",
    "            nn.MaxPool2d(\n",
    "                kernel_size=3, stride=2,\n",
    "                padding=1\n",
    "            )\n",
    "        )\n",
    "        \n",
    "        # Initializes weights\n",
    "        self.block1.apply(init_weights)\n",
    "\n",
    "    def forward(self, x: torch.Tensor) -> torch.Tensor:\n",
    "        # Dictionary to keep track of activations\n",
    "        self.activations = {\"encoder\": [], \"decoder\": []}\n",
    "              \n",
    "        # Encoder\n",
    "        x1 = self.block1(x)\n",
    "        self.activations[\"encoder\"].append(x1)\n",
    " \n",
    "        \n",
    "        return x1\n",
    "    \n",
    "    def write_activation(\n",
    "        self, image: np.ndarray, path: PosixPath, reshape: bool=False\n",
    "    ) -> None:\n",
    "        max_img = np.max(image)\n",
    "        min_img = np.min(image)\n",
    "        if (min_img != max_img):\n",
    "            image = 255 * (image - min_img) / (max_img - min_img)\n",
    "        image = image.astype(np.uint8)\n",
    "\n",
    "        image = Image.fromarray(image)\n",
    "        if reshape:\n",
    "            image = image.resize((240, 240), Image.Resampling.NEAREST)\n",
    "        image.save(path)\n",
    "    \n",
    "    @torch.no_grad()\n",
    "    def save_activations(self, epoch: int, data_loader) -> None:\n",
    "        # Save encoder activations\n",
    "        activations_path = self.activations_path / Path(f\"epoch_{epoch}\")\n",
    "        \n",
    "        # Save activations for each image\n",
    "        print(\"[INFO] Saving activations!\")\n",
    "        images_path = data_loader.dataset.images_path\n",
    "        for image_path in tqdm(images_path):\n",
    "            image_name = os.path.basename(image_path)\n",
    "            saving_path = activations_path / Path(image_name.replace(\".png\",\"\")) / Path(\"encoder\")\n",
    "            saving_path_reshape = activations_path / Path(image_name.replace(\".png\",\"\")) / Path(\"encoder_reshape\") \n",
    "            os.makedirs(saving_path, exist_ok=True)\n",
    "            os.makedirs(saving_path_reshape, exist_ok=True)\n",
    "            \n",
    "            image_data = data_loader.dataset.image_transforms(\n",
    "                Image.open(image_path)\n",
    "            )\n",
    "            # Adds batch dimension\n",
    "            image_data = torch.unsqueeze(image_data, dim=0)\n",
    "            image_data = image_data.to(DEVICE)\n",
    "            self.to(DEVICE)\n",
    "            self.forward(image_data)\n",
    "        \n",
    "            # Save encoder activations\n",
    "            for actv_idx, activations in enumerate(self.activations[\"encoder\"]):\n",
    "                activations = activations.cpu().detach().numpy()\n",
    "                for ch_idx in range(activations.shape[1]):\n",
    "                    channel_activations = activations[0, ch_idx, ...]\n",
    "\n",
    "                    filename = Path(f\"layer_{actv_idx}_ch_{ch_idx}.png\")\n",
    "                    # Save normal size image\n",
    "                    self.write_activation(\n",
    "                        channel_activations, saving_path / filename\n",
    "                    )\n",
    "                    # Reshape to input size\n",
    "                    self.write_activation(\n",
    "                        channel_activations, saving_path_reshape / filename, True\n",
    "                )\n",
    "                    \n",
    "            # Save decoder activations\n",
    "            saving_path = activations_path / Path(image_name.replace(\".png\",\"\")) / Path(\"decoder\")\n",
    "            saving_path_reshape = activations_path / Path(image_name.replace(\".png\",\"\")) / Path(\"decoder_reshape\") \n",
    "            os.makedirs(saving_path, exist_ok=True)\n",
    "            os.makedirs(saving_path_reshape, exist_ok=True)\n",
    "            for actv_idx, activations in enumerate(self.activations[\"decoder\"]):\n",
    "                activations = activations.cpu().detach().numpy()\n",
    "                for ch_idx in range(activations.shape[1]):\n",
    "                    channel_activations = activations[0, ch_idx, ...]\n",
    "\n",
    "                    filename = Path(f\"layer_{actv_idx}_ch_{ch_idx}.png\")\n",
    "                    # Save normal size imagace\n",
    "                    self.write_activation(\n",
    "                        channel_activations, saving_path / filename\n",
    "                    )\n",
    "                    # Reshape to input size\n",
    "                    self.write_activation(\n",
    "                        channel_activations, saving_path_reshape / filename, True\n",
    "                    )\n",
    "\n",
    "        # Save model weights\n",
    "        torch.save(self.state_dict(), activations_path / Path(\"model.pth\"))\n",
    "        \n",
    "    def save_curves(self, logger: torch_snippets.torch_loader.Report) -> None:\n",
    "        _, ax = plt.subplots(figsize=(8, 6))\n",
    "        logger.plot_epochs(['trn_loss'], ax=ax)\n",
    "        savefig_path = self.activations_path / Path(\"loss.png\")\n",
    "        plt.savefig(savefig_path)\n",
    "        \n",
    "        _, ax = plt.subplots(figsize=(8, 6))\n",
    "        logger.plot_epochs(['trn_accuracy'], ax=ax)\n",
    "        savefig_path = self.activations_path / Path(\"accuracy.png\")\n",
    "        plt.savefig(savefig_path)"
   ]
  },
  {
   "cell_type": "markdown",
   "metadata": {},
   "source": [
    "## 5. Define a method to load FLIM-Encoder into our U-Net model"
   ]
  },
  {
   "cell_type": "markdown",
   "metadata": {},
   "source": [
    "Additionally, as we will use a FLIM Encoder as our U-Net encoder, we define methods to load the FLIM Encoder's weight into the U-Net encoder.\n",
    "\n",
    "The method `load_FLIM_encoder`, receives as parameters:\n",
    "\n",
    "- `model`: Our U-Net model;\n",
    "- `arch_json`: The path to a JSON file describing our FLIM-Encoder;\n",
    "- `weights_path`: The path to a folder with the FLIM-Encoder's weights;\n",
    "- `channels`: A list specifying the number of input channels (e.g., 3 for RGB) and the number of filters for each encoder convolutional block."
   ]
  },
  {
   "cell_type": "code",
   "execution_count": 46,
   "metadata": {
    "tags": []
   },
   "outputs": [],
   "source": [
    "def get_bias(bias_path: PosixPath) -> np.ndarray:\n",
    "    with open(bias_path, \"r\") as file:\n",
    "        n_kernels = file.readline()\n",
    "        bias = file.readline().strip().split(\" \")\n",
    "    \n",
    "    bias = np.array(bias).astype(np.float32)\n",
    "    \n",
    "    return bias\n",
    "\n",
    "\n",
    "def shift_weights(weights: np.ndarray, kernel_size: int, in_channels: int) -> np.ndarray:\n",
    "\n",
    "    nkernels = weights.shape[1]\n",
    "    \n",
    "    shifted_weights = np.zeros((nkernels,in_channels,kernel_size[1],kernel_size[0]))    \n",
    "   \n",
    "    for k in range(nkernels): \n",
    "        for channel in range(in_channels):\n",
    "            i = channel\n",
    "            for row in range(kernel_size[1]):\n",
    "                for col in range(kernel_size[0]):\n",
    "                    shifted_weights[k][channel][row][col] = weights[i][k]\n",
    "                    i = i + in_channels\n",
    "\n",
    "    return shifted_weights\n",
    "\n",
    "\n",
    "def get_weights(kernel_path: PosixPath,  kernel_size: int, in_channels: int) -> np.ndarray:\n",
    "    weights = np.load(kernel_path)\n",
    "    weights = shift_weights(weights, kernel_size, in_channels)\n",
    "    \n",
    "    return weights\n",
    "\n",
    "def load_FLIM_encoder(model: UNet, arch_json: PosixPath, weights_path: PosixPath, channels: List[int]) -> None:\n",
    "    with open(arch_json, \"r\") as json_data:\n",
    "        arch_description = json.load(json_data)\n",
    "    \n",
    "    n_layers = arch_description[\"nlayers\"]\n",
    "    \n",
    "    in_channels = channels[0]\n",
    "    print(\"[INFO] Loading FLIM Encoder\")\n",
    "    for n in range(1, n_layers + 1):\n",
    "        out_channels = channels[n]\n",
    "\n",
    "        print(f\"[INFO] Loading Layer {n} weights\")\n",
    "        # Gets each encoder Block to set its weights and biases\n",
    "        model_block = getattr(model, f\"block{n}\")\n",
    "        \n",
    "        # Sets its biases\n",
    "        bias_path = weights_path / Path(f\"conv{n}-bias.txt\")\n",
    "        kernel_path = weights_path / Path(f\"conv{n}-kernels.npy\")\n",
    "        # Get biases and set to model - Accessing conv block biases\n",
    "        bias = get_bias(bias_path)\n",
    "        bias = nn.Parameter(torch.from_numpy(bias).float())\n",
    "        model_block[0].bias.data = bias\n",
    "        \n",
    "        # Get kernel weights and set to model - Accessing conv block weights\n",
    "        kernel_size = arch_description[f\"layer{n}\"][\"conv\"][\"kernel_size\"]\n",
    "        weights = get_weights(kernel_path, kernel_size, in_channels)\n",
    "        weights = nn.Parameter(torch.from_numpy(weights).float())\n",
    "        model_block[0].weight.data = weights\n",
    "        print(weights.shape)\n",
    "        \n",
    "        in_channels = channels[n]"
   ]
  },
  {
   "cell_type": "markdown",
   "metadata": {},
   "source": [
    "## 6. Learning rate scheduler"
   ]
  },
  {
   "cell_type": "markdown",
   "metadata": {},
   "source": [
    "Fine-tuning an architecture already trained with an untrained decoder running the first epochs with a small learning rate is helpful. As the first epochs using an untrained decoder will result in higher errors, a lower learning rate scheduler avoids \"forgetting\" what the FLIM-Encoder has already learned.\n",
    "\n",
    "The cell below shows how to define and use a learning rate scheduler."
   ]
  },
  {
   "cell_type": "code",
   "execution_count": 47,
   "metadata": {
    "tags": []
   },
   "outputs": [],
   "source": [
    "# Import necessary libraries\n",
    "import torch.optim as optim\n",
    "import torch.optim.lr_scheduler as lr_scheduler"
   ]
  },
  {
   "cell_type": "code",
   "execution_count": 48,
   "metadata": {
    "tags": []
   },
   "outputs": [],
   "source": [
    "# create a simple model \n",
    "model = nn.Sequential(\n",
    "    nn.Linear(34, 34),\n",
    "    nn.ReLU(),\n",
    "    nn.Linear(34, 1),\n",
    "    nn.Sigmoid()\n",
    ")\n",
    "\n",
    "lr=1e-3\n",
    "optimizer = optim.Adam(model.parameters(), lr=lr)\n",
    "loss_fn = nn.BCELoss()\n",
    "# Start Factor of the optimizer learning rate\n",
    "# End factor of the optimizer learning rate\n",
    "# Total iterations to increase from Start to End Factor\n",
    "scheduler = lr_scheduler.LinearLR(\n",
    "    optimizer, start_factor=1e-3, end_factor=1,\n",
    "    total_iters=400, verbose=False\n",
    ")\n",
    "\n",
    "# List to plot our results\n",
    "lrs = []\n",
    "epochs = []\n",
    "\n",
    "for epoch in range(1000):\n",
    "    lr = scheduler.get_last_lr()\n",
    "    epochs.append(epoch+1)\n",
    "    lrs.append(lr)\n",
    "    optimizer.step()\n",
    "    scheduler.step()"
   ]
  },
  {
   "cell_type": "markdown",
   "metadata": {},
   "source": [
    "The cell below shows our learning rate across 1000 training epochs."
   ]
  },
  {
   "cell_type": "code",
   "execution_count": 49,
   "metadata": {
    "tags": []
   },
   "outputs": [
    {
     "data": {
      "image/png": "[encoded data removed]",
      "text/plain": [
       "<Figure size 432x288 with 1 Axes>"
      ]
     },
     "metadata": {
      "needs_background": "light"
     },
     "output_type": "display_data"
    }
   ],
   "source": [
    "plt.plot(epochs, lrs, \"b--\")\n",
    "plt.xlabel(\"Epochs\")\n",
    "plt.ylabel(\"Learning Rate\")\n",
    "plt.title(\"Learning Rate Vs Epochs\")\n",
    "plt.show()"
   ]
  },
  {
   "cell_type": "markdown",
   "metadata": {},
   "source": [
    "## 7. Define a training loop"
   ]
  },
  {
   "cell_type": "markdown",
   "metadata": {},
   "source": [
    "We have everything prepared in our pipeline; we lack a training loop that will feed data from the data loader to our model and use the model's prediction to compute loss and update the model's parameter.\n",
    "\n",
    "Furthermore, as we are using a FLIM-Encoder, we want our training loop to have two additional features:\n",
    "\n",
    "- **Freeze the Encoder's Weights**: In this case, we do not learn the encoder; our training loop updates the decoder's parameters.\n",
    "- **Train with a Learning Rate Scheduler:** We use a learning rate scheduler to optimize the encoder's weights."
   ]
  },
  {
   "cell_type": "markdown",
   "metadata": {},
   "source": [
    "First, we import the necessary libraries."
   ]
  },
  {
   "cell_type": "code",
   "execution_count": 50,
   "metadata": {
    "tags": []
   },
   "outputs": [],
   "source": [
    "from torch_snippets import optim, Report\n",
    "from torchsummary import summary\n",
    "import monai\n",
    "from monai.losses import DiceLoss, DiceFocalLoss\n",
    "import cv2"
   ]
  },
  {
   "cell_type": "markdown",
   "metadata": {},
   "source": [
    "Secondly, we define a loss function which we want to optimize. Those loss functions were calculated by comparing the model's prediction with the ground-truth segmentation mask. To optimize those loss functions is to produce better segmentation masks.\n",
    "\n",
    "Below, we made avaialable the following losses:\n",
    "\n",
    "- [MSE](https://pytorch.org/docs/stable/generated/torch.nn.MSELoss.html#torch.nn.MSELoss)\n",
    "- [BCE](https://pytorch.org/docs/stable/generated/torch.nn.BCELoss.html#torch.nn.BCELoss)\n",
    "- [DiceLoss](https://docs.monai.io/en/stable/losses.html)\n",
    "\n",
    "> See our slide decks and the link provided for further details."
   ]
  },
  {
   "cell_type": "code",
   "execution_count": 51,
   "metadata": {
    "tags": []
   },
   "outputs": [],
   "source": [
    "loss_fuctions = {\n",
    "    \"mse\": nn.MSELoss(),\n",
    "    \"bce\": nn.BCELoss(),\n",
    "    \"dice\": DiceLoss(sigmoid=False, batch=False),\n",
    "}"
   ]
  },
  {
   "cell_type": "markdown",
   "metadata": {},
   "source": [
    "Now, we define our loss class. It is responsible for computing the loss for both masks (background and foreground), but it also enables us to set different weights for each mask.\n",
    "\n",
    "To configure it, we must:\n",
    "\n",
    "- Provide a loss function from the dictionary above (`loss_fn parameter`);\n",
    "- Set the `weights` parameters as a list with weights for each class."
   ]
  },
  {
   "cell_type": "code",
   "execution_count": 52,
   "metadata": {
    "tags": []
   },
   "outputs": [],
   "source": [
    "class Loss(nn.Module):\n",
    "    def __init__(\n",
    "            self,\n",
    "            loss_fn,\n",
    "            weights: List[float] = [1.0, 1.0]\n",
    "        ):\n",
    "        super().__init__()\n",
    "        self.loss_fn = loss_fn\n",
    "        self.background_weight = weights[0]\n",
    "        self.foreground_weight = weights[1]\n",
    "\n",
    "    def forward(self, y_pred, y_true):\n",
    "        background_loss = self.loss_fn(y_pred[:,0, ...], y_true[:, 0, ...])\n",
    "        foreground_loss = self.loss_fn(y_pred[:,1, ...], y_true[:, 1, ...])\n",
    "        background_loss *= self.background_weight\n",
    "        foreground_loss *= self.foreground_weight\n",
    "        loss = background_loss + foreground_loss\n",
    "        return loss"
   ]
  },
  {
   "cell_type": "markdown",
   "metadata": {},
   "source": [
    "Finally, we define our training loop. For such, we must provide:\n",
    "\n",
    "- The number of epochs to train our model;\n",
    "- Our U-Net model;\n",
    "- A data loader;\n",
    "- The name of our loss_function (e.g., \"mse\", \"bce\");\n",
    "- Our learning rate (lr), which controls the size of updates in the models' parameters. A too-high value will cause instability, while a too-low value will result in slower training;\n",
    "- A list with weights for background and foreground (e.g., [1, 1]).\n",
    "- The `freeze_encoder` parameter. `False` allows our training loop to update the encoder's weights, while `True` does not allow it.\n",
    "- The `use_lr_scheduler` parameter. `True` allows our training loop to use a learning rate scheduler, while `True` uses a fixed learning rate.\n",
    "\n",
    "> The N_SAVE_ACTIVATIONS variable controls when we save our convolution activations. For instance, currently, it writes activations for every 200 epochs."
   ]
  },
  {
   "cell_type": "code",
   "execution_count": 53,
   "metadata": {
    "tags": []
   },
   "outputs": [],
   "source": [
    "N_SAVE_ACTIVATIONS = 200\n",
    "def train_loop(\n",
    "        epochs, model, dataloader, lr, loss_function, weights,\n",
    "        freeze_encoder=False, use_lr_scheduler=False\n",
    "    ):\n",
    "    optimizer = optim.Adam(model.parameters(), lr=lr)\n",
    "    if use_lr_scheduler:\n",
    "        scheduler = lr_scheduler.LinearLR(optimizer, start_factor=1e-1, end_factor=1, total_iters=50, verbose=False)\n",
    "    model.to(DEVICE)\n",
    "    \n",
    "    # Freeze encoder weights\n",
    "    if freeze_encoder:\n",
    "        model.block1.requires_grad_(False)\n",
    "        model.block1.trainable = False\n",
    "        model.block2.requires_grad_(False)\n",
    "        model.block2.trainable = False\n",
    "    \n",
    "    logger = Report(epochs)\n",
    "    loss = Loss(loss_function, weights)\n",
    "\n",
    "    for epoch in range(epochs):\n",
    "        losses = []\n",
    "        accuracies = []\n",
    "        for batch in dataloader: # In our case, a single image, or 3\n",
    "            model.train()\n",
    "            image, ground_truth = batch\n",
    "            image = image.to(DEVICE)\n",
    "            ground_truth = ground_truth.to(DEVICE)\n",
    "            prediction = model(image)\n",
    "            optimizer.zero_grad()\n",
    "\n",
    "            # Computes loss and accuracy\n",
    "            prediction = torch.sigmoid(prediction)\n",
    "            loss_value = loss(prediction, ground_truth)\n",
    "\n",
    "            accuracy = (\n",
    "                (prediction[:,1,...] > prediction[:,0,...]) == ground_truth[:,1,...]\n",
    "            ).float().mean()\n",
    "            \n",
    "            losses.append(loss_value)\n",
    "            accuracies.append(accuracy)\n",
    "\n",
    "            loss_value.backward()\n",
    "            optimizer.step()\n",
    "        \n",
    "        # At the end of the epoch, we take a step in our LR Scheduler\n",
    "        if use_lr_scheduler:\n",
    "            scheduler.step()\n",
    "        \n",
    "        mean_loss = torch.mean(torch.Tensor(losses))\n",
    "        mean_acc = torch.mean(torch.Tensor(accuracies))\n",
    "        logger.record(\n",
    "            epoch + 1,\n",
    "            trn_loss=mean_loss.item(),\n",
    "            trn_accuracy=mean_acc.item()\n",
    "            )\n",
    "        if ((epoch + 1) % N_SAVE_ACTIVATIONS) == 0:\n",
    "            model.save_activations(epoch, dataloader)\n",
    "\n",
    "    model.save_curves(logger)"
   ]
  },
  {
   "cell_type": "markdown",
   "metadata": {},
   "source": [
    "## 8. Define a testing loop"
   ]
  },
  {
   "cell_type": "markdown",
   "metadata": {},
   "source": [
    "First, we import necessary libraries"
   ]
  },
  {
   "cell_type": "code",
   "execution_count": 54,
   "metadata": {
    "tags": []
   },
   "outputs": [],
   "source": [
    "from medpy.metric import binary\n",
    "from torchmetrics import JaccardIndex\n",
    "np.bool = np.bool_"
   ]
  },
  {
   "cell_type": "markdown",
   "metadata": {},
   "source": [
    "The cells below define a method to use our trained model and predict a segmentation map. We also compute metrics between the prediction map and the ground truth. The following metrics were used:\n",
    "\n",
    "- [Accuracy](https://torchmetrics.readthedocs.io/en/stable/classification/accuracy.html);\n",
    "- [Dice](http://loli.github.io/medpy/generated/medpy.metric.binary.dc.html#medpy.metric.binary.dc);\n",
    "- [Intersection-over-Union](https://torchmetrics.readthedocs.io/en/stable/classification/jaccard_index.html), also know as jaccard_index.\n",
    "\n",
    "> It will also save the predictions to the folder where activations of our model are saved."
   ]
  },
  {
   "cell_type": "code",
   "execution_count": 55,
   "metadata": {
    "tags": []
   },
   "outputs": [],
   "source": [
    "# This code gets the trained model and execute inferences on the Dataloader\n",
    "@torch.no_grad()\n",
    "def predict_and_evaluate(\n",
    "        model: UNet, \n",
    "        data_loader:torch.utils.data.dataloader.DataLoader\n",
    "    ):\n",
    "    images_path = data_loader.dataset.images_path\n",
    "    labels_path = data_loader.dataset.labels_path\n",
    "    folder_to_save = model.activations_path / Path(\"0_preds\")\n",
    "    os.makedirs(folder_to_save, exist_ok=True)\n",
    "    \n",
    "    accuracies = []\n",
    "    dices = []\n",
    "    ious = []\n",
    "    jaccard_index = JaccardIndex(num_classes=2, task=\"binary\")\n",
    "\n",
    "    for image_path, label_path in tqdm(zip(images_path, labels_path)):\n",
    "        image_data = data_loader.dataset.image_transforms(Image.open(image_path))\n",
    "        ground_truth = data_loader.dataset.label_transforms(\n",
    "            ImageOps.grayscale(Image.open(label_path))\n",
    "        )\n",
    "        ground_truth = ground_truth.cpu().detach().numpy()[0]\n",
    "        # Adds batch dimension\n",
    "        image_data = torch.unsqueeze(image_data, dim=0)\n",
    "        image_data = image_data.to(DEVICE)\n",
    "        prediction = model(image_data)\n",
    "        prediction = torch.sigmoid(prediction)\n",
    "        \n",
    "        image_name = os.path.basename(image_path)\n",
    "        path_to_save = folder_to_save / Path(image_name)\n",
    "        mask = np.zeros((240, 240), dtype=np.uint8)\n",
    "        prediction = prediction.cpu().detach().numpy()\n",
    "        mask[(prediction[0,1,...] > prediction[0,0,...])] = 1\n",
    "        \n",
    "        accuracy = np.mean((mask == ground_truth).astype(np.float32))\n",
    "        accuracies.append(accuracy)\n",
    "        # Verifies if there are parasite eggs in the images\n",
    "        if np.any(ground_truth > 0):\n",
    "            dice = binary.dc(mask, ground_truth)\n",
    "            dices.append(dice)\n",
    "            iou = jaccard_index(torch.Tensor(mask).long(), torch.Tensor(ground_truth).long())\n",
    "            \n",
    "            ious.append((iou.numpy()))\n",
    "        else: # If not\n",
    "            # If there is no parasite and our model predicted it, dice and iou equals 0\n",
    "            if np.any(mask > 0):\n",
    "                dices.append(0)\n",
    "                ious.append(0)\n",
    "            # If there is no parasite and our model did not predict it, dice and iou equals 1 (100%)\n",
    "            else:\n",
    "                dices.append(1)\n",
    "                ious.append(1)\n",
    "                \n",
    "        \n",
    "        cv2.imwrite(\n",
    "            str(path_to_save), mask * 255\n",
    "        )\n",
    "    \n",
    "    accuracies = np.array(accuracies)\n",
    "    dices = np.array(dices)\n",
    "    ious = np.array(ious)\n",
    "    \n",
    "    print(f\"[INFO] Avg Accuracy: {np.mean(accuracies)} +/- {np.std(accuracies)}\")\n",
    "    print(f\"[INFO] Avg Dice: {np.mean(dices)} +/- {np.std(dices)}\")\n",
    "    print(f\"[INFO] Avg IoU: {np.mean(ious)} +/- {np.std(ious)}\")"
   ]
  },
  {
   "cell_type": "markdown",
   "metadata": {},
   "source": [
    "## 9. Run training experiments and test our model"
   ]
  },
  {
   "cell_type": "markdown",
   "metadata": {},
   "source": [
    "The cell below defines our U-Net model and loads FLIM-Encoder weights into it. It is a simpler architecture than the one used in our previous notebook (1_plain_unet). Our last network was deeper, with additional encoder and decoder blocks."
   ]
  },
  {
   "cell_type": "code",
   "execution_count": 56,
   "metadata": {
    "tags": []
   },
   "outputs": [
    {
     "name": "stdout",
     "output_type": "stream",
     "text": [
      "[INFO] Loading FLIM Encoder\n",
      "[INFO] Loading Layer 1 weights\n",
      "torch.Size([24, 3, 7, 7])\n",
      "[INFO] Loading Layer 2 weights\n",
      "torch.Size([24, 24, 7, 7])\n",
      "==========================================================================================\n",
      "Layer (type:depth-idx)                   Output Shape              Param #\n",
      "==========================================================================================\n",
      "├─Sequential: 1-1                        [-1, 24, 120, 120]        --\n",
      "|    └─Conv2d: 2-1                       [-1, 24, 240, 240]        3,552\n",
      "|    └─ReLU: 2-2                         [-1, 24, 240, 240]        --\n",
      "|    └─MaxPool2d: 2-3                    [-1, 24, 120, 120]        --\n",
      "├─Sequential: 1-2                        [-1, 24, 60, 60]          --\n",
      "|    └─Conv2d: 2-4                       [-1, 24, 120, 120]        28,248\n",
      "|    └─ReLU: 2-5                         [-1, 24, 120, 120]        --\n",
      "|    └─MaxPool2d: 2-6                    [-1, 24, 60, 60]          --\n",
      "├─Conv2d: 1-3                            [-1, 48, 30, 30]          10,416\n",
      "├─Sequential: 1-4                        [-1, 24, 60, 60]          --\n",
      "|    └─ConvTranspose2d: 2-7              [-1, 24, 60, 60]          4,632\n",
      "|    └─ReLU: 2-8                         [-1, 24, 60, 60]          --\n",
      "├─Sequential: 1-5                        [-1, 24, 60, 60]          --\n",
      "|    └─Conv2d: 2-9                       [-1, 24, 60, 60]          56,472\n",
      "|    └─ReLU: 2-10                        [-1, 24, 60, 60]          --\n",
      "├─Sequential: 1-6                        [-1, 24, 120, 120]        --\n",
      "|    └─ConvTranspose2d: 2-11             [-1, 24, 120, 120]        2,328\n",
      "|    └─ReLU: 2-12                        [-1, 24, 120, 120]        --\n",
      "├─Sequential: 1-7                        [-1, 24, 120, 120]        --\n",
      "|    └─Conv2d: 2-13                      [-1, 24, 120, 120]        56,472\n",
      "|    └─ReLU: 2-14                        [-1, 24, 120, 120]        --\n",
      "├─Sequential: 1-8                        [-1, 24, 240, 240]        --\n",
      "|    └─ConvTranspose2d: 2-15             [-1, 24, 240, 240]        2,328\n",
      "|    └─ReLU: 2-16                        [-1, 24, 240, 240]        --\n",
      "├─Conv2d: 1-9                            [-1, 2, 240, 240]         50\n",
      "==========================================================================================\n",
      "Total params: 164,498\n",
      "Trainable params: 164,498\n",
      "Non-trainable params: 0\n",
      "Total mult-adds (G): 1.82\n",
      "==========================================================================================\n",
      "Input size (MB): 0.66\n",
      "Forward/backward pass size (MB): 31.53\n",
      "Params size (MB): 0.63\n",
      "Estimated Total Size (MB): 32.82\n",
      "==========================================================================================\n"
     ]
    },
    {
     "data": {
      "text/plain": [
       "==========================================================================================\n",
       "Layer (type:depth-idx)                   Output Shape              Param #\n",
       "==========================================================================================\n",
       "├─Sequential: 1-1                        [-1, 24, 120, 120]        --\n",
       "|    └─Conv2d: 2-1                       [-1, 24, 240, 240]        3,552\n",
       "|    └─ReLU: 2-2                         [-1, 24, 240, 240]        --\n",
       "|    └─MaxPool2d: 2-3                    [-1, 24, 120, 120]        --\n",
       "├─Sequential: 1-2                        [-1, 24, 60, 60]          --\n",
       "|    └─Conv2d: 2-4                       [-1, 24, 120, 120]        28,248\n",
       "|    └─ReLU: 2-5                         [-1, 24, 120, 120]        --\n",
       "|    └─MaxPool2d: 2-6                    [-1, 24, 60, 60]          --\n",
       "├─Conv2d: 1-3                            [-1, 48, 30, 30]          10,416\n",
       "├─Sequential: 1-4                        [-1, 24, 60, 60]          --\n",
       "|    └─ConvTranspose2d: 2-7              [-1, 24, 60, 60]          4,632\n",
       "|    └─ReLU: 2-8                         [-1, 24, 60, 60]          --\n",
       "├─Sequential: 1-5                        [-1, 24, 60, 60]          --\n",
       "|    └─Conv2d: 2-9                       [-1, 24, 60, 60]          56,472\n",
       "|    └─ReLU: 2-10                        [-1, 24, 60, 60]          --\n",
       "├─Sequential: 1-6                        [-1, 24, 120, 120]        --\n",
       "|    └─ConvTranspose2d: 2-11             [-1, 24, 120, 120]        2,328\n",
       "|    └─ReLU: 2-12                        [-1, 24, 120, 120]        --\n",
       "├─Sequential: 1-7                        [-1, 24, 120, 120]        --\n",
       "|    └─Conv2d: 2-13                      [-1, 24, 120, 120]        56,472\n",
       "|    └─ReLU: 2-14                        [-1, 24, 120, 120]        --\n",
       "├─Sequential: 1-8                        [-1, 24, 240, 240]        --\n",
       "|    └─ConvTranspose2d: 2-15             [-1, 24, 240, 240]        2,328\n",
       "|    └─ReLU: 2-16                        [-1, 24, 240, 240]        --\n",
       "├─Conv2d: 1-9                            [-1, 2, 240, 240]         50\n",
       "==========================================================================================\n",
       "Total params: 164,498\n",
       "Trainable params: 164,498\n",
       "Non-trainable params: 0\n",
       "Total mult-adds (G): 1.82\n",
       "==========================================================================================\n",
       "Input size (MB): 0.66\n",
       "Forward/backward pass size (MB): 31.53\n",
       "Params size (MB): 0.63\n",
       "Estimated Total Size (MB): 32.82\n",
       "=========================================================================================="
      ]
     },
     "execution_count": 56,
     "metadata": {},
     "output_type": "execute_result"
    }
   ],
   "source": [
    "unet = UNet(\n",
    "    in_channels=3,\n",
    "    n_kernels=[\n",
    "        arch_description[\"layer1\"][\"conv\"][\"noutput_channels\"],\n",
    "        arch_description[\"layer2\"][\"conv\"][\"noutput_channels\"],\n",
    "    ],\n",
    "    kernel_sizes=[\n",
    "        arch_description[\"layer1\"][\"conv\"][\"kernel_size\"][0],\n",
    "        arch_description[\"layer2\"][\"conv\"][\"kernel_size\"][0]\n",
    "    ],\n",
    "    bottleneck_size=3,\n",
    "    activations_path=DATA_PATH / Path(\"exper/FLIM_ENC_whole_data_frozen_encoder\")\n",
    ").to(DEVICE)\n",
    "\n",
    "load_FLIM_encoder(\n",
    "    model=unet,\n",
    "    arch_json=ARCH_JSON,\n",
    "    weights_path=WEIGHTS_PATH,\n",
    "    channels=[\n",
    "        3,\n",
    "        arch_description[\"layer1\"][\"conv\"][\"noutput_channels\"],\n",
    "        arch_description[\"layer2\"][\"conv\"][\"noutput_channels\"],\n",
    "    ] # [Input Channels, Kernels Layer 1, Kernels Layer 2, ....]\n",
    ")\n",
    "\n",
    "summary(unet, (3,240,240))"
   ]
  },
  {
   "cell_type": "markdown",
   "metadata": {},
   "source": [
    "Then, we first train our model without updating the FLIM-Encoder."
   ]
  },
  {
   "cell_type": "code",
   "execution_count": 22,
   "metadata": {
    "tags": []
   },
   "outputs": [
    {
     "name": "stdout",
     "output_type": "stream",
     "text": [
      "EPOCH: 1.000\ttrn_loss: 0.989\ttrn_accuracy: 0.516\t(0.43s - 85.62s remaining)\n",
      "EPOCH: 2.000\ttrn_loss: 0.987\ttrn_accuracy: 0.600\t(0.78s - 77.48s remaining)\n",
      "EPOCH: 3.000\ttrn_loss: 0.987\ttrn_accuracy: 0.712\t(1.13s - 74.00s remaining)\n",
      "EPOCH: 4.000\ttrn_loss: 0.986\ttrn_accuracy: 0.734\t(1.46s - 71.76s remaining)\n",
      "EPOCH: 5.000\ttrn_loss: 0.986\ttrn_accuracy: 0.734\t(1.81s - 70.49s remaining)\n",
      "EPOCH: 6.000\ttrn_loss: 0.986\ttrn_accuracy: 0.735\t(2.16s - 69.93s remaining)\n",
      "EPOCH: 7.000\ttrn_loss: 0.986\ttrn_accuracy: 0.735\t(2.50s - 68.91s remaining)\n",
      "EPOCH: 8.000\ttrn_loss: 0.986\ttrn_accuracy: 0.735\t(2.84s - 68.06s remaining)\n",
      "EPOCH: 9.000\ttrn_loss: 0.986\ttrn_accuracy: 0.734\t(3.17s - 67.33s remaining)\n",
      "EPOCH: 10.000\ttrn_loss: 0.986\ttrn_accuracy: 0.734\t(3.51s - 66.66s remaining)\n",
      "EPOCH: 11.000\ttrn_loss: 0.986\ttrn_accuracy: 0.734\t(3.84s - 66.05s remaining)\n",
      "EPOCH: 12.000\ttrn_loss: 0.986\ttrn_accuracy: 0.737\t(4.18s - 65.49s remaining)\n",
      "EPOCH: 13.000\ttrn_loss: 0.985\ttrn_accuracy: 0.741\t(4.52s - 64.97s remaining)\n",
      "EPOCH: 14.000\ttrn_loss: 0.985\ttrn_accuracy: 0.747\t(4.86s - 64.50s remaining)\n",
      "EPOCH: 15.000\ttrn_loss: 0.985\ttrn_accuracy: 0.745\t(5.19s - 64.07s remaining)\n",
      "EPOCH: 16.000\ttrn_loss: 0.985\ttrn_accuracy: 0.759\t(5.53s - 63.63s remaining)\n",
      "EPOCH: 17.000\ttrn_loss: 0.985\ttrn_accuracy: 0.759\t(5.88s - 63.33s remaining)\n",
      "EPOCH: 18.000\ttrn_loss: 0.985\ttrn_accuracy: 0.765\t(6.23s - 63.04s remaining)\n",
      "EPOCH: 19.000\ttrn_loss: 0.985\ttrn_accuracy: 0.769\t(6.58s - 62.64s remaining)\n",
      "EPOCH: 20.000\ttrn_loss: 0.985\ttrn_accuracy: 0.772\t(6.92s - 62.24s remaining)\n",
      "EPOCH: 21.000\ttrn_loss: 0.985\ttrn_accuracy: 0.769\t(7.26s - 61.88s remaining)\n",
      "EPOCH: 22.000\ttrn_loss: 0.985\ttrn_accuracy: 0.778\t(7.63s - 61.71s remaining)\n",
      "EPOCH: 23.000\ttrn_loss: 0.985\ttrn_accuracy: 0.787\t(8.00s - 61.54s remaining)\n",
      "EPOCH: 24.000\ttrn_loss: 0.985\ttrn_accuracy: 0.819\t(8.37s - 61.36s remaining)\n",
      "EPOCH: 25.000\ttrn_loss: 0.984\ttrn_accuracy: 0.856\t(8.74s - 61.16s remaining)\n",
      "EPOCH: 26.000\ttrn_loss: 0.984\ttrn_accuracy: 0.796\t(9.08s - 60.79s remaining)\n",
      "EPOCH: 27.000\ttrn_loss: 0.984\ttrn_accuracy: 0.806\t(9.44s - 60.46s remaining)\n",
      "EPOCH: 28.000\ttrn_loss: 0.984\ttrn_accuracy: 0.804\t(9.80s - 60.18s remaining)\n",
      "EPOCH: 29.000\ttrn_loss: 0.984\ttrn_accuracy: 0.905\t(10.14s - 59.78s remaining)\n",
      "EPOCH: 30.000\ttrn_loss: 0.984\ttrn_accuracy: 0.883\t(10.48s - 59.40s remaining)\n",
      "EPOCH: 31.000\ttrn_loss: 0.984\ttrn_accuracy: 0.844\t(10.82s - 59.01s remaining)\n",
      "EPOCH: 32.000\ttrn_loss: 0.984\ttrn_accuracy: 0.790\t(11.17s - 58.62s remaining)\n",
      "EPOCH: 33.000\ttrn_loss: 0.984\ttrn_accuracy: 0.904\t(11.52s - 58.29s remaining)\n",
      "EPOCH: 34.000\ttrn_loss: 0.984\ttrn_accuracy: 0.938\t(11.86s - 57.90s remaining)\n",
      "EPOCH: 35.000\ttrn_loss: 0.984\ttrn_accuracy: 0.952\t(12.20s - 57.52s remaining)\n",
      "EPOCH: 36.000\ttrn_loss: 0.984\ttrn_accuracy: 0.897\t(12.54s - 57.14s remaining)\n",
      "EPOCH: 37.000\ttrn_loss: 0.984\ttrn_accuracy: 0.902\t(12.89s - 56.79s remaining)\n",
      "EPOCH: 38.000\ttrn_loss: 0.984\ttrn_accuracy: 0.893\t(13.23s - 56.41s remaining)\n",
      "EPOCH: 39.000\ttrn_loss: 0.984\ttrn_accuracy: 0.887\t(13.57s - 56.04s remaining)\n",
      "EPOCH: 40.000\ttrn_loss: 0.984\ttrn_accuracy: 0.877\t(13.92s - 55.66s remaining)\n",
      "EPOCH: 41.000\ttrn_loss: 0.984\ttrn_accuracy: 0.872\t(14.26s - 55.30s remaining)\n",
      "EPOCH: 42.000\ttrn_loss: 0.984\ttrn_accuracy: 0.872\t(14.60s - 54.94s remaining)\n",
      "EPOCH: 43.000\ttrn_loss: 0.984\ttrn_accuracy: 0.869\t(14.95s - 54.58s remaining)\n",
      "EPOCH: 44.000\ttrn_loss: 0.984\ttrn_accuracy: 0.862\t(15.29s - 54.22s remaining)\n",
      "EPOCH: 45.000\ttrn_loss: 0.984\ttrn_accuracy: 0.862\t(15.63s - 53.85s remaining)\n",
      "EPOCH: 46.000\ttrn_loss: 0.984\ttrn_accuracy: 0.861\t(15.98s - 53.49s remaining)\n",
      "EPOCH: 47.000\ttrn_loss: 0.984\ttrn_accuracy: 0.862\t(16.32s - 53.12s remaining)\n",
      "EPOCH: 48.000\ttrn_loss: 0.984\ttrn_accuracy: 0.862\t(16.68s - 52.83s remaining)\n",
      "EPOCH: 49.000\ttrn_loss: 0.984\ttrn_accuracy: 0.862\t(17.05s - 52.53s remaining)\n",
      "EPOCH: 50.000\ttrn_loss: 0.984\ttrn_accuracy: 0.863\t(17.39s - 52.18s remaining)\n",
      "EPOCH: 51.000\ttrn_loss: 0.984\ttrn_accuracy: 0.863\t(17.74s - 51.83s remaining)\n",
      "EPOCH: 52.000\ttrn_loss: 0.984\ttrn_accuracy: 0.862\t(18.09s - 51.47s remaining)\n",
      "EPOCH: 53.000\ttrn_loss: 0.984\ttrn_accuracy: 0.859\t(18.43s - 51.12s remaining)\n",
      "EPOCH: 54.000\ttrn_loss: 0.984\ttrn_accuracy: 0.856\t(18.78s - 50.77s remaining)\n",
      "EPOCH: 55.000\ttrn_loss: 0.984\ttrn_accuracy: 0.858\t(19.12s - 50.41s remaining)\n",
      "EPOCH: 56.000\ttrn_loss: 0.984\ttrn_accuracy: 0.853\t(19.46s - 50.05s remaining)\n",
      "EPOCH: 57.000\ttrn_loss: 0.984\ttrn_accuracy: 0.853\t(19.80s - 49.69s remaining)\n",
      "EPOCH: 58.000\ttrn_loss: 0.984\ttrn_accuracy: 0.854\t(20.15s - 49.34s remaining)\n",
      "EPOCH: 59.000\ttrn_loss: 0.984\ttrn_accuracy: 0.855\t(20.49s - 48.98s remaining)\n",
      "EPOCH: 60.000\ttrn_loss: 0.984\ttrn_accuracy: 0.861\t(20.85s - 48.65s remaining)\n",
      "EPOCH: 61.000\ttrn_loss: 0.984\ttrn_accuracy: 0.861\t(21.22s - 48.35s remaining)\n",
      "EPOCH: 62.000\ttrn_loss: 0.984\ttrn_accuracy: 0.864\t(21.55s - 47.97s remaining)\n",
      "EPOCH: 63.000\ttrn_loss: 0.984\ttrn_accuracy: 0.864\t(21.89s - 47.60s remaining)\n",
      "EPOCH: 64.000\ttrn_loss: 0.984\ttrn_accuracy: 0.864\t(22.23s - 47.23s remaining)\n",
      "EPOCH: 65.000\ttrn_loss: 0.984\ttrn_accuracy: 0.865\t(22.56s - 46.86s remaining)\n",
      "EPOCH: 66.000\ttrn_loss: 0.984\ttrn_accuracy: 0.866\t(22.90s - 46.49s remaining)\n",
      "EPOCH: 67.000\ttrn_loss: 0.984\ttrn_accuracy: 0.866\t(23.24s - 46.12s remaining)\n",
      "EPOCH: 68.000\ttrn_loss: 0.984\ttrn_accuracy: 0.866\t(23.58s - 45.78s remaining)\n",
      "EPOCH: 69.000\ttrn_loss: 0.984\ttrn_accuracy: 0.866\t(23.93s - 45.42s remaining)\n",
      "EPOCH: 70.000\ttrn_loss: 0.984\ttrn_accuracy: 0.866\t(24.27s - 45.07s remaining)\n",
      "EPOCH: 71.000\ttrn_loss: 0.984\ttrn_accuracy: 0.866\t(24.61s - 44.71s remaining)\n",
      "EPOCH: 72.000\ttrn_loss: 0.984\ttrn_accuracy: 0.866\t(24.95s - 44.36s remaining)\n",
      "EPOCH: 73.000\ttrn_loss: 0.984\ttrn_accuracy: 0.867\t(25.29s - 44.01s remaining)\n",
      "EPOCH: 74.000\ttrn_loss: 0.984\ttrn_accuracy: 0.867\t(25.63s - 43.65s remaining)\n",
      "EPOCH: 75.000\ttrn_loss: 0.984\ttrn_accuracy: 0.869\t(25.98s - 43.29s remaining)\n",
      "EPOCH: 76.000\ttrn_loss: 0.984\ttrn_accuracy: 0.874\t(26.32s - 42.94s remaining)\n",
      "EPOCH: 77.000\ttrn_loss: 0.984\ttrn_accuracy: 0.876\t(26.66s - 42.58s remaining)\n",
      "EPOCH: 78.000\ttrn_loss: 0.984\ttrn_accuracy: 0.877\t(27.00s - 42.23s remaining)\n",
      "EPOCH: 79.000\ttrn_loss: 0.984\ttrn_accuracy: 0.877\t(27.36s - 41.90s remaining)\n",
      "EPOCH: 80.000\ttrn_loss: 0.984\ttrn_accuracy: 0.878\t(27.70s - 41.54s remaining)\n",
      "EPOCH: 81.000\ttrn_loss: 0.984\ttrn_accuracy: 0.878\t(28.04s - 41.19s remaining)\n",
      "EPOCH: 82.000\ttrn_loss: 0.984\ttrn_accuracy: 0.878\t(28.38s - 40.84s remaining)\n",
      "EPOCH: 83.000\ttrn_loss: 0.984\ttrn_accuracy: 0.884\t(28.72s - 40.48s remaining)\n",
      "EPOCH: 84.000\ttrn_loss: 0.984\ttrn_accuracy: 0.888\t(29.06s - 40.13s remaining)\n",
      "EPOCH: 85.000\ttrn_loss: 0.984\ttrn_accuracy: 0.889\t(29.40s - 39.78s remaining)\n",
      "EPOCH: 86.000\ttrn_loss: 0.984\ttrn_accuracy: 0.894\t(29.75s - 39.43s remaining)\n",
      "EPOCH: 87.000\ttrn_loss: 0.984\ttrn_accuracy: 0.898\t(30.11s - 39.10s remaining)\n",
      "EPOCH: 88.000\ttrn_loss: 0.984\ttrn_accuracy: 0.899\t(30.45s - 38.76s remaining)\n",
      "EPOCH: 89.000\ttrn_loss: 0.984\ttrn_accuracy: 0.900\t(30.79s - 38.40s remaining)\n",
      "EPOCH: 90.000\ttrn_loss: 0.984\ttrn_accuracy: 0.901\t(31.12s - 38.04s remaining)\n",
      "EPOCH: 91.000\ttrn_loss: 0.984\ttrn_accuracy: 0.910\t(31.46s - 37.68s remaining)\n",
      "EPOCH: 92.000\ttrn_loss: 0.984\ttrn_accuracy: 0.910\t(31.80s - 37.33s remaining)\n",
      "EPOCH: 93.000\ttrn_loss: 0.984\ttrn_accuracy: 0.912\t(32.13s - 36.97s remaining)\n",
      "EPOCH: 94.000\ttrn_loss: 0.984\ttrn_accuracy: 0.919\t(32.47s - 36.61s remaining)\n",
      "EPOCH: 95.000\ttrn_loss: 0.984\ttrn_accuracy: 0.920\t(32.81s - 36.26s remaining)\n",
      "EPOCH: 96.000\ttrn_loss: 0.984\ttrn_accuracy: 0.920\t(33.15s - 35.92s remaining)\n",
      "EPOCH: 97.000\ttrn_loss: 0.984\ttrn_accuracy: 0.920\t(33.51s - 35.58s remaining)\n",
      "EPOCH: 98.000\ttrn_loss: 0.984\ttrn_accuracy: 0.920\t(33.85s - 35.23s remaining)\n",
      "EPOCH: 99.000\ttrn_loss: 0.984\ttrn_accuracy: 0.921\t(34.19s - 34.88s remaining)\n",
      "EPOCH: 100.000\ttrn_loss: 0.984\ttrn_accuracy: 0.923\t(34.53s - 34.53s remaining)\n",
      "EPOCH: 101.000\ttrn_loss: 0.984\ttrn_accuracy: 0.921\t(34.87s - 34.18s remaining)\n",
      "EPOCH: 102.000\ttrn_loss: 0.984\ttrn_accuracy: 0.934\t(35.21s - 33.83s remaining)\n",
      "EPOCH: 103.000\ttrn_loss: 0.984\ttrn_accuracy: 0.932\t(35.55s - 33.48s remaining)\n",
      "EPOCH: 104.000\ttrn_loss: 0.984\ttrn_accuracy: 0.940\t(35.89s - 33.13s remaining)\n",
      "EPOCH: 105.000\ttrn_loss: 0.984\ttrn_accuracy: 0.943\t(36.23s - 32.78s remaining)\n",
      "EPOCH: 106.000\ttrn_loss: 0.984\ttrn_accuracy: 0.944\t(36.58s - 32.44s remaining)\n"
     ]
    },
    {
     "name": "stdout",
     "output_type": "stream",
     "text": [
      "EPOCH: 107.000\ttrn_loss: 0.984\ttrn_accuracy: 0.956\t(36.92s - 32.09s remaining)\n",
      "EPOCH: 108.000\ttrn_loss: 0.984\ttrn_accuracy: 0.959\t(37.26s - 31.74s remaining)\n",
      "EPOCH: 109.000\ttrn_loss: 0.984\ttrn_accuracy: 0.959\t(37.60s - 31.39s remaining)\n",
      "EPOCH: 110.000\ttrn_loss: 0.984\ttrn_accuracy: 0.959\t(37.94s - 31.04s remaining)\n",
      "EPOCH: 111.000\ttrn_loss: 0.984\ttrn_accuracy: 0.959\t(38.28s - 30.69s remaining)\n",
      "EPOCH: 112.000\ttrn_loss: 0.984\ttrn_accuracy: 0.959\t(38.62s - 30.34s remaining)\n",
      "EPOCH: 113.000\ttrn_loss: 0.984\ttrn_accuracy: 0.959\t(38.96s - 30.00s remaining)\n",
      "EPOCH: 114.000\ttrn_loss: 0.984\ttrn_accuracy: 0.959\t(39.31s - 29.66s remaining)\n",
      "EPOCH: 115.000\ttrn_loss: 0.984\ttrn_accuracy: 0.960\t(39.65s - 29.31s remaining)\n",
      "EPOCH: 116.000\ttrn_loss: 0.984\ttrn_accuracy: 0.961\t(40.00s - 28.96s remaining)\n",
      "EPOCH: 117.000\ttrn_loss: 0.984\ttrn_accuracy: 0.961\t(40.34s - 28.62s remaining)\n",
      "EPOCH: 118.000\ttrn_loss: 0.984\ttrn_accuracy: 0.963\t(40.69s - 28.27s remaining)\n",
      "EPOCH: 119.000\ttrn_loss: 0.984\ttrn_accuracy: 0.969\t(41.03s - 27.93s remaining)\n",
      "EPOCH: 120.000\ttrn_loss: 0.984\ttrn_accuracy: 0.970\t(41.37s - 27.58s remaining)\n",
      "EPOCH: 121.000\ttrn_loss: 0.984\ttrn_accuracy: 0.971\t(41.71s - 27.23s remaining)\n",
      "EPOCH: 122.000\ttrn_loss: 0.984\ttrn_accuracy: 0.971\t(42.05s - 26.88s remaining)\n",
      "EPOCH: 123.000\ttrn_loss: 0.984\ttrn_accuracy: 0.977\t(42.39s - 26.54s remaining)\n",
      "EPOCH: 124.000\ttrn_loss: 0.984\ttrn_accuracy: 0.976\t(42.73s - 26.19s remaining)\n",
      "EPOCH: 125.000\ttrn_loss: 0.984\ttrn_accuracy: 0.977\t(43.07s - 25.84s remaining)\n",
      "EPOCH: 126.000\ttrn_loss: 0.984\ttrn_accuracy: 0.973\t(43.42s - 25.50s remaining)\n",
      "EPOCH: 127.000\ttrn_loss: 0.984\ttrn_accuracy: 0.976\t(43.77s - 25.16s remaining)\n",
      "EPOCH: 128.000\ttrn_loss: 0.984\ttrn_accuracy: 0.975\t(44.11s - 24.81s remaining)\n",
      "EPOCH: 129.000\ttrn_loss: 0.984\ttrn_accuracy: 0.972\t(44.46s - 24.47s remaining)\n",
      "EPOCH: 130.000\ttrn_loss: 0.984\ttrn_accuracy: 0.973\t(44.80s - 24.12s remaining)\n",
      "EPOCH: 131.000\ttrn_loss: 0.984\ttrn_accuracy: 0.978\t(45.15s - 23.78s remaining)\n",
      "EPOCH: 132.000\ttrn_loss: 0.984\ttrn_accuracy: 0.973\t(45.49s - 23.43s remaining)\n",
      "EPOCH: 133.000\ttrn_loss: 0.984\ttrn_accuracy: 0.975\t(45.84s - 23.09s remaining)\n",
      "EPOCH: 134.000\ttrn_loss: 0.984\ttrn_accuracy: 0.978\t(46.18s - 22.74s remaining)\n",
      "EPOCH: 135.000\ttrn_loss: 0.984\ttrn_accuracy: 0.980\t(46.52s - 22.40s remaining)\n",
      "EPOCH: 136.000\ttrn_loss: 0.984\ttrn_accuracy: 0.981\t(46.85s - 22.05s remaining)\n",
      "EPOCH: 137.000\ttrn_loss: 0.984\ttrn_accuracy: 0.981\t(47.19s - 21.70s remaining)\n",
      "EPOCH: 138.000\ttrn_loss: 0.984\ttrn_accuracy: 0.977\t(47.53s - 21.35s remaining)\n",
      "EPOCH: 139.000\ttrn_loss: 0.984\ttrn_accuracy: 0.981\t(47.86s - 21.00s remaining)\n",
      "EPOCH: 140.000\ttrn_loss: 0.984\ttrn_accuracy: 0.981\t(48.21s - 20.66s remaining)\n",
      "EPOCH: 141.000\ttrn_loss: 0.984\ttrn_accuracy: 0.981\t(48.58s - 20.33s remaining)\n",
      "EPOCH: 142.000\ttrn_loss: 0.984\ttrn_accuracy: 0.981\t(48.92s - 19.98s remaining)\n",
      "EPOCH: 143.000\ttrn_loss: 0.984\ttrn_accuracy: 0.981\t(49.26s - 19.64s remaining)\n",
      "EPOCH: 144.000\ttrn_loss: 0.984\ttrn_accuracy: 0.981\t(49.61s - 19.29s remaining)\n",
      "EPOCH: 145.000\ttrn_loss: 0.984\ttrn_accuracy: 0.981\t(49.95s - 18.95s remaining)\n",
      "EPOCH: 146.000\ttrn_loss: 0.984\ttrn_accuracy: 0.981\t(50.29s - 18.60s remaining)\n",
      "EPOCH: 147.000\ttrn_loss: 0.984\ttrn_accuracy: 0.981\t(50.64s - 18.26s remaining)\n",
      "EPOCH: 148.000\ttrn_loss: 0.984\ttrn_accuracy: 0.982\t(50.98s - 17.91s remaining)\n",
      "EPOCH: 149.000\ttrn_loss: 0.984\ttrn_accuracy: 0.982\t(51.33s - 17.57s remaining)\n",
      "EPOCH: 150.000\ttrn_loss: 0.984\ttrn_accuracy: 0.982\t(51.67s - 17.22s remaining)\n",
      "EPOCH: 151.000\ttrn_loss: 0.984\ttrn_accuracy: 0.982\t(52.02s - 16.88s remaining)\n",
      "EPOCH: 152.000\ttrn_loss: 0.984\ttrn_accuracy: 0.982\t(52.36s - 16.54s remaining)\n",
      "EPOCH: 153.000\ttrn_loss: 0.984\ttrn_accuracy: 0.982\t(52.71s - 16.19s remaining)\n",
      "EPOCH: 154.000\ttrn_loss: 0.984\ttrn_accuracy: 0.982\t(53.05s - 15.85s remaining)\n",
      "EPOCH: 155.000\ttrn_loss: 0.984\ttrn_accuracy: 0.982\t(53.42s - 15.51s remaining)\n",
      "EPOCH: 156.000\ttrn_loss: 0.984\ttrn_accuracy: 0.983\t(53.77s - 15.16s remaining)\n",
      "EPOCH: 157.000\ttrn_loss: 0.984\ttrn_accuracy: 0.984\t(54.11s - 14.82s remaining)\n",
      "EPOCH: 158.000\ttrn_loss: 0.984\ttrn_accuracy: 0.984\t(54.45s - 14.47s remaining)\n",
      "EPOCH: 159.000\ttrn_loss: 0.984\ttrn_accuracy: 0.984\t(54.79s - 14.13s remaining)\n",
      "EPOCH: 160.000\ttrn_loss: 0.984\ttrn_accuracy: 0.984\t(55.13s - 13.78s remaining)\n",
      "EPOCH: 161.000\ttrn_loss: 0.984\ttrn_accuracy: 0.985\t(55.47s - 13.44s remaining)\n",
      "EPOCH: 162.000\ttrn_loss: 0.984\ttrn_accuracy: 0.984\t(55.83s - 13.10s remaining)\n",
      "EPOCH: 163.000\ttrn_loss: 0.984\ttrn_accuracy: 0.985\t(56.17s - 12.75s remaining)\n",
      "EPOCH: 164.000\ttrn_loss: 0.984\ttrn_accuracy: 0.985\t(56.52s - 12.41s remaining)\n",
      "EPOCH: 165.000\ttrn_loss: 0.984\ttrn_accuracy: 0.985\t(56.86s - 12.06s remaining)\n",
      "EPOCH: 166.000\ttrn_loss: 0.984\ttrn_accuracy: 0.985\t(57.20s - 11.72s remaining)\n",
      "EPOCH: 167.000\ttrn_loss: 0.984\ttrn_accuracy: 0.985\t(57.55s - 11.37s remaining)\n",
      "EPOCH: 168.000\ttrn_loss: 0.984\ttrn_accuracy: 0.985\t(57.89s - 11.03s remaining)\n",
      "EPOCH: 169.000\ttrn_loss: 0.984\ttrn_accuracy: 0.985\t(58.24s - 10.68s remaining)\n",
      "EPOCH: 170.000\ttrn_loss: 0.984\ttrn_accuracy: 0.985\t(58.58s - 10.34s remaining)\n",
      "EPOCH: 171.000\ttrn_loss: 0.984\ttrn_accuracy: 0.985\t(58.93s - 9.99s remaining)\n",
      "EPOCH: 172.000\ttrn_loss: 0.984\ttrn_accuracy: 0.985\t(59.26s - 9.65s remaining)\n",
      "EPOCH: 173.000\ttrn_loss: 0.984\ttrn_accuracy: 0.985\t(59.60s - 9.30s remaining)\n",
      "EPOCH: 174.000\ttrn_loss: 0.984\ttrn_accuracy: 0.985\t(59.94s - 8.96s remaining)\n",
      "EPOCH: 175.000\ttrn_loss: 0.984\ttrn_accuracy: 0.985\t(60.27s - 8.61s remaining)\n",
      "EPOCH: 176.000\ttrn_loss: 0.984\ttrn_accuracy: 0.985\t(60.60s - 8.26s remaining)\n",
      "EPOCH: 177.000\ttrn_loss: 0.984\ttrn_accuracy: 0.985\t(60.94s - 7.92s remaining)\n",
      "EPOCH: 178.000\ttrn_loss: 0.984\ttrn_accuracy: 0.985\t(61.27s - 7.57s remaining)\n",
      "EPOCH: 179.000\ttrn_loss: 0.984\ttrn_accuracy: 0.985\t(61.61s - 7.23s remaining)\n",
      "EPOCH: 180.000\ttrn_loss: 0.984\ttrn_accuracy: 0.985\t(61.95s - 6.88s remaining)\n",
      "EPOCH: 181.000\ttrn_loss: 0.984\ttrn_accuracy: 0.985\t(62.29s - 6.54s remaining)\n",
      "EPOCH: 182.000\ttrn_loss: 0.984\ttrn_accuracy: 0.985\t(62.64s - 6.20s remaining)\n",
      "EPOCH: 183.000\ttrn_loss: 0.984\ttrn_accuracy: 0.985\t(62.98s - 5.85s remaining)\n",
      "EPOCH: 184.000\ttrn_loss: 0.984\ttrn_accuracy: 0.985\t(63.32s - 5.51s remaining)\n",
      "EPOCH: 185.000\ttrn_loss: 0.984\ttrn_accuracy: 0.985\t(63.66s - 5.16s remaining)\n",
      "EPOCH: 186.000\ttrn_loss: 0.984\ttrn_accuracy: 0.985\t(64.02s - 4.82s remaining)\n",
      "EPOCH: 187.000\ttrn_loss: 0.984\ttrn_accuracy: 0.985\t(64.36s - 4.47s remaining)\n",
      "EPOCH: 188.000\ttrn_loss: 0.984\ttrn_accuracy: 0.985\t(64.70s - 4.13s remaining)\n",
      "EPOCH: 189.000\ttrn_loss: 0.984\ttrn_accuracy: 0.985\t(65.06s - 3.79s remaining)\n",
      "EPOCH: 190.000\ttrn_loss: 0.984\ttrn_accuracy: 0.985\t(65.40s - 3.44s remaining)\n",
      "EPOCH: 191.000\ttrn_loss: 0.984\ttrn_accuracy: 0.985\t(65.74s - 3.10s remaining)\n",
      "EPOCH: 192.000\ttrn_loss: 0.984\ttrn_accuracy: 0.985\t(66.08s - 2.75s remaining)\n",
      "EPOCH: 193.000\ttrn_loss: 0.984\ttrn_accuracy: 0.985\t(66.41s - 2.41s remaining)\n",
      "EPOCH: 194.000\ttrn_loss: 0.984\ttrn_accuracy: 0.985\t(66.75s - 2.06s remaining)\n",
      "EPOCH: 195.000\ttrn_loss: 0.984\ttrn_accuracy: 0.985\t(67.09s - 1.72s remaining)\n",
      "EPOCH: 196.000\ttrn_loss: 0.984\ttrn_accuracy: 0.985\t(67.42s - 1.38s remaining)\n",
      "EPOCH: 197.000\ttrn_loss: 0.984\ttrn_accuracy: 0.985\t(67.76s - 1.03s remaining)\n",
      "EPOCH: 198.000\ttrn_loss: 0.984\ttrn_accuracy: 0.985\t(68.10s - 0.69s remaining)\n",
      "EPOCH: 199.000\ttrn_loss: 0.984\ttrn_accuracy: 0.986\t(68.44s - 0.34s remaining)\n",
      "EPOCH: 200.000\ttrn_loss: 0.984\ttrn_accuracy: 0.986\t(68.78s - 0.00s remaining)\n",
      "[INFO] Saving activations!\n"
     ]
    },
    {
     "name": "stderr",
     "output_type": "stream",
     "text": [
      "100%|███████████████████████████████████████████| 76/76 [00:02<00:00, 34.67it/s]\n",
      "100%|██████████████████████████████████████| 301/301 [00:00<00:00, 30131.64it/s]\n",
      "100%|██████████████████████████████████████| 301/301 [00:00<00:00, 27242.20it/s]\n"
     ]
    },
    {
     "data": {
      "image/png": "[encoded data removed]",
      "text/plain": [
       "<Figure size 576x432 with 1 Axes>"
      ]
     },
     "metadata": {
      "needs_background": "light"
     },
     "output_type": "display_data"
    },
    {
     "data": {
      "image/png": "[encoded data removed]",
      "text/plain": [
       "<Figure size 576x432 with 1 Axes>"
      ]
     },
     "metadata": {
      "needs_background": "light"
     },
     "output_type": "display_data"
    }
   ],
   "source": [
    "train_loop(\n",
    "    epochs=200,\n",
    "    model=unet,\n",
    "    dataloader=train_dataloader,\n",
    "    lr=1e-3,\n",
    "    loss_function=loss_fuctions[\"dice\"],\n",
    "    weights=[1, 1], # Classes weights (Background and Foreground)\n",
    "    freeze_encoder=True,\n",
    "    use_lr_scheduler=True\n",
    ")"
   ]
  },
  {
   "cell_type": "markdown",
   "metadata": {},
   "source": [
    "Now, we run our testing method (`predict_and_evaluate`) for the trained model, using the training and testing data."
   ]
  },
  {
   "cell_type": "code",
   "execution_count": 23,
   "metadata": {
    "tags": []
   },
   "outputs": [
    {
     "name": "stdout",
     "output_type": "stream",
     "text": [
      "[INFO] Training Metrics\n"
     ]
    },
    {
     "name": "stderr",
     "output_type": "stream",
     "text": [
      "76it [00:00, 110.63it/s]"
     ]
    },
    {
     "name": "stdout",
     "output_type": "stream",
     "text": [
      "[INFO] Avg Accuracy: 0.9856025576591492 +/- 0.011624949984252453\n",
      "[INFO] Avg Dice: 0.0 +/- 0.0\n",
      "[INFO] Avg IoU: 0.2630897081996265 +/- 0.24308442840522385\n"
     ]
    },
    {
     "name": "stderr",
     "output_type": "stream",
     "text": [
      "\n"
     ]
    }
   ],
   "source": [
    "print(\"[INFO] Training Metrics\")\n",
    "predict_and_evaluate(model=unet, data_loader=train_dataloader)"
   ]
  },
  {
   "cell_type": "code",
   "execution_count": 24,
   "metadata": {
    "tags": []
   },
   "outputs": [
    {
     "name": "stdout",
     "output_type": "stream",
     "text": [
      "[INFO] Test Metrics\n"
     ]
    },
    {
     "name": "stderr",
     "output_type": "stream",
     "text": [
      "20it [00:00, 102.55it/s]"
     ]
    },
    {
     "name": "stdout",
     "output_type": "stream",
     "text": [
      "[INFO] Avg Accuracy: 0.9855564832687378 +/- 0.01236756518483162\n",
      "[INFO] Avg Dice: 0.0 +/- 0.0\n",
      "[INFO] Avg IoU: 0.26831727623939516 +/- 0.24271972118394508\n"
     ]
    },
    {
     "name": "stderr",
     "output_type": "stream",
     "text": [
      "\n"
     ]
    }
   ],
   "source": [
    "print(\"[INFO] Test Metrics\")\n",
    "predict_and_evaluate(model=unet, data_loader=test_dataloader)"
   ]
  },
  {
   "cell_type": "markdown",
   "metadata": {},
   "source": [
    "____"
   ]
  },
  {
   "cell_type": "markdown",
   "metadata": {},
   "source": [
    "Now, we define a new model and also load FLIM weights."
   ]
  },
  {
   "cell_type": "code",
   "execution_count": 25,
   "metadata": {
    "tags": []
   },
   "outputs": [
    {
     "name": "stdout",
     "output_type": "stream",
     "text": [
      "[INFO] Loading FLIM Encoder\n",
      "[INFO] Loading Layer 1 weights\n",
      "torch.Size([8, 3, 7, 7])\n",
      "[INFO] Loading Layer 2 weights\n",
      "torch.Size([8, 8, 7, 7])\n"
     ]
    }
   ],
   "source": [
    "unet = UNet(\n",
    "    in_channels=3,\n",
    "    n_kernels=[\n",
    "        arch_description[\"layer1\"][\"conv\"][\"noutput_channels\"],\n",
    "        arch_description[\"layer2\"][\"conv\"][\"noutput_channels\"],\n",
    "    ],\n",
    "    kernel_sizes=[\n",
    "        arch_description[\"layer1\"][\"conv\"][\"kernel_size\"][0],\n",
    "        arch_description[\"layer2\"][\"conv\"][\"kernel_size\"][0], \n",
    "    ],\n",
    "    bottleneck_size=3,\n",
    "    activations_path=DATA_PATH / Path(\"exper/FLIM_ENC_lr_scheduler\")\n",
    ").to(DEVICE)\n",
    "\n",
    "load_FLIM_encoder(\n",
    "    model=unet,\n",
    "    arch_json=ARCH_JSON,\n",
    "    weights_path=WEIGHTS_PATH,\n",
    "    channels=[\n",
    "        3,\n",
    "        arch_description[\"layer1\"][\"conv\"][\"noutput_channels\"],\n",
    "        arch_description[\"layer2\"][\"conv\"][\"noutput_channels\"],\n",
    "    ] # [Input Channels, Kernels Layer 1, Kernels Layer 2, ....]\n",
    ")"
   ]
  },
  {
   "cell_type": "markdown",
   "metadata": {},
   "source": [
    "However, now, we will allow to fine-tune the encoder."
   ]
  },
  {
   "cell_type": "code",
   "execution_count": 26,
   "metadata": {
    "tags": []
   },
   "outputs": [
    {
     "name": "stdout",
     "output_type": "stream",
     "text": [
      "EPOCH: 1.000\ttrn_loss: 0.989\ttrn_accuracy: 0.517\t(0.50s - 99.40s remaining)\n",
      "EPOCH: 2.000\ttrn_loss: 0.987\ttrn_accuracy: 0.598\t(0.87s - 85.90s remaining)\n",
      "EPOCH: 3.000\ttrn_loss: 0.987\ttrn_accuracy: 0.714\t(1.23s - 80.77s remaining)\n",
      "EPOCH: 4.000\ttrn_loss: 0.986\ttrn_accuracy: 0.734\t(1.58s - 77.48s remaining)\n",
      "EPOCH: 5.000\ttrn_loss: 0.986\ttrn_accuracy: 0.735\t(1.95s - 76.05s remaining)\n",
      "EPOCH: 6.000\ttrn_loss: 0.986\ttrn_accuracy: 0.735\t(2.31s - 74.69s remaining)\n",
      "EPOCH: 7.000\ttrn_loss: 0.986\ttrn_accuracy: 0.736\t(2.67s - 73.67s remaining)\n",
      "EPOCH: 8.000\ttrn_loss: 0.986\ttrn_accuracy: 0.735\t(3.02s - 72.55s remaining)\n",
      "EPOCH: 9.000\ttrn_loss: 0.986\ttrn_accuracy: 0.734\t(3.38s - 71.66s remaining)\n",
      "EPOCH: 10.000\ttrn_loss: 0.986\ttrn_accuracy: 0.733\t(3.73s - 70.84s remaining)\n",
      "EPOCH: 11.000\ttrn_loss: 0.986\ttrn_accuracy: 0.735\t(4.08s - 70.10s remaining)\n",
      "EPOCH: 12.000\ttrn_loss: 0.986\ttrn_accuracy: 0.739\t(4.43s - 69.42s remaining)\n",
      "EPOCH: 13.000\ttrn_loss: 0.985\ttrn_accuracy: 0.745\t(4.79s - 68.85s remaining)\n",
      "EPOCH: 14.000\ttrn_loss: 0.985\ttrn_accuracy: 0.747\t(5.14s - 68.28s remaining)\n",
      "EPOCH: 15.000\ttrn_loss: 0.985\ttrn_accuracy: 0.750\t(5.49s - 67.74s remaining)\n",
      "EPOCH: 16.000\ttrn_loss: 0.985\ttrn_accuracy: 0.758\t(5.85s - 67.28s remaining)\n",
      "EPOCH: 17.000\ttrn_loss: 0.985\ttrn_accuracy: 0.761\t(6.21s - 66.82s remaining)\n",
      "EPOCH: 18.000\ttrn_loss: 0.985\ttrn_accuracy: 0.766\t(6.56s - 66.31s remaining)\n",
      "EPOCH: 19.000\ttrn_loss: 0.985\ttrn_accuracy: 0.769\t(6.91s - 65.83s remaining)\n",
      "EPOCH: 20.000\ttrn_loss: 0.985\ttrn_accuracy: 0.770\t(7.26s - 65.36s remaining)\n",
      "EPOCH: 21.000\ttrn_loss: 0.985\ttrn_accuracy: 0.776\t(7.62s - 64.92s remaining)\n",
      "EPOCH: 22.000\ttrn_loss: 0.985\ttrn_accuracy: 0.783\t(7.97s - 64.46s remaining)\n",
      "EPOCH: 23.000\ttrn_loss: 0.985\ttrn_accuracy: 0.788\t(8.32s - 64.01s remaining)\n",
      "EPOCH: 24.000\ttrn_loss: 0.985\ttrn_accuracy: 0.821\t(8.67s - 63.57s remaining)\n",
      "EPOCH: 25.000\ttrn_loss: 0.985\ttrn_accuracy: 0.913\t(9.02s - 63.13s remaining)\n",
      "EPOCH: 26.000\ttrn_loss: 0.985\ttrn_accuracy: 0.856\t(9.37s - 62.70s remaining)\n",
      "EPOCH: 27.000\ttrn_loss: 0.985\ttrn_accuracy: 0.903\t(9.72s - 62.29s remaining)\n",
      "EPOCH: 28.000\ttrn_loss: 0.985\ttrn_accuracy: 0.982\t(10.07s - 61.87s remaining)\n",
      "EPOCH: 29.000\ttrn_loss: 0.984\ttrn_accuracy: 0.984\t(10.43s - 61.47s remaining)\n",
      "EPOCH: 30.000\ttrn_loss: 0.984\ttrn_accuracy: 0.985\t(10.78s - 61.07s remaining)\n",
      "EPOCH: 31.000\ttrn_loss: 0.984\ttrn_accuracy: 0.986\t(11.14s - 60.75s remaining)\n",
      "EPOCH: 32.000\ttrn_loss: 0.984\ttrn_accuracy: 0.986\t(11.50s - 60.39s remaining)\n",
      "EPOCH: 33.000\ttrn_loss: 0.984\ttrn_accuracy: 0.986\t(11.86s - 60.00s remaining)\n",
      "EPOCH: 34.000\ttrn_loss: 0.984\ttrn_accuracy: 0.986\t(12.21s - 59.60s remaining)\n",
      "EPOCH: 35.000\ttrn_loss: 0.984\ttrn_accuracy: 0.986\t(12.56s - 59.21s remaining)\n",
      "EPOCH: 36.000\ttrn_loss: 0.984\ttrn_accuracy: 0.986\t(12.91s - 58.81s remaining)\n",
      "EPOCH: 37.000\ttrn_loss: 0.984\ttrn_accuracy: 0.986\t(13.26s - 58.42s remaining)\n",
      "EPOCH: 38.000\ttrn_loss: 0.984\ttrn_accuracy: 0.986\t(13.61s - 58.04s remaining)\n",
      "EPOCH: 39.000\ttrn_loss: 0.984\ttrn_accuracy: 0.986\t(13.96s - 57.65s remaining)\n",
      "EPOCH: 40.000\ttrn_loss: 0.984\ttrn_accuracy: 0.986\t(14.31s - 57.26s remaining)\n",
      "EPOCH: 41.000\ttrn_loss: 0.984\ttrn_accuracy: 0.986\t(14.66s - 56.87s remaining)\n",
      "EPOCH: 42.000\ttrn_loss: 0.984\ttrn_accuracy: 0.986\t(15.02s - 56.52s remaining)\n",
      "EPOCH: 43.000\ttrn_loss: 0.984\ttrn_accuracy: 0.986\t(15.39s - 56.18s remaining)\n",
      "EPOCH: 44.000\ttrn_loss: 0.984\ttrn_accuracy: 0.986\t(15.75s - 55.84s remaining)\n",
      "EPOCH: 45.000\ttrn_loss: 0.984\ttrn_accuracy: 0.986\t(16.11s - 55.49s remaining)\n",
      "EPOCH: 46.000\ttrn_loss: 0.984\ttrn_accuracy: 0.986\t(16.47s - 55.14s remaining)\n",
      "EPOCH: 47.000\ttrn_loss: 0.984\ttrn_accuracy: 0.986\t(16.83s - 54.79s remaining)\n",
      "EPOCH: 48.000\ttrn_loss: 0.984\ttrn_accuracy: 0.986\t(17.19s - 54.44s remaining)\n",
      "EPOCH: 49.000\ttrn_loss: 0.984\ttrn_accuracy: 0.986\t(17.55s - 54.09s remaining)\n",
      "EPOCH: 50.000\ttrn_loss: 0.984\ttrn_accuracy: 0.986\t(17.91s - 53.73s remaining)\n",
      "EPOCH: 51.000\ttrn_loss: 0.984\ttrn_accuracy: 0.986\t(18.27s - 53.38s remaining)\n",
      "EPOCH: 52.000\ttrn_loss: 0.984\ttrn_accuracy: 0.986\t(18.63s - 53.03s remaining)\n",
      "EPOCH: 53.000\ttrn_loss: 0.985\ttrn_accuracy: 0.983\t(18.99s - 52.67s remaining)\n",
      "EPOCH: 54.000\ttrn_loss: 0.985\ttrn_accuracy: 0.901\t(19.35s - 52.32s remaining)\n",
      "EPOCH: 55.000\ttrn_loss: 0.985\ttrn_accuracy: 0.752\t(19.71s - 51.96s remaining)\n",
      "EPOCH: 56.000\ttrn_loss: 0.985\ttrn_accuracy: 0.916\t(20.10s - 51.68s remaining)\n",
      "EPOCH: 57.000\ttrn_loss: 0.985\ttrn_accuracy: 0.968\t(20.47s - 51.36s remaining)\n",
      "EPOCH: 58.000\ttrn_loss: 0.985\ttrn_accuracy: 0.969\t(20.83s - 51.00s remaining)\n",
      "EPOCH: 59.000\ttrn_loss: 0.985\ttrn_accuracy: 0.970\t(21.20s - 50.67s remaining)\n",
      "EPOCH: 60.000\ttrn_loss: 0.985\ttrn_accuracy: 0.971\t(21.58s - 50.34s remaining)\n",
      "EPOCH: 61.000\ttrn_loss: 0.985\ttrn_accuracy: 0.974\t(21.93s - 49.98s remaining)\n",
      "EPOCH: 62.000\ttrn_loss: 0.985\ttrn_accuracy: 0.976\t(22.29s - 49.62s remaining)\n",
      "EPOCH: 63.000\ttrn_loss: 0.985\ttrn_accuracy: 0.973\t(22.65s - 49.25s remaining)\n",
      "EPOCH: 64.000\ttrn_loss: 0.985\ttrn_accuracy: 0.972\t(23.01s - 48.89s remaining)\n",
      "EPOCH: 65.000\ttrn_loss: 0.985\ttrn_accuracy: 0.972\t(23.37s - 48.54s remaining)\n",
      "EPOCH: 66.000\ttrn_loss: 0.985\ttrn_accuracy: 0.973\t(23.74s - 48.20s remaining)\n",
      "EPOCH: 67.000\ttrn_loss: 0.985\ttrn_accuracy: 0.972\t(24.11s - 47.87s remaining)\n",
      "EPOCH: 68.000\ttrn_loss: 0.985\ttrn_accuracy: 0.978\t(24.48s - 47.51s remaining)\n",
      "EPOCH: 69.000\ttrn_loss: 0.985\ttrn_accuracy: 0.978\t(24.83s - 47.15s remaining)\n",
      "EPOCH: 70.000\ttrn_loss: 0.985\ttrn_accuracy: 0.981\t(25.20s - 46.79s remaining)\n",
      "EPOCH: 71.000\ttrn_loss: 0.985\ttrn_accuracy: 0.981\t(25.56s - 46.43s remaining)\n",
      "EPOCH: 72.000\ttrn_loss: 0.985\ttrn_accuracy: 0.982\t(25.92s - 46.07s remaining)\n",
      "EPOCH: 73.000\ttrn_loss: 0.985\ttrn_accuracy: 0.982\t(26.28s - 45.72s remaining)\n",
      "EPOCH: 74.000\ttrn_loss: 0.985\ttrn_accuracy: 0.980\t(26.65s - 45.37s remaining)\n",
      "EPOCH: 75.000\ttrn_loss: 0.985\ttrn_accuracy: 0.979\t(27.01s - 45.02s remaining)\n",
      "EPOCH: 76.000\ttrn_loss: 0.985\ttrn_accuracy: 0.980\t(27.39s - 44.69s remaining)\n",
      "EPOCH: 77.000\ttrn_loss: 0.985\ttrn_accuracy: 0.980\t(27.75s - 44.33s remaining)\n",
      "EPOCH: 78.000\ttrn_loss: 0.985\ttrn_accuracy: 0.980\t(28.11s - 43.97s remaining)\n",
      "EPOCH: 79.000\ttrn_loss: 0.985\ttrn_accuracy: 0.980\t(28.48s - 43.62s remaining)\n",
      "EPOCH: 80.000\ttrn_loss: 0.985\ttrn_accuracy: 0.980\t(28.85s - 43.27s remaining)\n",
      "EPOCH: 81.000\ttrn_loss: 0.985\ttrn_accuracy: 0.980\t(29.21s - 42.91s remaining)\n",
      "EPOCH: 82.000\ttrn_loss: 0.985\ttrn_accuracy: 0.980\t(29.57s - 42.55s remaining)\n",
      "EPOCH: 83.000\ttrn_loss: 0.985\ttrn_accuracy: 0.980\t(29.94s - 42.21s remaining)\n",
      "EPOCH: 84.000\ttrn_loss: 0.985\ttrn_accuracy: 0.980\t(30.30s - 41.84s remaining)\n",
      "EPOCH: 85.000\ttrn_loss: 0.985\ttrn_accuracy: 0.980\t(30.66s - 41.48s remaining)\n",
      "EPOCH: 86.000\ttrn_loss: 0.985\ttrn_accuracy: 0.980\t(31.02s - 41.12s remaining)\n",
      "EPOCH: 87.000\ttrn_loss: 0.985\ttrn_accuracy: 0.981\t(31.38s - 40.76s remaining)\n",
      "EPOCH: 88.000\ttrn_loss: 0.985\ttrn_accuracy: 0.981\t(31.74s - 40.40s remaining)\n",
      "EPOCH: 89.000\ttrn_loss: 0.985\ttrn_accuracy: 0.981\t(32.10s - 40.04s remaining)\n",
      "EPOCH: 90.000\ttrn_loss: 0.985\ttrn_accuracy: 0.981\t(32.49s - 39.71s remaining)\n",
      "EPOCH: 91.000\ttrn_loss: 0.985\ttrn_accuracy: 0.981\t(32.86s - 39.36s remaining)\n",
      "EPOCH: 92.000\ttrn_loss: 0.985\ttrn_accuracy: 0.982\t(33.22s - 38.99s remaining)\n",
      "EPOCH: 93.000\ttrn_loss: 0.985\ttrn_accuracy: 0.982\t(33.57s - 38.62s remaining)\n",
      "EPOCH: 94.000\ttrn_loss: 0.985\ttrn_accuracy: 0.982\t(33.92s - 38.25s remaining)\n",
      "EPOCH: 95.000\ttrn_loss: 0.985\ttrn_accuracy: 0.982\t(34.28s - 37.89s remaining)\n",
      "EPOCH: 96.000\ttrn_loss: 0.985\ttrn_accuracy: 0.982\t(34.63s - 37.52s remaining)\n",
      "EPOCH: 97.000\ttrn_loss: 0.985\ttrn_accuracy: 0.982\t(35.00s - 37.16s remaining)\n",
      "EPOCH: 98.000\ttrn_loss: 0.985\ttrn_accuracy: 0.982\t(35.36s - 36.80s remaining)\n",
      "EPOCH: 99.000\ttrn_loss: 0.985\ttrn_accuracy: 0.982\t(35.72s - 36.44s remaining)\n",
      "EPOCH: 100.000\ttrn_loss: 0.985\ttrn_accuracy: 0.982\t(36.07s - 36.07s remaining)\n",
      "EPOCH: 101.000\ttrn_loss: 0.985\ttrn_accuracy: 0.982\t(36.43s - 35.71s remaining)\n",
      "EPOCH: 102.000\ttrn_loss: 0.985\ttrn_accuracy: 0.982\t(36.78s - 35.34s remaining)\n",
      "EPOCH: 103.000\ttrn_loss: 0.985\ttrn_accuracy: 0.983\t(37.13s - 34.97s remaining)\n",
      "EPOCH: 104.000\ttrn_loss: 0.985\ttrn_accuracy: 0.983\t(37.49s - 34.61s remaining)\n",
      "EPOCH: 105.000\ttrn_loss: 0.985\ttrn_accuracy: 0.983\t(37.86s - 34.25s remaining)\n",
      "EPOCH: 106.000\ttrn_loss: 0.985\ttrn_accuracy: 0.983\t(38.21s - 33.89s remaining)\n"
     ]
    },
    {
     "name": "stdout",
     "output_type": "stream",
     "text": [
      "EPOCH: 107.000\ttrn_loss: 0.985\ttrn_accuracy: 0.983\t(38.57s - 33.52s remaining)\n",
      "EPOCH: 108.000\ttrn_loss: 0.985\ttrn_accuracy: 0.983\t(38.92s - 33.15s remaining)\n",
      "EPOCH: 109.000\ttrn_loss: 0.985\ttrn_accuracy: 0.983\t(39.27s - 32.78s remaining)\n",
      "EPOCH: 110.000\ttrn_loss: 0.985\ttrn_accuracy: 0.983\t(39.62s - 32.42s remaining)\n",
      "EPOCH: 111.000\ttrn_loss: 0.985\ttrn_accuracy: 0.983\t(39.98s - 32.06s remaining)\n",
      "EPOCH: 112.000\ttrn_loss: 0.985\ttrn_accuracy: 0.983\t(40.35s - 31.71s remaining)\n",
      "EPOCH: 113.000\ttrn_loss: 0.985\ttrn_accuracy: 0.983\t(40.72s - 31.35s remaining)\n",
      "EPOCH: 114.000\ttrn_loss: 0.985\ttrn_accuracy: 0.983\t(41.09s - 31.00s remaining)\n",
      "EPOCH: 115.000\ttrn_loss: 0.985\ttrn_accuracy: 0.983\t(41.45s - 30.64s remaining)\n",
      "EPOCH: 116.000\ttrn_loss: 0.985\ttrn_accuracy: 0.983\t(41.82s - 30.28s remaining)\n",
      "EPOCH: 117.000\ttrn_loss: 0.985\ttrn_accuracy: 0.983\t(42.18s - 29.92s remaining)\n",
      "EPOCH: 118.000\ttrn_loss: 0.985\ttrn_accuracy: 0.983\t(42.54s - 29.56s remaining)\n",
      "EPOCH: 119.000\ttrn_loss: 0.985\ttrn_accuracy: 0.983\t(42.91s - 29.21s remaining)\n",
      "EPOCH: 120.000\ttrn_loss: 0.985\ttrn_accuracy: 0.983\t(43.28s - 28.85s remaining)\n",
      "EPOCH: 121.000\ttrn_loss: 0.985\ttrn_accuracy: 0.983\t(43.64s - 28.49s remaining)\n",
      "EPOCH: 122.000\ttrn_loss: 0.985\ttrn_accuracy: 0.983\t(43.99s - 28.12s remaining)\n",
      "EPOCH: 123.000\ttrn_loss: 0.985\ttrn_accuracy: 0.983\t(44.34s - 27.76s remaining)\n",
      "EPOCH: 124.000\ttrn_loss: 0.985\ttrn_accuracy: 0.983\t(44.69s - 27.39s remaining)\n",
      "EPOCH: 125.000\ttrn_loss: 0.985\ttrn_accuracy: 0.983\t(45.05s - 27.03s remaining)\n",
      "EPOCH: 126.000\ttrn_loss: 0.985\ttrn_accuracy: 0.983\t(45.40s - 26.66s remaining)\n",
      "EPOCH: 127.000\ttrn_loss: 0.985\ttrn_accuracy: 0.983\t(45.75s - 26.30s remaining)\n",
      "EPOCH: 128.000\ttrn_loss: 0.985\ttrn_accuracy: 0.983\t(46.10s - 25.93s remaining)\n",
      "EPOCH: 129.000\ttrn_loss: 0.985\ttrn_accuracy: 0.983\t(46.46s - 25.57s remaining)\n",
      "EPOCH: 130.000\ttrn_loss: 0.985\ttrn_accuracy: 0.983\t(46.82s - 25.21s remaining)\n",
      "EPOCH: 131.000\ttrn_loss: 0.985\ttrn_accuracy: 0.983\t(47.19s - 24.86s remaining)\n",
      "EPOCH: 132.000\ttrn_loss: 0.985\ttrn_accuracy: 0.983\t(47.58s - 24.51s remaining)\n",
      "EPOCH: 133.000\ttrn_loss: 0.985\ttrn_accuracy: 0.983\t(47.97s - 24.16s remaining)\n",
      "EPOCH: 134.000\ttrn_loss: 0.985\ttrn_accuracy: 0.983\t(48.34s - 23.81s remaining)\n",
      "EPOCH: 135.000\ttrn_loss: 0.985\ttrn_accuracy: 0.983\t(48.70s - 23.45s remaining)\n",
      "EPOCH: 136.000\ttrn_loss: 0.985\ttrn_accuracy: 0.983\t(49.06s - 23.09s remaining)\n",
      "EPOCH: 137.000\ttrn_loss: 0.985\ttrn_accuracy: 0.983\t(49.42s - 22.72s remaining)\n",
      "EPOCH: 138.000\ttrn_loss: 0.985\ttrn_accuracy: 0.984\t(49.78s - 22.36s remaining)\n",
      "EPOCH: 139.000\ttrn_loss: 0.985\ttrn_accuracy: 0.984\t(50.13s - 22.00s remaining)\n",
      "EPOCH: 140.000\ttrn_loss: 0.985\ttrn_accuracy: 0.984\t(50.49s - 21.64s remaining)\n",
      "EPOCH: 141.000\ttrn_loss: 0.985\ttrn_accuracy: 0.984\t(50.85s - 21.28s remaining)\n",
      "EPOCH: 142.000\ttrn_loss: 0.985\ttrn_accuracy: 0.984\t(51.21s - 20.92s remaining)\n",
      "EPOCH: 143.000\ttrn_loss: 0.985\ttrn_accuracy: 0.984\t(51.57s - 20.56s remaining)\n",
      "EPOCH: 144.000\ttrn_loss: 0.985\ttrn_accuracy: 0.984\t(51.93s - 20.19s remaining)\n",
      "EPOCH: 145.000\ttrn_loss: 0.985\ttrn_accuracy: 0.984\t(52.28s - 19.83s remaining)\n",
      "EPOCH: 146.000\ttrn_loss: 0.985\ttrn_accuracy: 0.984\t(52.64s - 19.47s remaining)\n",
      "EPOCH: 147.000\ttrn_loss: 0.985\ttrn_accuracy: 0.984\t(53.00s - 19.11s remaining)\n",
      "EPOCH: 148.000\ttrn_loss: 0.985\ttrn_accuracy: 0.984\t(53.36s - 18.75s remaining)\n",
      "EPOCH: 149.000\ttrn_loss: 0.985\ttrn_accuracy: 0.984\t(53.72s - 18.39s remaining)\n",
      "EPOCH: 150.000\ttrn_loss: 0.985\ttrn_accuracy: 0.984\t(54.07s - 18.02s remaining)\n",
      "EPOCH: 151.000\ttrn_loss: 0.985\ttrn_accuracy: 0.984\t(54.42s - 17.66s remaining)\n",
      "EPOCH: 152.000\ttrn_loss: 0.985\ttrn_accuracy: 0.984\t(54.77s - 17.30s remaining)\n",
      "EPOCH: 153.000\ttrn_loss: 0.985\ttrn_accuracy: 0.984\t(55.13s - 16.93s remaining)\n",
      "EPOCH: 154.000\ttrn_loss: 0.985\ttrn_accuracy: 0.984\t(55.48s - 16.57s remaining)\n",
      "EPOCH: 155.000\ttrn_loss: 0.985\ttrn_accuracy: 0.985\t(55.84s - 16.21s remaining)\n",
      "EPOCH: 156.000\ttrn_loss: 0.985\ttrn_accuracy: 0.985\t(56.20s - 15.85s remaining)\n",
      "EPOCH: 157.000\ttrn_loss: 0.985\ttrn_accuracy: 0.985\t(56.55s - 15.49s remaining)\n",
      "EPOCH: 158.000\ttrn_loss: 0.985\ttrn_accuracy: 0.985\t(56.90s - 15.13s remaining)\n",
      "EPOCH: 159.000\ttrn_loss: 0.985\ttrn_accuracy: 0.985\t(57.25s - 14.76s remaining)\n",
      "EPOCH: 160.000\ttrn_loss: 0.985\ttrn_accuracy: 0.985\t(57.63s - 14.41s remaining)\n",
      "EPOCH: 161.000\ttrn_loss: 0.985\ttrn_accuracy: 0.985\t(57.99s - 14.05s remaining)\n",
      "EPOCH: 162.000\ttrn_loss: 0.985\ttrn_accuracy: 0.985\t(58.34s - 13.68s remaining)\n",
      "EPOCH: 163.000\ttrn_loss: 0.985\ttrn_accuracy: 0.985\t(58.70s - 13.32s remaining)\n",
      "EPOCH: 164.000\ttrn_loss: 0.985\ttrn_accuracy: 0.985\t(59.05s - 12.96s remaining)\n",
      "EPOCH: 165.000\ttrn_loss: 0.985\ttrn_accuracy: 0.985\t(59.41s - 12.60s remaining)\n",
      "EPOCH: 166.000\ttrn_loss: 0.985\ttrn_accuracy: 0.985\t(59.76s - 12.24s remaining)\n",
      "EPOCH: 167.000\ttrn_loss: 0.985\ttrn_accuracy: 0.985\t(60.11s - 11.88s remaining)\n",
      "EPOCH: 168.000\ttrn_loss: 0.985\ttrn_accuracy: 0.985\t(60.47s - 11.52s remaining)\n",
      "EPOCH: 169.000\ttrn_loss: 0.985\ttrn_accuracy: 0.985\t(60.84s - 11.16s remaining)\n",
      "EPOCH: 170.000\ttrn_loss: 0.985\ttrn_accuracy: 0.985\t(61.20s - 10.80s remaining)\n",
      "EPOCH: 171.000\ttrn_loss: 0.985\ttrn_accuracy: 0.986\t(61.56s - 10.44s remaining)\n",
      "EPOCH: 172.000\ttrn_loss: 0.985\ttrn_accuracy: 0.986\t(61.92s - 10.08s remaining)\n",
      "EPOCH: 173.000\ttrn_loss: 0.985\ttrn_accuracy: 0.986\t(62.27s - 9.72s remaining)\n",
      "EPOCH: 174.000\ttrn_loss: 0.985\ttrn_accuracy: 0.986\t(62.63s - 9.36s remaining)\n",
      "EPOCH: 175.000\ttrn_loss: 0.985\ttrn_accuracy: 0.986\t(62.99s - 9.00s remaining)\n",
      "EPOCH: 176.000\ttrn_loss: 0.985\ttrn_accuracy: 0.986\t(63.35s - 8.64s remaining)\n",
      "EPOCH: 177.000\ttrn_loss: 0.985\ttrn_accuracy: 0.986\t(63.71s - 8.28s remaining)\n",
      "EPOCH: 178.000\ttrn_loss: 0.985\ttrn_accuracy: 0.986\t(64.09s - 7.92s remaining)\n",
      "EPOCH: 179.000\ttrn_loss: 0.985\ttrn_accuracy: 0.986\t(64.46s - 7.56s remaining)\n",
      "EPOCH: 180.000\ttrn_loss: 0.985\ttrn_accuracy: 0.986\t(64.82s - 7.20s remaining)\n",
      "EPOCH: 181.000\ttrn_loss: 0.985\ttrn_accuracy: 0.986\t(65.18s - 6.84s remaining)\n",
      "EPOCH: 182.000\ttrn_loss: 0.985\ttrn_accuracy: 0.986\t(65.53s - 6.48s remaining)\n",
      "EPOCH: 183.000\ttrn_loss: 0.985\ttrn_accuracy: 0.986\t(65.89s - 6.12s remaining)\n",
      "EPOCH: 184.000\ttrn_loss: 0.985\ttrn_accuracy: 0.986\t(66.25s - 5.76s remaining)\n",
      "EPOCH: 185.000\ttrn_loss: 0.985\ttrn_accuracy: 0.986\t(66.61s - 5.40s remaining)\n",
      "EPOCH: 186.000\ttrn_loss: 0.985\ttrn_accuracy: 0.986\t(66.97s - 5.04s remaining)\n",
      "EPOCH: 187.000\ttrn_loss: 0.985\ttrn_accuracy: 0.986\t(67.33s - 4.68s remaining)\n",
      "EPOCH: 188.000\ttrn_loss: 0.985\ttrn_accuracy: 0.986\t(67.71s - 4.32s remaining)\n",
      "EPOCH: 189.000\ttrn_loss: 0.985\ttrn_accuracy: 0.986\t(68.07s - 3.96s remaining)\n",
      "EPOCH: 190.000\ttrn_loss: 0.985\ttrn_accuracy: 0.986\t(68.43s - 3.60s remaining)\n",
      "EPOCH: 191.000\ttrn_loss: 0.985\ttrn_accuracy: 0.986\t(68.79s - 3.24s remaining)\n",
      "EPOCH: 192.000\ttrn_loss: 0.985\ttrn_accuracy: 0.986\t(69.14s - 2.88s remaining)\n",
      "EPOCH: 193.000\ttrn_loss: 0.985\ttrn_accuracy: 0.986\t(69.51s - 2.52s remaining)\n",
      "EPOCH: 194.000\ttrn_loss: 0.985\ttrn_accuracy: 0.986\t(69.87s - 2.16s remaining)\n",
      "EPOCH: 195.000\ttrn_loss: 0.985\ttrn_accuracy: 0.986\t(70.23s - 1.80s remaining)\n",
      "EPOCH: 196.000\ttrn_loss: 0.985\ttrn_accuracy: 0.986\t(70.58s - 1.44s remaining)\n",
      "EPOCH: 197.000\ttrn_loss: 0.985\ttrn_accuracy: 0.986\t(70.94s - 1.08s remaining)\n",
      "EPOCH: 198.000\ttrn_loss: 0.985\ttrn_accuracy: 0.986\t(71.29s - 0.72s remaining)\n",
      "EPOCH: 199.000\ttrn_loss: 0.985\ttrn_accuracy: 0.986\t(71.65s - 0.36s remaining)\n",
      "EPOCH: 200.000\ttrn_loss: 0.985\ttrn_accuracy: 0.986\t(72.00s - 0.00s remaining)\n",
      "[INFO] Saving activations!\n"
     ]
    },
    {
     "name": "stderr",
     "output_type": "stream",
     "text": [
      "100%|███████████████████████████████████████████| 76/76 [00:02<00:00, 34.71it/s]\n",
      "100%|██████████████████████████████████████| 301/301 [00:00<00:00, 48265.68it/s]\n",
      "100%|██████████████████████████████████████| 301/301 [00:00<00:00, 47185.14it/s]\n"
     ]
    },
    {
     "data": {
      "image/png": "[encoded data removed]",
      "text/plain": [
       "<Figure size 576x432 with 1 Axes>"
      ]
     },
     "metadata": {
      "needs_background": "light"
     },
     "output_type": "display_data"
    },
    {
     "data": {
      "image/png": "[encoded data removed]",
      "text/plain": [
       "<Figure size 576x432 with 1 Axes>"
      ]
     },
     "metadata": {
      "needs_background": "light"
     },
     "output_type": "display_data"
    }
   ],
   "source": [
    "train_loop(\n",
    "    epochs=200,\n",
    "    model=unet,\n",
    "    dataloader=train_dataloader,\n",
    "    lr=1e-3,\n",
    "    loss_function=loss_fuctions[\"dice\"],\n",
    "    weights=[1, 1], # Classes weights (Background and Foreground)\n",
    "    freeze_encoder=False,\n",
    "    use_lr_scheduler=True\n",
    ")"
   ]
  },
  {
   "cell_type": "markdown",
   "metadata": {},
   "source": [
    "Finally, we also benchmark our model:"
   ]
  },
  {
   "cell_type": "code",
   "execution_count": 27,
   "metadata": {
    "tags": []
   },
   "outputs": [
    {
     "name": "stdout",
     "output_type": "stream",
     "text": [
      "[INFO] Training Metrics\n"
     ]
    },
    {
     "name": "stderr",
     "output_type": "stream",
     "text": [
      "76it [00:00, 109.68it/s]"
     ]
    },
    {
     "name": "stdout",
     "output_type": "stream",
     "text": [
      "[INFO] Avg Accuracy: 0.9856545329093933 +/- 0.011624924838542938\n",
      "[INFO] Avg Dice: 0.0 +/- 0.0\n",
      "[INFO] Avg IoU: 0.26310375646540995 +/- 0.24309740775173927\n"
     ]
    },
    {
     "name": "stderr",
     "output_type": "stream",
     "text": [
      "\n"
     ]
    }
   ],
   "source": [
    "print(\"[INFO] Training Metrics\")\n",
    "predict_and_evaluate(model=unet, data_loader=train_dataloader)"
   ]
  },
  {
   "cell_type": "code",
   "execution_count": 28,
   "metadata": {
    "tags": []
   },
   "outputs": [
    {
     "name": "stdout",
     "output_type": "stream",
     "text": [
      "[INFO] Test Metrics\n"
     ]
    },
    {
     "name": "stderr",
     "output_type": "stream",
     "text": [
      "20it [00:00, 106.00it/s]"
     ]
    },
    {
     "name": "stdout",
     "output_type": "stream",
     "text": [
      "[INFO] Avg Accuracy: 0.9856222867965698 +/- 0.01235754694789648\n",
      "[INFO] Avg Dice: 0.0005930318754633062 +/- 0.002584966015442949\n",
      "[INFO] Avg IoU: 0.2684876054525375 +/- 0.24287495566915993\n"
     ]
    },
    {
     "name": "stderr",
     "output_type": "stream",
     "text": [
      "\n"
     ]
    }
   ],
   "source": [
    "print(\"[INFO] Test Metrics\")\n",
    "predict_and_evaluate(model=unet, data_loader=test_dataloader)"
   ]
  },
  {
   "cell_type": "markdown",
   "metadata": {},
   "source": [
    "Depending on the quality of the image markers, fine-tuning may improve the FLIM-Encoder. However, the learning rate scheduler plays a role in the process. "
   ]
  },
  {
   "cell_type": "markdown",
   "metadata": {},
   "source": [
    "## 10. Run inferences with FLIM-Encoder using an adaptive decoder."
   ]
  },
  {
   "cell_type": "markdown",
   "metadata": {},
   "source": [
    "Here, we will use an adaptive Decoder to segment our parasites."
   ]
  },
  {
   "cell_type": "markdown",
   "metadata": {},
   "source": [
    "First, we define an U-Net model and Load FLIM-Encoder weights:"
   ]
  },
  {
   "cell_type": "code",
   "execution_count": 61,
   "metadata": {
    "tags": []
   },
   "outputs": [
    {
     "name": "stdout",
     "output_type": "stream",
     "text": [
      "[INFO] Loading FLIM Encoder\n",
      "[INFO] Loading Layer 1 weights\n",
      "torch.Size([24, 3, 7, 7])\n",
      "[INFO] Loading Layer 2 weights\n",
      "torch.Size([24, 24, 7, 7])\n",
      "[INFO] Saving activations!\n"
     ]
    },
    {
     "name": "stderr",
     "output_type": "stream",
     "text": [
      "100%|███████████████████████████████████████████| 76/76 [00:06<00:00, 10.98it/s]\n"
     ]
    }
   ],
   "source": [
    "unet = UNet(\n",
    "    in_channels=3,\n",
    "    n_kernels=[\n",
    "        arch_description[\"layer1\"][\"conv\"][\"noutput_channels\"],\n",
    "        arch_description[\"layer2\"][\"conv\"][\"noutput_channels\"],\n",
    "    ],\n",
    "    kernel_sizes=[\n",
    "        arch_description[\"layer1\"][\"conv\"][\"kernel_size\"][0],\n",
    "        arch_description[\"layer2\"][\"conv\"][\"kernel_size\"][0], \n",
    "    ],\n",
    "    bottleneck_size=3,\n",
    "    activations_path=DATA_PATH / Path(\"exper/FLIM_ENC_lr_scheduler\")\n",
    ").to(DEVICE)\n",
    "\n",
    "load_FLIM_encoder(\n",
    "    model=unet,\n",
    "    arch_json=ARCH_JSON,\n",
    "    weights_path=WEIGHTS_PATH,\n",
    "    channels=[\n",
    "        3,\n",
    "        arch_description[\"layer1\"][\"conv\"][\"noutput_channels\"],\n",
    "        arch_description[\"layer2\"][\"conv\"][\"noutput_channels\"],\n",
    "    ] # [Input Channels, Kernels Layer 1, Kernels Layer 2, ....]\n",
    ")\n",
    "\n",
    "unet.save_activations(0,train_dataloader)\n",
    "\n",
    "#print(unet.block2[0].weight.data.shape)\n",
    "#print(unet.block2[0].bias.data)"
   ]
  },
  {
   "cell_type": "markdown",
   "metadata": {},
   "source": [
    "We define some utilitarian functions. `erase_frame` sets the frame border to zero. Some activations also actives for the frame border and could be misinterpreted as background. `get_adaptive_weight` gets weights for the activations, where activations with many activated pixels are set as background (weight=-1), and the opposite as foreground (weight=1)."
   ]
  },
  {
   "cell_type": "code",
   "execution_count": 58,
   "metadata": {
    "tags": []
   },
   "outputs": [],
   "source": [
    "# Zero-out frame border\n",
    "def erase_frame(activation, n):\n",
    "    activation[:n, :] = 0\n",
    "    activation[-n: :] = 0\n",
    "    activation[:, :n] = 0\n",
    "    activation[:, -n:] = 0\n",
    "    \n",
    "    return activation\n",
    "\n",
    "\"\"\"\n",
    "Get activation weight, given the amount of voxels activated.\n",
    "Background activations usually activate most of the image; hence, we set its weight as -1.\n",
    "\"\"\"\n",
    "def get_adaptive_weight(activation, perc_thres):\n",
    "    n_elements = activation.shape[0] * activation.shape[1]\n",
    "    i_max = np.max(activation)\n",
    "    i_min = np.min(activation)\n",
    "    if i_max != i_min:\n",
    "        image = 255 * (activation - i_min) / (i_max - i_min)\n",
    "    else:\n",
    "        image = activation\n",
    "    image = image.astype(np.uint8)\n",
    "    \n",
    "    threshold, _ = cv2.threshold(\n",
    "        image, 0, 255, cv2.THRESH_BINARY+cv2.THRESH_OTSU\n",
    "    )\n",
    "    \n",
    "    bin_image = image > threshold\n",
    "    n_activations = np.sum(bin_image)\n",
    "    \n",
    "    if n_activations > (perc_thres * n_elements):\n",
    "        weight = -1\n",
    "    else:\n",
    "        weight = 1\n",
    "        \n",
    "    return weight"
   ]
  },
  {
   "cell_type": "markdown",
   "metadata": {},
   "source": [
    "Our adaptive Decoder works as follows:\n",
    "\n",
    "1. We will instantiate a U-Net and load our FLIM weights\n",
    "2. We start from the lowest encoder block and:\n",
    "    1. For each activation, we verify if it has a background (weight = -1) or a foreground activation (weight = 1);\n",
    "    2. We sum all activations into a single saliency map, using its weight (-1 or 1);\n",
    "    3. Based on this saliency map, we get the coordinates of the largest contour;\n",
    "    4. We repeat steps 1 to 2 for the upper layer; however, we zero activations outside the largest contour activations (avoid false positives).\n",
    "3. Based on the saliency map of the first layer, we compute our metrics."
   ]
  },
  {
   "cell_type": "code",
   "execution_count": 59,
   "metadata": {
    "tags": []
   },
   "outputs": [],
   "source": [
    "def adaptive_decoder(model, dataloader, image_id):\n",
    "    # Get an image and pass it through the network \n",
    "    image_data = train_dataloader.dataset.image_transforms(\n",
    "            Image.open(train_dataloader.dataset.images_path[image_id])\n",
    "        )\n",
    "    ground_truth = train_dataloader.dataset.label_transforms(\n",
    "        ImageOps.grayscale(Image.open(train_dataloader.dataset.labels_path[image_id]))\n",
    "    )\n",
    "    ground_truth = ground_truth.cpu().detach().numpy()[0]\n",
    "    image_data = torch.unsqueeze(image_data, dim=0)\n",
    "    image_data = image_data.to(DEVICE)\n",
    "\n",
    "    unet.to(DEVICE)\n",
    "    unet(image_data)\n",
    "    encoder_activations = unet.activations[\"encoder\"]\n",
    "  \n",
    "    activations = encoder_activations[1].cpu().detach().numpy()[0]\n",
    "    \n",
    "    saliency    = np.zeros_like(activations[0])\n",
    "    for activation in activations:\n",
    "        activation = erase_frame(activation, 3)\n",
    "        weight = get_adaptive_weight(activation, 0.1)\n",
    "        saliency += weight * activation\n",
    "     \n",
    "    saliency[saliency < 0] = 0 # RELU\n",
    "    \n",
    "    # Scale to the ground truth size\n",
    "    saliency = cv2.resize(saliency, dsize=(240, 240), interpolation=cv2.INTER_LINEAR)\n",
    "    \n",
    "    plt.imshow(saliency,cmap=\"gray\")\n",
    "    plt.show()\n",
    "    \n",
    "    # Gets the largest contour\n",
    "    # Binarizes image\n",
    "    \n",
    "    i_max = np.max(saliency)\n",
    "    i_min = np.min(saliency)\n",
    "    if i_max != i_min:\n",
    "        image = 255 * (saliency - i_min) / (i_max - i_min)\n",
    "        image = image.astype(np.uint8)\n",
    "        threshold, _ = cv2.threshold(\n",
    "        image, 0, 255, cv2.THRESH_BINARY+cv2.THRESH_OTSU)\n",
    "        image = image > threshold\n",
    "        contours, hierarchy = cv2.findContours(image.astype(np.uint8), cv2.RETR_TREE, cv2.CHAIN_APPROX_SIMPLE)\n",
    "        contour = max(contours, key = cv2.contourArea)\n",
    "        x_initial, y_initial, width, height = cv2.boundingRect(contour)\n",
    "        x_final = x_initial + width\n",
    "        y_final = y_initial + height\n",
    "        tmp_array = np.zeros_like(saliency)\n",
    "        tmp_array[y_initial:y_final, x_initial:x_final] = image[y_initial:y_final, x_initial:x_final]\n",
    "        saliency = tmp_array\n",
    "         \n",
    "    # Computes metrics\n",
    "    jaccard_index = JaccardIndex(num_classes=2, task=\"binary\")\n",
    "    accuracy = np.mean((saliency == ground_truth).astype(np.float32))\n",
    "    dice = binary.dc(saliency, ground_truth)\n",
    "    iou = jaccard_index(torch.Tensor(saliency).long(), torch.Tensor(ground_truth).long())\n",
    "\n",
    "    print(f\"[INFO] Accuracy: {accuracy}\")\n",
    "    print(f\"[INFO] Dice: {dice}\")\n",
    "    print(f\"[INFO] IoU: {iou}\")\n",
    "    \n",
    "    plt.subplot(121)\n",
    "    plt.imshow(saliency, cmap=\"gray\")\n",
    "    plt.yticks([]),plt.xticks([])\n",
    "    plt.title(f\"Prediction\")\n",
    "    plt.subplot(122)\n",
    "    plt.imshow(ground_truth, cmap=\"gray\")\n",
    "    plt.yticks([]),plt.xticks([])\n",
    "    plt.title(f\"Ground Truth\")"
   ]
  },
  {
   "cell_type": "code",
   "execution_count": 60,
   "metadata": {
    "tags": []
   },
   "outputs": [
    {
     "data": {
      "image/png": "[encoded data removed]",
      "text/plain": [
       "<Figure size 432x288 with 1 Axes>"
      ]
     },
     "metadata": {
      "needs_background": "light"
     },
     "output_type": "display_data"
    },
    {
     "name": "stdout",
     "output_type": "stream",
     "text": [
      "[INFO] Accuracy: 0.9678124785423279\n",
      "[INFO] Dice: 0.0\n",
      "[INFO] IoU: 0.48390623927116394\n"
     ]
    },
    {
     "data": {
      "image/png": "[encoded data removed]",
      "text/plain": [
       "<Figure size 432x288 with 2 Axes>"
      ]
     },
     "metadata": {},
     "output_type": "display_data"
    }
   ],
   "source": [
    "adaptive_decoder(\n",
    "    model=unet,\n",
    "    dataloader=train_dataloader, \n",
    "    image_id=0\n",
    ")"
   ]
  },
  {
   "cell_type": "markdown",
   "metadata": {},
   "source": [
    "## Extra - Activities\n",
    "\n",
    "- Try different losses and Class weights (weights parameter on train_loop). Could you increase performance metrics?\n",
    "- Try to improve the adaptive decoder. Could you implement any modification that increases performance metrics? And about problematic images, how would you tackle them?\n",
    "- Could you apply post-processing on predicted masks to increase performance metrics (e.g., morphological operations)?\n",
    "- Could you replicate the adaptive decoder to the whole dataset?"
   ]
  }
 ],
 "metadata": {
  "kernelspec": {
   "display_name": "Python 3 (ipykernel)",
   "language": "python",
   "name": "python3"
  },
  "language_info": {
   "codemirror_mode": {
    "name": "ipython",
    "version": 3
   },
   "file_extension": ".py",
   "mimetype": "text/x-python",
   "name": "python",
   "nbconvert_exporter": "python",
   "pygments_lexer": "ipython3",
   "version": "3.10.11"
  }
 },
 "nbformat": 4,
 "nbformat_minor": 4
}
